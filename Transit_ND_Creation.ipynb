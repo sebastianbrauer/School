{
 "cells": [
  {
   "cell_type": "code",
   "execution_count": 12,
   "metadata": {},
   "outputs": [],
   "source": [
    "# Download and extract the road data, replace the url with your data\n",
    "\n",
    "import zipfile\n",
    "import requests\n",
    "\n",
    "def download_roads(url, road_path):\n",
    "    response = requests.get(url)\n",
    "    file_path = road_path + '\\\\' + 'roads.zip'\n",
    "    with open(file_path, 'wb') as file:\n",
    "        file.write(response.content)\n",
    "\n",
    "    with zipfile.ZipFile(file_path, 'r') as zip_ref:\n",
    "        zip_ref.extractall(road_path)\n",
    "        \n",
    "download_roads('https://resources.gisdata.mn.gov/pub/gdrs/data/pub/us_mn_state_metrogis/trans_road_centerlines_gac/shp_trans_road_centerlines_gac.zip', \n",
    "              r'C:\\School\\GIS 5571\\Local\\Final Project Data\\Data')"
   ]
  },
  {
   "cell_type": "code",
   "execution_count": null,
   "metadata": {},
   "outputs": [],
   "source": [
    "def download_GTFS(url, GTFS_path):\n",
    "    response = requests.get(url)\n",
    "    file_path = GTFS_path + '\\\\' + 'GTFS.zip'\n",
    "    with open(file_path, 'wb') as file:\n",
    "        file.write(response.content)\n",
    "\n",
    "    with zipfile.ZipFile(file_path, 'r') as zip_ref:\n",
    "        zip_ref.extractall(GTFS_path)\n",
    "        \n",
    "download_GTFS('https://svc.metrotransit.org/mtgtfs/archive/gtfs20230923.zip', r'C:\\School\\GIS 5571\\Local\\Final Project Data\\Data\\GTFS')"
   ]
  },
  {
   "cell_type": "code",
   "execution_count": 10,
   "metadata": {},
   "outputs": [],
   "source": [
    "# Create file geodatabse and feature dataset\n",
    "\n",
    "def create_gdb_and_fds(path, name, spatial_ref):\n",
    "    arcpy.management.CreateFileGDB(path, name)\n",
    "    \n",
    "    feature_dataset_name = 'NetworkFeatureDataset'\n",
    "    spatial_reference = arcpy.SpatialReference(spatial_ref)\n",
    "    arcpy.management.CreateFeatureDataset((path + '\\\\' + name), feature_dataset_name, spatial_reference)\n",
    "    \n",
    "#create_gdb_and_fds(r'C:\\School\\GIS 5571\\Local\\Final Project Data\\Data\\Network Dataset Data', 'Updated_Network1.gdb', 26915)"
   ]
  },
  {
   "cell_type": "code",
   "execution_count": 11,
   "metadata": {},
   "outputs": [],
   "source": [
    "# Adding the GTFS and Street data to the new feature dataset\n",
    "\n",
    "def add_layers_to_gdb(GTFS_Folder, road_shp):\n",
    "    target_feature_dataset = 'NetworkFeatureDataset'\n",
    "    arcpy.GTFSToPublicTransitDataModel_transit(GTFS_Folder, target_feature_dataset)\n",
    "    \n",
    "    out_feature_class = 'NetworkFeatureDataset\\Streets'\n",
    "    arcpy.CopyFeatures_management(road_shp, out_feature_class)\n",
    "    \n",
    "#add_layers_to_gdb(r'C:\\School\\GEOG 8294\\Final Project Data Testing\\Data\\GTFS_Updated_Scenario_1', r'C:\\School\\GIS 5571\\Local\\Final Project Data\\Data\\RoadCenterline.shp')"
   ]
  },
  {
   "cell_type": "code",
   "execution_count": 12,
   "metadata": {},
   "outputs": [],
   "source": [
    "# Adding the ROAD_CLASS and RestrictPedestrians fields to the streets data\n",
    "\n",
    "def restrict_peds(input_field, input_query):\n",
    "    input_dataset = 'Streets'\n",
    "    arcpy.AddField_management(input_dataset, 'ROAD_CLASS', 'TEXT')\n",
    "    arcpy.CalculateField_management(input_dataset, 'ROAD_CLASS', f'!{input_field}!', \"PYTHON3\", '')\n",
    "    arcpy.AddField_management(input_dataset, 'RestrictPedestrians', \"TEXT\")\n",
    "    \n",
    "    arcpy.SelectLayerByAttribute_management(input_dataset, \"NEW_SELECTION\", input_query)\n",
    "    \n",
    "    expression = \"'Y'\"\n",
    "    arcpy.CalculateField_management(input_dataset, 'RestrictPedestrians', expression, \"PYTHON3\", '')\n",
    "    arcpy.SelectLayerByAttribute_management(input_dataset, \"CLEAR_SELECTION\")\n",
    "    \n",
    "#restrict_peds('CARTOCLASS', \"ROAD_CLASS = 'Freeway' Or ROAD_CLASS = 'Private' Or ROAD_CLASS = 'Ramp'\")"
   ]
  },
  {
   "cell_type": "code",
   "execution_count": 13,
   "metadata": {},
   "outputs": [],
   "source": [
    "# Connecting the streets to the network stops and line elements\n",
    "\n",
    "def connect_streets():\n",
    "    target_feature_dataset = 'NetworkFeatureDataset'\n",
    "    in_streets_features=\"Streets\"\n",
    "    search_distance=\"100 Meters\"\n",
    "    expression=\"RestrictPedestrians IS NULL\"\n",
    "    arcpy.ConnectPublicTransitDataModelToStreets_transit(target_feature_dataset, in_streets_features, search_distance, expression)\n",
    "    \n",
    "#connect_streets()"
   ]
  },
  {
   "cell_type": "code",
   "execution_count": 14,
   "metadata": {},
   "outputs": [],
   "source": [
    "def create_ND(template_path):\n",
    "    output_feature_dataset = 'NetworkFeatureDataset'\n",
    "    arcpy.CreateNetworkDatasetFromTemplate_na(template_path, output_feature_dataset)\n",
    "    \n",
    "#create_ND(r'C:\\Users\\smbra\\Downloads\\TransitNetworkTemplate.xml')"
   ]
  },
  {
   "cell_type": "code",
   "execution_count": 15,
   "metadata": {},
   "outputs": [],
   "source": [
    "def build_ND():\n",
    "    in_network_dataset = 'NetworkFeatureDataset\\TransitNetwork_ND'\n",
    "    arcpy.BuildNetwork_na(in_network_dataset)\n",
    "    \n",
    "#build_ND()"
   ]
  },
  {
   "cell_type": "code",
   "execution_count": 27,
   "metadata": {},
   "outputs": [],
   "source": [
    "# create the service area analysis for every input stop in the dataset\n",
    "\n",
    "def service_area_analysis(in_stops, date, time_cutoffs, scenario_number):\n",
    "    output_class = \"In_Stops_Dissolve\"\n",
    "    arcpy.management.Dissolve(in_stops, output_class, \"stop_id\")\n",
    "    index = 1\n",
    "    \n",
    "    with arcpy.da.SearchCursor(in_stops, 'arrival_time') as cursor:\n",
    "        for row in cursor:\n",
    "            arr_time = row[0]\n",
    "    \n",
    "            time_date = f'{date} {arr_time}'\n",
    "            arrival_time = datetime.strptime(time_date, '%b %d %Y %H:%M:%S')\n",
    "\n",
    "            network_data_source = 'NetworkFeatureDataset\\TransitNetwork_ND'\n",
    "            arcpy.MakeServiceAreaAnalysisLayer_na(network_data_source, layer_name = f'Service Area Stop Scenario {scenario_number}b {index}', cutoffs = time_cutoffs, time_of_day = arrival_time)\n",
    "\n",
    "            in_network_analysis_layer = f'Service Area Stop Scenario {scenario_number}b {index}'\n",
    "            sub_layer = 'Facilities'\n",
    "            \n",
    "            arcpy.AddLocations_na(in_network_analysis_layer, sub_layer, output_class)\n",
    "    \n",
    "            arcpy.Solve_na(in_network_analysis_layer)\n",
    "            index = index + 1\n",
    "            \n",
    "    arcpy.management.Delete(output_class)\n",
    "    \n",
    "service_area_analysis(r'C:\\School\\GEOG 8294\\Final Project Data Testing\\Final_Scratchspace\\Final_Scratchspace.gdb\\In_Stops_Sce_2', 'Nov 1 2023', [20, 30], 2)"
   ]
  },
  {
   "cell_type": "code",
   "execution_count": 22,
   "metadata": {},
   "outputs": [],
   "source": [
    "# user input for the main function\n",
    "\n",
    "from datetime import datetime\n",
    "\n",
    "gdb_path = r'C:\\School\\GIS 5571\\Local\\Final Project Data\\Data\\Network Dataset Data' # path to new geodatabase\n",
    "gdb_name = 'Updated_Network2.gdb' # new geodatabase name\n",
    "spatial_ref = 26915 # network dataset spatial reference\n",
    "GTFS_Folder = r'C:\\School\\GEOG 8294\\Final Project Data Testing\\Data\\GTFS_Updated_Scenario_2' # path to GTFS Data\n",
    "roads_path = r'C:\\School\\GIS 5571\\Local\\Final Project Data\\Data\\RoadCenterline.shp' # path to road data\n",
    "input_field = 'CARTOCLASS' # attribute name for the field that determines the road class\n",
    "input_query = \"ROAD_CLASS = 'Freeway' Or ROAD_CLASS = 'Private' Or ROAD_CLASS = 'Ramp'\" # road class values that should be marked as 'Y', replace the road types with values in the input data\n",
    "template_path = r'C:\\Users\\smbra\\Downloads\\TransitNetworkTemplate.xml'\n",
    "in_stops_path = r'C:\\School\\GEOG 8294\\Final Project Data Testing\\Final_Scratchspace\\Final_Scratchspace.gdb\\In_Stops_Sce_2'\n",
    "date = 'Nov 1 2023'\n",
    "cutoffs = [20, 30]\n",
    "scenario = 2\n",
    "\n",
    "arcpy.env.workspace = f'{gdb_path}\\\\{gdb_name}'"
   ]
  },
  {
   "cell_type": "code",
   "execution_count": 26,
   "metadata": {},
   "outputs": [],
   "source": [
    "def main(gdb_path, gdb_name, spatial_ref, GTFS_Folder, roads_path, input_field, input_query, template_path, in_stops_path, date, cutoffs, scenario):\n",
    "    create_gdb_and_fds(gdb_path, gdb_name, spatial_ref)\n",
    "    add_layers_to_gdb(GTFS_Folder, roads_path)\n",
    "    restrict_peds(input_field, input_query)\n",
    "    connect_streets()\n",
    "    create_ND(template_path)\n",
    "    build_ND()\n",
    "    service_area_analysis(in_stops_path, date, cutoffs, scenario)\n",
    "    \n",
    "main(gdb_path, gdb_name, spatial_ref, GTFS_Folder, roads_path, input_field, input_query, template_path, in_stops_path, date, cutoffs, scenario) "
   ]
  },
  {
   "cell_type": "code",
   "execution_count": null,
   "metadata": {},
   "outputs": [],
   "source": []
  }
 ],
 "metadata": {
  "kernelspec": {
   "display_name": "ArcGISPro",
   "language": "Python",
   "name": "python3"
  },
  "language_info": {
   "file_extension": ".py",
   "name": "python",
   "version": "3"
  }
 },
 "nbformat": 4,
 "nbformat_minor": 2
}
