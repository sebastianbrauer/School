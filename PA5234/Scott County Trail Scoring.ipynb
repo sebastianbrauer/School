{
 "cells": [
  {
   "cell_type": "code",
   "execution_count": 19,
   "metadata": {},
   "outputs": [
    {
     "data": {
      "text/html": [
       "<div class='gpresult'><h2>Messages</h2><div id='messages' data-messages='[\"Start Time: Monday, April 22, 2024 3:22:20 PM\",\"Succeeded at Monday, April 22, 2024 3:22:20 PM (Elapsed Time: 0.16 seconds)\"]' data-show='true'><div id = 'default' /></div></div>"
      ],
      "text/plain": [
       "<Result 'PlacesofInterest_Bu_Dissolve'>"
      ]
     },
     "execution_count": 19,
     "metadata": {},
     "output_type": "execute_result"
    }
   ],
   "source": [
    "'''\n",
    "This code is being provided to Scott County in order to run additional trail scorecard analyses with other input data. Please note\n",
    "that the input data will need to follow certain standards described in the functions.\n",
    "'''\n",
    "\n",
    "# create the poi area score\n",
    "\n",
    "arcpy.env.workspace = r'C:\\School\\PA 5234\\Scott County\\Scott County.gdb' # insert path to workspace here\n",
    "poi_layer_name = 'PlacesofInterest' # insert layer name here\n",
    "\n",
    "arcpy.AddField_management(poi_layer_name, \"points\", \"LONG\") # Add a new field called 'points' of type long\n",
    "arcpy.CalculateField_management(poi_layer_name, \"points\", 1, \"PYTHON3\") # Set all 'points' values to 1\n",
    "\n",
    "buffered_layer = \"PlacesofInterest_Buffer\" # name of buffer layer\n",
    "arcpy.Buffer_analysis(poi_layer_name, buffered_layer, \"0.5 Miles\") # create 0.5 mile buffer\n",
    "\n",
    "union_layer = \"PlacesofInterest_Buffe_Union\" # name of union layer\n",
    "arcpy.Union_analysis(\"PlacesofInterest_Buffer #\", union_layer) # union layer\n",
    "\n",
    "dissolved_layer = \"PlacesofInterest_Bu_Dissolve\" # name of dissolve layer\n",
    "arcpy.Dissolve_management(union_layer, dissolved_layer, \"Shape_Area\", [[\"points\", \"SUM\"]], \"SINGLE_PART\") # dissolve layer while summing points\n",
    "\n",
    "where_clause = \"SUM_points = 24\" # select features where SUM_Points equals 24 for all of the circles that don't overlap with any others\n",
    "arcpy.management.SelectLayerByAttribute(dissolved_layer, \"NEW_SELECTION\", where_clause)\n",
    "\n",
    "arcpy.management.CalculateField(dissolved_layer, \"SUM_points\", 1, \"PYTHON3\", \"\") # calculate field to update SUM_Points to 1 for selected features\n",
    "arcpy.management.SelectLayerByAttribute(dissolved_layer, \"CLEAR_SELECTION\") # clear the selection"
   ]
  },
  {
   "cell_type": "code",
   "execution_count": 20,
   "metadata": {},
   "outputs": [
    {
     "data": {
      "text/html": [
       "<div class='gpresult'><h2>Messages</h2><div id='messages' data-messages='[\"Start Time: Monday, April 22, 2024 3:25:49 PM\",\"Reading Features...\",\"Cracking Features...\",\"Assembling Features...\",\"Succeeded at Monday, April 22, 2024 3:25:55 PM (Elapsed Time: 5.35 seconds)\"]' data-show='true'><div id = 'default' /></div></div>"
      ],
      "text/plain": [
       "<Result 'C:\\\\School\\\\PA 5234\\\\Scott County\\\\Scott County.gdb\\\\Final_Union'>"
      ]
     },
     "execution_count": 20,
     "metadata": {},
     "output_type": "execute_result"
    }
   ],
   "source": [
    "'''This code takes in the four layers to create the final surface, the names of the layers and the reclass scores are needed.'''\n",
    "\n",
    "public_ownership = 'PublicParcels_MetroCTUs' # public parcel layer\n",
    "land_use = 'GeneralizedLandUse2020_Clip' # generalized land use layer\n",
    "pop_density = 'Census2020TigerBlock_Scott' # census block layer\n",
    "poi_score = dissolved_layer # calling back to layer name from earlier cell\n",
    "\n",
    "union_layers = f'{public_ownership} #;{land_use} #;{pop_density} #;{poi_score} #' # set the union expressesion string based on layer names\n",
    "union_layer_name = 'Final_Union' # set the output layer name\n",
    "arcpy.Union_analysis(union_layers, union_layer_name, \"NO_FID\") # run the union analysis"
   ]
  },
  {
   "cell_type": "code",
   "execution_count": 21,
   "metadata": {},
   "outputs": [
    {
     "data": {
      "text/html": [
       "<div class='gpresult'><h2>Messages</h2><div id='messages' data-messages='[\"Start Time: Monday, April 22, 2024 3:27:37 PM\",\"Succeeded at Monday, April 22, 2024 3:27:38 PM (Elapsed Time: 0.66 seconds)\"]' data-show='true'><div id = 'default' /></div></div>"
      ],
      "text/plain": [
       "<Result 'Final_Union'>"
      ]
     },
     "execution_count": 21,
     "metadata": {},
     "output_type": "execute_result"
    }
   ],
   "source": [
    "'''This code handles areas that fell outside of the spatial extent of the county boundary set by the generalized land use and the census blocks.'''\n",
    "\n",
    "arcpy.management.SelectLayerByAttribute(union_layer_name, \"NEW_SELECTION\", \"DESC2020 = ''\") # query to remove out of boundary polygons\n",
    "arcpy.management.DeleteFeatures(union_layer_name)\n",
    "\n",
    "# add any other filtering queries you would need"
   ]
  },
  {
   "cell_type": "code",
   "execution_count": 22,
   "metadata": {},
   "outputs": [],
   "source": [
    "'''This code takes in the reclass values that were determined which is a way of generalizing the actual input data to find the \n",
    "score values for each of the four branches of the score. The actual values of the reclass can be edited and in this example the\n",
    "values were found using a quantile classification.'''\n",
    "\n",
    "density_classification = { # Density Classification\n",
    "    1: 0,\n",
    "    2: 127.86,\n",
    "    3: 1153.93,\n",
    "    4: 2067.72,\n",
    "    5: 14145.72\n",
    "}\n",
    "\n",
    "sum_points_classification = { # SUM_points Classification\n",
    "    1: 3,\n",
    "    2: 6,\n",
    "    3: 9,\n",
    "    4: 12,\n",
    "    5: 24\n",
    "}\n",
    "\n",
    "land_use_classification = { # Land Use Classification\n",
    "    1: [\"Major Highway\", \"Major Railway\", \"Airport or Airstrip\", \"Open Water\"],\n",
    "    2: [\"Mixed Use Industrial\", \"Industrial or Utility\", \"Extractive\"],\n",
    "    3: [\"Agricultural\", \"Farmstead\", \"Mixed Use Commercial\", \"Office\", \"Single Family Detached\"],\n",
    "    4: [\"Seasonal/Vacation\", \"Single Family Attached\", \"Manufactured Housing Park\", \"Golf Course\", \"Retail and Other Commercial\"],\n",
    "    5: [\"Undeveloped\", \"Park, Recreational, or Preserve\", \"Institutional\", \"Mixed Use Residential\", \"Multifamily\"]\n",
    "}"
   ]
  },
  {
   "cell_type": "code",
   "execution_count": 23,
   "metadata": {},
   "outputs": [],
   "source": [
    "'''This code adds the fields to the final union layer based on the reclass value and final score.'''\n",
    "\n",
    "fields_to_add = [\"public_owned\", \"density_score\", \"poi_score\", \"land_use_score\", \"final_score\"] # these are the scoring fields that are being added\n",
    "for field in fields_to_add:\n",
    "    arcpy.AddField_management(union_layer_name, field, \"LONG\")\n",
    "\n",
    "# Define the field names based on your dataset\n",
    "value_fields = [\"CO_NAME\", \"Density\", \"SUM_Points\", \"DESC2020\"] # these are the fields that have the values that are referenced in the dictionaries above, if they have different names need to change values\n",
    "\n",
    "# Update fields based on classification dictionaries\n",
    "with arcpy.da.UpdateCursor(union_layer_name, value_fields + fields_to_add) as cursor: # go through each row of the table and bring in both lists of fields\n",
    "    for row in cursor:\n",
    "        # Set public_owned to 5 for 'scott county' and 0 for others\n",
    "        if row[0] == 'Scott':\n",
    "            row[4] = 5\n",
    "        else:\n",
    "            row[4] = 0\n",
    "        \n",
    "        # Density score, run through the dictionary and if the value from that row is less than that key's value then set the score to the key \n",
    "        for key, value in density_classification.items():\n",
    "            if row[1] <= value:\n",
    "                row[5] = key\n",
    "                break\n",
    "        # SUM_points score,  run through the dictionary and if the value from that row is less than that key's value then set the score to the key\n",
    "        for key, value in sum_points_classification.items():\n",
    "            if row[2] <= value:\n",
    "                row[6] = key\n",
    "                break\n",
    "        # Land use score,  run through the dictionary and if the value from that row is in than that key's value list then set the score to the key\n",
    "        for key, value in land_use_classification.items():\n",
    "            if row[3] in value:\n",
    "                row[7] = key\n",
    "                break\n",
    "        # Final score\n",
    "        row[8] = (row[4] + row[5] + row[6] + row[7])  # Adjust the formula for the final score calculation if needed\n",
    "        cursor.updateRow(row)"
   ]
  },
  {
   "cell_type": "code",
   "execution_count": 3,
   "metadata": {},
   "outputs": [
    {
     "data": {
      "text/html": [
       "<div class='gpresult'><h2>Messages</h2><div id='messages' data-messages='[\"Start Time: Monday, April 29, 2024 9:16:31 AM\",\"Reading Features...\",\"Cracking Features...\",\"Assembling Features...\",\"Succeeded at Monday, April 29, 2024 9:16:37 AM (Elapsed Time: 5.37 seconds)\"]' data-show='true'><div id = 'default' /></div></div>"
      ],
      "text/plain": [
       "<Result 'C:\\\\School\\\\PA 5234\\\\Scott County\\\\Scott County.gdb\\\\Proposed_Alignment_Intersect'>"
      ]
     },
     "execution_count": 3,
     "metadata": {},
     "output_type": "execute_result"
    }
   ],
   "source": [
    "'''This code uses a gap line feature to and intersects it with the surface to break each line at each score change on the surface.'''\n",
    "\n",
    "line_layer = 'Proposed_Alignment' # input line segments layer\n",
    "union_layer_name = 'Final_Union'\n",
    "\n",
    "layers_to_intersect = f'{line_layer} #;{union_layer_name} #'\n",
    "intersect_name = \"Proposed_Alignment_Intersect\"\n",
    "arcpy.analysis.Intersect(layers_to_intersect, intersect_name) # intersect (similar to union) the line and surface"
   ]
  },
  {
   "cell_type": "code",
   "execution_count": 5,
   "metadata": {},
   "outputs": [
    {
     "data": {
      "text/html": [
       "<div class='gpresult'><h2>Messages</h2><div id='messages' data-messages='[\"Start Time: Monday, April 29, 2024 9:31:43 AM\",\"Sorting Attributes...\",\"Dissolving...\",\"Succeeded at Monday, April 29, 2024 9:31:45 AM (Elapsed Time: 2.04 seconds)\"]' data-show='true'><div id = 'default' /></div></div>"
      ],
      "text/plain": [
       "<Result 'C:\\\\School\\\\PA 5234\\\\Scott County\\\\Scott County.gdb\\\\Proposed_Alignment_Scoring'>"
      ]
     },
     "execution_count": 5,
     "metadata": {},
     "output_type": "execute_result"
    }
   ],
   "source": [
    "'''This code will use the weighted average of length of the split lines to calculate the average score of each segment.'''\n",
    "\n",
    "new_field = \"scoreXlength\" # new field name\n",
    "expression = \"!final_score! * !Shape_Length!\" # new field expression\n",
    "\n",
    "arcpy.management.CalculateField(intersect_name, new_field, expression, \"PYTHON3\", \"\", \"DOUBLE\") # use the field calculator to get score times length\n",
    "\n",
    "dissolve_layer = \"Proposed_Alignment_Scoring\" # dissolve layer name\n",
    "arcpy.management.Dissolve(intersect_name, dissolve_layer, \"FID_Proposed_Alignment\", \"scoreXlength SUM\") # dissolve by ID and sum the score time length values"
   ]
  },
  {
   "cell_type": "code",
   "execution_count": 7,
   "metadata": {},
   "outputs": [],
   "source": [
    "'''Code to create classification for segment length.'''\n",
    "\n",
    "line_length_classification = { # SUM_points Classification\n",
    "    5: 344.979553,\n",
    "    4: 549.762013,\n",
    "    3: 875.750044,\n",
    "    2: 1474.132243,\n",
    "    1: 4405.65987\n",
    "}"
   ]
  },
  {
   "cell_type": "code",
   "execution_count": 8,
   "metadata": {},
   "outputs": [],
   "source": [
    "'''This code will find the average surface score and add the corresponding length score value to get the overlap score of each segment.'''\n",
    "\n",
    "new_field = \"weighted_score\" # new field name\n",
    "expression = \"!SUM_scoreXlength! / !Shape_Length!\" # new field expression\n",
    "arcpy.management.CalculateField(dissolve_layer, new_field, expression, \"PYTHON3\", \"\", \"DOUBLE\") # use the field calculator to get weighted score times\n",
    "\n",
    "arcpy.AddField_management(dissolve_layer, 'length_score', \"LONG\") # add length score field\n",
    "arcpy.AddField_management(dissolve_layer, 'overall_score', \"DOUBLE\") # add overall score field\n",
    "\n",
    "# Update fields based on classification dictionaries\n",
    "with arcpy.da.UpdateCursor(dissolve_layer, [\"weighted_score\", \"length_score\", \"overall_score\", \"Shape_Length\"]) as cursor: # go through each row of the table and bring in both lists of fields\n",
    "    for row in cursor:\n",
    "        # length score,  run through the dictionary and if the value from that row is more than that key's value then set the score to the key\n",
    "        for key, value in line_length_classification.items():\n",
    "            if row[3] <= value:\n",
    "                row[1] = key\n",
    "                break\n",
    "        # Overall score\n",
    "        row[2] = (row[0] + row[1])  # Adjust the formula for the final score calculation if needed\n",
    "        cursor.updateRow(row)"
   ]
  },
  {
   "cell_type": "code",
   "execution_count": null,
   "metadata": {},
   "outputs": [],
   "source": []
  }
 ],
 "metadata": {
  "kernelspec": {
   "display_name": "ArcGISPro",
   "language": "Python",
   "name": "python3"
  },
  "language_info": {
   "file_extension": ".py",
   "name": "python",
   "version": "3"
  }
 },
 "nbformat": 4,
 "nbformat_minor": 2
}
