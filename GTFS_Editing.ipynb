{
 "cells": [
  {
   "cell_type": "code",
   "execution_count": 44,
   "metadata": {},
   "outputs": [],
   "source": [
    "import csv\n",
    "from datetime import datetime\n",
    "\n",
    "arcpy.env.workspace = r'C:\\School\\GEOG 8294\\Final Project Data Testing\\Final_Scratchspace\\Final_Scratchspace.gdb'\n",
    "\n",
    "def edit_route_times(output_folder, in_csv_name):\n",
    "    in_table = \"Stops_Geo_Projected\"\n",
    "    sql_query = \"departure_time < '24:00:00'\"\n",
    "    arcpy.SelectLayerByAttribute_management(in_table, \"NEW_SELECTION\", sql_query)\n",
    "    out_table = output_folder + '\\stop_times_old.csv'\n",
    "    arcpy.ExportTable_conversion(in_table, out_table)\n",
    "    \n",
    "    changes_data = []\n",
    "    in_csv = output_folder + in_csv_name\n",
    "    with open(in_csv, 'r') as changes_file:\n",
    "        changes_reader = csv.DictReader(changes_file)\n",
    "        for row in changes_reader:\n",
    "            changes_data.append(row)\n",
    "            \n",
    "    stop_times_data = []\n",
    "    with open(out_table, 'r') as stop_times_file:\n",
    "        stop_times_reader = csv.DictReader(stop_times_file)\n",
    "        for row in stop_times_reader:\n",
    "            stop_times_data.append(row)\n",
    "\n",
    "    for change_row in changes_data:\n",
    "        route_value = change_row['route']\n",
    "        time_change = datetime.strptime((change_row['time_change']), '%H:%M:%S')\n",
    "\n",
    "        matched_rows = [row for row in stop_times_data if row['route'] == route_value]\n",
    "\n",
    "        for row in matched_rows:\n",
    "            current_arrival_time = datetime.strptime((row['arrival_time']), '%H:%M:%S')\n",
    "            current_departure_time = datetime.strptime((row['departure_time']), '%H:%M:%S')\n",
    "            updated_arrival_time = current_arrival_time - time_change\n",
    "            updated_departure_time = current_departure_time - time_change\n",
    "            row['arrival_time'] = str(updated_arrival_time)\n",
    "            row['departure_time'] = str(updated_departure_time)\n",
    "\n",
    "    output_table = output_folder + '/stop_times.txt'\n",
    "    with open(output_table, 'w', newline = '') as updated_file:\n",
    "        fieldnames = stop_times_data[0].keys()\n",
    "        writer = csv.DictWriter(updated_file, fieldnames = fieldnames)\n",
    "        writer.writeheader()\n",
    "        writer.writerows(stop_times_data)\n",
    "        \n",
    "edit_route_times(r'C:\\School\\GEOG 8294\\Final Project Data Testing\\Data\\GTFS_Updated_Scenario_1', '\\changes.csv')"
   ]
  },
  {
   "cell_type": "code",
   "execution_count": 9,
   "metadata": {},
   "outputs": [],
   "source": [
    "import shutil\n",
    "import os\n",
    "\n",
    "def copy_files_to_new_folder(input_folder, output_folder):\n",
    "    input_files = ['agency.txt', 'calendar.txt', 'calendar_dates.txt', 'feed_info.txt', 'linked_datasets.txt', 'routes.txt', 'shapes.txt', 'stops.txt', 'trips.txt', 'vehicles.txt']\n",
    "    for file in input_files:\n",
    "        source_path = os.path.join(input_folder, file)\n",
    "        destination_path = os.path.join(output_folder, file)\n",
    "        shutil.copyfile(source_path, destination_path)\n",
    "        \n",
    "copy_files_to_new_folder(r'C:\\School\\GEOG 8294\\Final Project Data Testing\\Data\\GTFS', r'C:\\School\\GEOG 8294\\Final Project Data Testing\\Data\\GTFS_Updated_Scenario_2')"
   ]
  },
  {
   "cell_type": "code",
   "execution_count": null,
   "metadata": {},
   "outputs": [],
   "source": []
  }
 ],
 "metadata": {
  "kernelspec": {
   "display_name": "ArcGISPro",
   "language": "Python",
   "name": "python3"
  },
  "language_info": {
   "file_extension": ".py",
   "name": "python",
   "version": "3"
  }
 },
 "nbformat": 4,
 "nbformat_minor": 2
}
