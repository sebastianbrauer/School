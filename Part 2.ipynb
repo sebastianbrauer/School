{
 "cells": [
  {
   "cell_type": "code",
   "execution_count": null,
   "metadata": {},
   "outputs": [],
   "source": [
    "spatial_reference = arcpy.SpatialReference(26915)\n",
    "start_fc = \"start.shp\"\n",
    "arcpy.management.CreateFeatureclass(arcpy.env.workspace, start_fc, \"POINT\", spatial_reference=spatial_reference)\n",
    "with arcpy.da.InsertCursor(start_fc, [\"SHAPE@\"]) as cursor:\n",
    "    point = arcpy.Point(568098.327959, 4886439.347936)\n",
    "    point_geom = arcpy.PointGeometry(point)\n",
    "    cursor.insertRow([point_geom])\n",
    "\n",
    "finish_fc = \"finish.shp\"\n",
    "arcpy.management.CreateFeatureclass(arcpy.env.workspace, finish_fc, \"POINT\", spatial_reference=spatial_reference)\n",
    "with arcpy.da.InsertCursor(finish_fc, [\"SHAPE@\"]) as cursor:\n",
    "    point = arcpy.Point(576511.759467, 4878355.428342)\n",
    "    point_geom = arcpy.PointGeometry(point)\n",
    "    cursor.insertRow([point_geom])"
   ]
  },
  {
   "cell_type": "code",
   "execution_count": null,
   "metadata": {},
   "outputs": [],
   "source": [
    "import requests\n",
    "\n",
    "base_url = \"https://resources.gisdata.mn.gov/pub/data/elevation/lidar/q250k/q4342/laz/\"\n",
    "row = 28\n",
    "column = 59\n",
    "while row < 32:\n",
    "    while column < 65:\n",
    "        api_endpoint = f'4342-{row}-{column}.laz'\n",
    "        url = f'{base_url}{api_endpoint}'\n",
    "        local_filename = fr'C:\\School\\GIS 5571\\Local\\Lab2 Data\\Part 2\\laz\\4342-{row}-{column}.laz'\n",
    "        response = requests.get(url)\n",
    "        column = column + 1\n",
    "        with open(local_filename, 'wb') as f:\n",
    "            f.write(response.content)\n",
    "            \n",
    "            \n",
    "    row = row + 1\n",
    "    column = 59"
   ]
  },
  {
   "cell_type": "code",
   "execution_count": 12,
   "metadata": {},
   "outputs": [],
   "source": [
    "import arcpy\n",
    "\n",
    "utm_sr = arcpy.SpatialReference(26915)\n",
    "row = 28\n",
    "column = 59\n",
    "while row < 32:\n",
    "    while column < 65:\n",
    "        in_las = fr'C:\\School\\GIS 5571\\Local\\Lab2 Data\\Part 2\\laz\\4342-{row}-{column}.laz'\n",
    "        target_folder = r'C:\\School\\GIS 5571\\Local\\Lab2 Data\\Part 2\\las'\n",
    "        arcpy.conversion.ConvertLas(in_las, target_folder, \n",
    "                                    out_las_dataset = fr'C:\\School\\GIS 5571\\Local\\Lab2 Data\\Part 2\\las\\4342-{row}-{column}.lasd', \n",
    "                                    define_coordinate_system = 'ALL_FILES', \n",
    "                                    in_coordinate_system = utm_sr)\n",
    "        column = column + 1\n",
    "        \n",
    "    row = row + 1\n",
    "    column = 59"
   ]
  },
  {
   "cell_type": "code",
   "execution_count": 23,
   "metadata": {},
   "outputs": [
    {
     "data": {
      "text/html": [
       "<div class='gpresult'><h2>Messages</h2><div id='messages' data-messages='[\"Start Time: Wednesday, October 11, 2023 10:36:44 AM\",\"Succeeded at Wednesday, October 11, 2023 10:36:45 AM (Elapsed Time: 0.18 seconds)\"]' data-show='true'><div id = 'default' /></div></div>"
      ],
      "text/plain": [
       "<Result 'C:\\\\School\\\\GIS 5571\\\\Local\\\\Lab2 Data\\\\Part 2\\\\merged.lasd'>"
      ]
     },
     "execution_count": 23,
     "metadata": {},
     "output_type": "execute_result"
    }
   ],
   "source": [
    "base_file_path = r'C:\\School\\GIS 5571\\Local\\Lab2 Data\\Part 2\\las'\n",
    "out_las_dataset = r'C:\\School\\GIS 5571\\Local\\Lab2 Data\\Part 2\\merged.lasd'\n",
    "arcpy.management.CreateLasDataset(base_file_path, \n",
    "                                  out_las_dataset, \n",
    "                                  spatial_reference = arcpy.SpatialReference(26915),\n",
    "                                  create_las_prj = 'NO_FILES')"
   ]
  },
  {
   "cell_type": "code",
   "execution_count": 27,
   "metadata": {},
   "outputs": [
    {
     "data": {
      "text/html": [
       "<div class='gpresult'><h2>Messages</h2><div id='messages' data-messages='[\"Start Time: Wednesday, October 11, 2023 10:47:32 AM\",\"Succeeded at Wednesday, October 11, 2023 10:47:43 AM (Elapsed Time: 10.74 seconds)\"]' data-show='true'><div id = 'default' /></div></div>"
      ],
      "text/plain": [
       "<Result 'C:\\\\School\\\\GIS 5571\\\\Local\\\\Lab2 Data\\\\Part 2\\\\Cost_Area_TIN'>"
      ]
     },
     "execution_count": 27,
     "metadata": {},
     "output_type": "execute_result"
    }
   ],
   "source": [
    "las_file = out_las_dataset\n",
    "output_tin = r'C:\\School\\GIS 5571\\Local\\Lab2 Data\\Part 2\\Cost_Area_TIN'\n",
    "arcpy.ddd.LasDatasetToTin(las_file, output_tin, \"RANDOM\", \"PERCENT\", 1) # Run the conversion tool"
   ]
  },
  {
   "cell_type": "code",
   "execution_count": 29,
   "metadata": {},
   "outputs": [
    {
     "data": {
      "text/html": [
       "<div class='gpresult'><h2>Messages</h2><div id='messages' data-messages='[\"Start Time: Wednesday, October 11, 2023 10:52:37 AM\",\"Succeeded at Wednesday, October 11, 2023 10:52:48 AM (Elapsed Time: 11.02 seconds)\"]' data-show='true'><div id = 'default' /></div></div>"
      ],
      "text/plain": [
       "<Result 'C:\\\\School\\\\GIS 5571\\\\Local\\\\Lab2 Data\\\\Part 2\\\\DEM.tif'>"
      ]
     },
     "execution_count": 29,
     "metadata": {},
     "output_type": "execute_result"
    }
   ],
   "source": [
    "output_dem = r'C:\\School\\GIS 5571\\Local\\Lab2 Data\\Part 2\\DEM.tif'\n",
    "arcpy.ddd.TinRaster(output_tin, output_dem, \"FLOAT\", \"LINEAR\",sample_distance=\"OBSERVATIONS 5000\") # Run the conversion tool"
   ]
  },
  {
   "cell_type": "code",
   "execution_count": 33,
   "metadata": {},
   "outputs": [
    {
     "data": {
      "text/html": [
       "<div class='gpresult'><h2>Messages</h2><div id='messages' data-messages='[\"Start Time: Wednesday, October 11, 2023 10:58:30 AM\",\"No compatible GPU device has been detected.\",\"Succeeded at Wednesday, October 11, 2023 10:58:32 AM (Elapsed Time: 1.45 seconds)\"]' data-show='true'><div id = 'default' /></div></div>"
      ],
      "text/plain": [
       "<Result 'C:\\\\School\\\\GIS 5571\\\\Local\\\\Lab2 Data\\\\Part 2\\\\Slope.tif'>"
      ]
     },
     "execution_count": 33,
     "metadata": {},
     "output_type": "execute_result"
    }
   ],
   "source": [
    "arcpy.env.workspace = r'C:\\School\\GIS 5571\\Local\\Lab2 Data\\Part 2'\n",
    "output_slope = r'C:\\School\\GIS 5571\\Local\\Lab2 Data\\Part 2\\Slope.tif'\n",
    "arcpy.ddd.Slope(output_dem, output_slope)"
   ]
  },
  {
   "cell_type": "code",
   "execution_count": 36,
   "metadata": {},
   "outputs": [],
   "source": [
    "import zipfile\n",
    "\n",
    "land_cover_resource = 'https://resources.gisdata.mn.gov/pub/gdrs/data/pub/us_mn_state_dnr/biota_landcover_nlcd_mn_2019/tif_biota_landcover_nlcd_mn_2019.zip'\n",
    "\n",
    "final_response = requests.get(land_cover_resource)\n",
    "file_path = r'C:\\School\\GIS 5571\\Local\\Lab2 Data\\Part 2\\landcover.zip'\n",
    "with open(file_path, 'wb') as file:\n",
    "    file.write(final_response.content)\n",
    "        \n",
    "extract_dir = r'C:\\School\\GIS 5571\\Local\\Lab2 Data\\Part 2\\Land Cover'\n",
    "with zipfile.ZipFile(file_path, 'r') as zip_ref:\n",
    "    zip_ref.extractall(extract_dir)"
   ]
  },
  {
   "cell_type": "code",
   "execution_count": 38,
   "metadata": {},
   "outputs": [
    {
     "data": {
      "text/html": [
       "<div class='gpresult'><h2>Messages</h2><div id='messages' data-messages='[\"Start Time: Wednesday, October 11, 2023 1:56:30 PM\",\"2023-10-11T13:56:43.288: Loading raster datasets\",\"2023-10-11T13:56:43.320: Completed crawling 1 data source items. Added 1 mosaic dataset items.\",\"2023-10-11T13:56:43.324: Synchronizing crawled data source items\",\"2023-10-11T13:56:43.338: Synchronizing items associated with raster type instance &#39;Raster Dataset&#39; [ID: 1].\",\"2023-10-11T13:56:43.413: Completed synchronization: 1 items selected, 1 items synchronized.\",\"2023-10-11T13:56:43.551: Computing cell size levels\",\"2023-10-11T13:56:43.551: Computing unique cell size values\",\"2023-10-11T13:56:43.605: Computing maximum cell size values\",\"2023-10-11T13:56:43.613: Computing minimum cell size values\",\"2023-10-11T13:56:43.619: Updating visibility values of selected items\",\"2023-10-11T13:56:43.641: Computing maximum cell size for mosaic dataset\",\"2023-10-11T13:56:43.654: Completed computing cell size ranges.\",\"2023-10-11T13:56:43.745: Completed building boundary.\",\"Succeeded at Wednesday, October 11, 2023 1:57:00 PM (Elapsed Time: 30.37 seconds)\"]' data-show='true'><div id = 'default' /></div></div>"
      ],
      "text/plain": [
       "<Result 'Study_Area'>"
      ]
     },
     "execution_count": 38,
     "metadata": {},
     "output_type": "execute_result"
    }
   ],
   "source": [
    "coordinate_system = arcpy.SpatialReference(26915) \n",
    "in_workspace = r'C:\\School\\GIS 5571\\Local\\Lab2 Data\\Part 2\\Part 2\\Default.gdb'\n",
    "in_mosaicdataset_name = 'Study_Area'\n",
    "arcpy.management.CreateMosaicDataset(in_workspace, in_mosaicdataset_name, coordinate_system)\n",
    "\n",
    "in_mosaic_dataset = in_mosaicdataset_name\n",
    "input_path = r'C:\\School\\GIS 5571\\Local\\Lab2 Data\\Part 2\\Slope.tif'\n",
    "raster_type = 'Raster Dataset'\n",
    "arcpy.management.AddRastersToMosaicDataset(in_mosaic_dataset, raster_type, input_path)"
   ]
  },
  {
   "cell_type": "code",
   "execution_count": 40,
   "metadata": {},
   "outputs": [
    {
     "data": {
      "text/html": [
       "<div class='gpresult'><h2>Messages</h2><div id='messages' data-messages='[\"Start Time: Wednesday, October 11, 2023 2:05:08 PM\",\"WARNING 000592: Output format does not support BLOB, Raster, or GUID fields. Field(s) Uri will not be converted to output.\",\"Succeeded at Wednesday, October 11, 2023 2:05:17 PM (Elapsed Time: 8.77 seconds)\"]' data-show='true'><div id = 'default' /></div></div>"
      ],
      "text/plain": [
       "<Result 'C:\\\\School\\\\GIS 5571\\\\Local\\\\Lab2 Data\\\\Part 2\\\\Footprint.shp'>"
      ]
     },
     "execution_count": 40,
     "metadata": {},
     "output_type": "execute_result"
    }
   ],
   "source": [
    "arcpy.env.workspace = r'C:\\School\\GIS 5571\\Local\\Lab2 Data\\Part 2\\Part 2\\Default.gdb'\n",
    "mosaic_dataset = 'Study_Area\\Footprint'  \n",
    "output_shapefile = r'C:\\School\\GIS 5571\\Local\\Lab2 Data\\Part 2\\Footprint.shp'\n",
    "arcpy.management.CopyFeatures(mosaic_dataset, output_shapefile)"
   ]
  },
  {
   "cell_type": "code",
   "execution_count": 42,
   "metadata": {},
   "outputs": [
    {
     "data": {
      "text/html": [
       "<div class='gpresult'><h2>Messages</h2><div id='messages' data-messages='[\"Start Time: Wednesday, October 11, 2023 2:06:44 PM\",\"Building Pyramids...\",\"Succeeded at Wednesday, October 11, 2023 2:07:03 PM (Elapsed Time: 18.95 seconds)\"]' data-show='true'><div id = 'default' /></div></div>"
      ],
      "text/plain": [
       "<Result 'C:\\\\School\\\\GIS 5571\\\\Local\\\\Lab2 Data\\\\Part 2\\\\Land_Cover_Clipped.tif'>"
      ]
     },
     "execution_count": 42,
     "metadata": {},
     "output_type": "execute_result"
    }
   ],
   "source": [
    "in_raster = r'C:\\School\\GIS 5571\\Local\\Lab2 Data\\Part 2\\Land Cover\\NLCD_2019_Land_Cover.tif'\n",
    "out_raster = r'C:\\School\\GIS 5571\\Local\\Lab2 Data\\Part 2\\Land_Cover_Clipped.tif'\n",
    "rectangle = output_shapefile\n",
    "arcpy.management.Clip(in_raster, rectangle, out_raster)"
   ]
  },
  {
   "cell_type": "code",
   "execution_count": 53,
   "metadata": {},
   "outputs": [
    {
     "data": {
      "text/html": [
       "<div class='gpresult'><h2>Messages</h2><div id='messages' data-messages='[\"Start Time: Wednesday, October 11, 2023 3:09:36 PM\",\"Succeeded at Wednesday, October 11, 2023 3:09:38 PM (Elapsed Time: 1.90 seconds)\"]' data-show='true'><div id = 'default' /></div></div>"
      ],
      "text/plain": [
       "<Result 'C:\\\\School\\\\GIS 5571\\\\Local\\\\Lab2 Data\\\\Part 2\\\\Slope_Reclass.tif'>"
      ]
     },
     "execution_count": 53,
     "metadata": {},
     "output_type": "execute_result"
    }
   ],
   "source": [
    "input_slope_raster = r'C:\\School\\GIS 5571\\Local\\Lab2 Data\\Part 2\\Slope.tif'\n",
    "output_reclassified_raster = r'C:\\School\\GIS 5571\\Local\\Lab2 Data\\Part 2\\Slope_Reclass.tif'\n",
    "\n",
    "reclassifications = \"0 1.72 1;1.72 3.43 2;3.43 5.71 3;5.71 8.53 4;8.53 11.3 5;11.3 14.04 6;14.04 16.7 7;16.7 21.8 8;21.8 30.96 9;30.96 45 10;45 90 11\"\n",
    "arcpy.ddd.Reclassify(input_slope_raster, \"VALUE\", reclassifications, output_reclassified_raster, \"NODATA\")"
   ]
  },
  {
   "cell_type": "code",
   "execution_count": 62,
   "metadata": {},
   "outputs": [
    {
     "data": {
      "text/html": [
       "<div class='gpresult'><h2>Messages</h2><div id='messages' data-messages='[\"Start Time: Wednesday, October 11, 2023 3:49:11 PM\",\"Succeeded at Wednesday, October 11, 2023 3:49:11 PM (Elapsed Time: 0.26 seconds)\"]' data-show='true'><div id = 'default' /></div></div>"
      ],
      "text/plain": [
       "<Result 'C:\\\\School\\\\GIS 5571\\\\Local\\\\Lab2 Data\\\\Part 2\\\\Land_Cover_Clipped_Reclass.tif'>"
      ]
     },
     "execution_count": 62,
     "metadata": {},
     "output_type": "execute_result"
    }
   ],
   "source": [
    "input_raster = r'C:\\School\\GIS 5571\\Local\\Lab2 Data\\Part 2\\Land_Cover_Clipped.tif'\n",
    "output_raster = r'C:\\School\\GIS 5571\\Local\\Lab2 Data\\Part 2\\Land_Cover_Clipped_Reclass.tif'\n",
    "\n",
    "reclassifications = \"11 11 1;12 12 1;90 90 1;95 95 1;81 81 2;82 82 2\"\n",
    "arcpy.ddd.Reclassify(input_raster, \"VALUE\", reclassifications, output_raster, \"NODATA\")"
   ]
  },
  {
   "cell_type": "code",
   "execution_count": 19,
   "metadata": {},
   "outputs": [],
   "source": [
    "from arcpy.sa import *\n",
    "\n",
    "arcpy.env.workspace = r'C:\\School\\GIS 5571\\Local\\Lab2 Data\\Part 2'\n",
    "slope_influence = 50\n",
    "land_cover_influence = 50\n",
    "farmland_cost = 6\n",
    "water_crossing_cost = 11\n",
    "\n",
    "env.workspace = r'C:\\School\\GIS 5571\\Local\\Lab2 Data\\Part 2'\n",
    "myWOTable = WOTable([[\"Slope_Reclass.tif\", slope_influence,\"VALUE\",RemapValue([[1,11],[2,10],[3,9],\n",
    "                    [4,8],[5,7],[6,6],[7,5],[8,4],[9,3],[10,2],[11,1],[\"NODATA\",\"NODATA\"]])],\n",
    "                    [\"Land_Cover_Clipped_Reclass.tif\", land_cover_influence, \"VALUE\",\n",
    "                     RemapValue([[1,water_crossing_cost],[2,farmland_cost],[\"NODATA\",11]])]], [1,11,1])\n",
    "\n",
    "outWeightedOverlay = WeightedOverlay(myWOTable)"
   ]
  },
  {
   "cell_type": "code",
   "execution_count": 20,
   "metadata": {},
   "outputs": [],
   "source": [
    "input_points = r'C:\\School\\GIS 5571\\Local\\Lab2 Data\\Part 2\\start.shp'\n",
    "outCostDist = CostDistance(input_points, outWeightedOverlay)"
   ]
  },
  {
   "cell_type": "code",
   "execution_count": 21,
   "metadata": {},
   "outputs": [],
   "source": [
    "outBacklink = CostBackLink(input_points, outWeightedOverlay)"
   ]
  },
  {
   "cell_type": "code",
   "execution_count": 22,
   "metadata": {},
   "outputs": [],
   "source": [
    "destination = r'C:\\School\\GIS 5571\\Local\\Lab2 Data\\Part 2\\finish.shp'\n",
    "outCostPathWater = CostPath(destination, outCostDist, outBacklink)"
   ]
  },
  {
   "cell_type": "code",
   "execution_count": null,
   "metadata": {},
   "outputs": [],
   "source": []
  }
 ],
 "metadata": {
  "kernelspec": {
   "display_name": "ArcGISPro",
   "language": "Python",
   "name": "python3"
  },
  "language_info": {
   "file_extension": ".py",
   "name": "python",
   "version": "3"
  }
 },
 "nbformat": 4,
 "nbformat_minor": 2
}
