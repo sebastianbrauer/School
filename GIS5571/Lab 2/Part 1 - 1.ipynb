{
 "cells": [
  {
   "cell_type": "code",
   "execution_count": 2,
   "metadata": {},
   "outputs": [],
   "source": [
    "'''\n",
    "READ ME:\n",
    "This code can pull any las dataset from the MN DNR API and convert the las file into a TIN or a DEM.\n",
    "Additionally, the code is also able to export two layouts to pdfs. The code assumes that the layouts were made and named in the project.\n",
    "Do not forget to save the project when toggling the layers on and off.\n",
    "'''\n",
    "\n",
    "import requests\n",
    "\n",
    "base_url = \"https://resources.gisdata.mn.gov/\"\n",
    "api_endpoint = \"pub/data/elevation/lidar/examples/lidar_sample/las/4342-12-05.las\" # Change the API Endpoint Accordingly\"\n",
    "url = f'{base_url}{api_endpoint}'\n",
    "local_filename = r'C:\\School\\GIS 5571\\Local\\Lab2 Data\\4342-12-05.las'\n",
    "response = requests.get(url)\n",
    "\n",
    "with open(local_filename, 'wb') as f:\n",
    "    f.write(response.content)"
   ]
  },
  {
   "cell_type": "code",
   "execution_count": 9,
   "metadata": {},
   "outputs": [
    {
     "data": {
      "text/html": [
       "<div class='gpresult'><h2>Messages</h2><div id='messages' data-messages='[\"Start Time: Thursday, October 5, 2023 2:13:12 PM\",\"Succeeded at Thursday, October 5, 2023 2:13:15 PM (Elapsed Time: 3.43 seconds)\"]' data-show='true'><div id = 'default' /></div></div>"
      ],
      "text/plain": [
       "<Result 'C:\\\\School\\\\GIS 5571\\\\Local\\\\Lab2 Data\\\\4342-12-05_tin'>"
      ]
     },
     "execution_count": 9,
     "metadata": {},
     "output_type": "execute_result"
    }
   ],
   "source": [
    "arcpy.env.workspace = r'C:\\School\\GIS 5571\\Local\\Lab2 Data'\n",
    "las_file = '4342-12-05.las'\n",
    "output_tin = '4342-12-05_tin'\n",
    "arcpy.ddd.LasDatasetToTin(las_file, output_tin, \"RANDOM\", \"PERCENT\", 10) # Run the conversion tool"
   ]
  },
  {
   "cell_type": "code",
   "execution_count": 17,
   "metadata": {},
   "outputs": [
    {
     "data": {
      "text/html": [
       "<div class='gpresult'><h2>Messages</h2><div id='messages' data-messages='[\"Start Time: Thursday, October 5, 2023 2:24:20 PM\",\"Succeeded at Thursday, October 5, 2023 2:24:26 PM (Elapsed Time: 5.84 seconds)\"]' data-show='true'><div id = 'default' /></div></div>"
      ],
      "text/plain": [
       "<Result 'C:\\\\School\\\\GIS 5571\\\\Local\\\\Lab2 Data\\\\4342-12-05_dem.tif'>"
      ]
     },
     "execution_count": 17,
     "metadata": {},
     "output_type": "execute_result"
    }
   ],
   "source": [
    "output_dem = \"4342-12-05_dem.tif\"\n",
    "arcpy.ddd.TinRaster(output_tin, output_dem, \"FLOAT\", \"LINEAR\",sample_distance=\"OBSERVATIONS 5000\") # Run the conversion tool"
   ]
  },
  {
   "cell_type": "code",
   "execution_count": 8,
   "metadata": {},
   "outputs": [
    {
     "data": {
      "text/plain": [
       "'C:\\\\School\\\\GIS 5571\\\\Local\\\\Lab2 Data\\\\TIN_4342-12-05.pdf'"
      ]
     },
     "execution_count": 8,
     "metadata": {},
     "output_type": "execute_result"
    }
   ],
   "source": [
    "aprx_path = r\"C:\\School\\GIS 5571\\Local\\Lab2 Data\\Lab2 Project\\Lab2 Project.aprx\"\n",
    "aprx = arcpy.mp.ArcGISProject(aprx_path) # Open up project file\n",
    "layout_name = \"TIN\"\n",
    "layout = aprx.listLayouts(layout_name)[0] # Select layout named TIN\n",
    "pdf_output = r'C:\\School\\GIS 5571\\Local\\Lab2 Data\\TIN_4342-12-05.pdf'\n",
    "layout.exportToPDF(pdf_output)"
   ]
  },
  {
   "cell_type": "code",
   "execution_count": 9,
   "metadata": {},
   "outputs": [
    {
     "data": {
      "text/plain": [
       "'C:\\\\School\\\\GIS 5571\\\\Local\\\\Lab2 Data\\\\DEM_4342-12-05.pdf'"
      ]
     },
     "execution_count": 9,
     "metadata": {},
     "output_type": "execute_result"
    }
   ],
   "source": [
    "aprx_path = r\"C:\\School\\GIS 5571\\Local\\Lab2 Data\\Lab2 Project\\Lab2 Project.aprx\"\n",
    "aprx = arcpy.mp.ArcGISProject(aprx_path) # Open up project file\n",
    "layout_name = \"DEM\"\n",
    "layout = aprx.listLayouts(layout_name)[0] # Select layout named DEM\n",
    "pdf_output = r'C:\\School\\GIS 5571\\Local\\Lab2 Data\\DEM_4342-12-05.pdf'\n",
    "layout.exportToPDF(pdf_output)"
   ]
  },
  {
   "cell_type": "code",
   "execution_count": null,
   "metadata": {},
   "outputs": [],
   "source": []
  }
 ],
 "metadata": {
  "kernelspec": {
   "display_name": "ArcGISPro",
   "language": "Python",
   "name": "python3"
  },
  "language_info": {
   "file_extension": ".py",
   "name": "python",
   "version": "3"
  }
 },
 "nbformat": 4,
 "nbformat_minor": 2
}
