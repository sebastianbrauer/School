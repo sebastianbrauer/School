{
 "cells": [
  {
   "cell_type": "code",
   "execution_count": 1,
   "metadata": {},
   "outputs": [
    {
     "name": "stderr",
     "output_type": "stream",
     "text": [
      "C:\\Program Files\\ArcGIS\\Pro\\bin\\Python\\envs\\arcgispro-py3\\lib\\site-packages\\urllib3\\connectionpool.py:1045: InsecureRequestWarning: Unverified HTTPS request is being made to host 'gisdata.mn.gov'. Adding certificate verification is strongly advised. See: https://urllib3.readthedocs.io/en/1.26.x/advanced-usage.html#ssl-warnings\n",
      "  warnings.warn(\n"
     ]
    }
   ],
   "source": [
    "'''\n",
    "READ ME:\n",
    "\n",
    "This code can be used to pull any spatial Dataset using a GKAN API.\n",
    "You will need to input the site name, the package id (found in the url), the output file type, and the download save location.\n",
    "The code that checks the proper HTML output and lists the type of resource_ids, and the way to write the output zip file was written by ChatGPT.\n",
    "'''\n",
    "\n",
    "import requests\n",
    "import os\n",
    "\n",
    "ckan_instance_url = 'https://gisdata.mn.gov' # Required input for notebook function\n",
    "gather_packages_url = f'{ckan_instance_url}/api/3/action/package_list' # input needed to pull in all packages within the site\n",
    "package_list_response = requests.get(gather_packages_url, verify = False) # get the package list from the api\n",
    "package_list_json = package_list_response.json() # convert the package list to json format\n",
    "# print(package_list_json['result']) # show package list"
   ]
  },
  {
   "cell_type": "code",
   "execution_count": 77,
   "metadata": {},
   "outputs": [
    {
     "name": "stderr",
     "output_type": "stream",
     "text": [
      "C:\\Program Files\\ArcGIS\\Pro\\bin\\Python\\envs\\arcgispro-py3\\lib\\site-packages\\urllib3\\connectionpool.py:1045: InsecureRequestWarning: Unverified HTTPS request is being made to host 'gisdata.mn.gov'. Adding certificate verification is strongly advised. See: https://urllib3.readthedocs.io/en/1.26.x/advanced-usage.html#ssl-warnings\n",
      "  warnings.warn(\n"
     ]
    }
   ],
   "source": [
    "dataset_id = 'us-mn-state-metc-plan-parks-regional' # Required input for notebook function\n",
    "output_type = 'SHP' # Required input for notebook function\n",
    "api_url = f\"{ckan_instance_url}/api/3/action/package_show?id={dataset_id}\" # Construct the CKAN API URL to retrieve the dataset's metadata.\n",
    "response = requests.get(api_url,verify=False) # Make a GET request to retrieve the dataset metadata.\n",
    "resource_url = ''\n",
    "\n",
    "if response.status_code == 200: # Parse the JSON response.\n",
    "    data = response.json() # Check if the dataset has resources.\n",
    "    if 'resources' in data['result']:\n",
    "        resources = data['result']['resources']\n",
    "        for resource in resources: # Go through resources to find the correct link.\n",
    "            if resource['format'] == output_type:\n",
    "                resource_url = resource['url']\n",
    "    else:\n",
    "        print(\"No resources found for this dataset.\")\n",
    "    if resource_url == '':\n",
    "        print(\"This output type was not found.\")\n",
    "else:\n",
    "    print(f\"Failed to retrieve dataset metadata. Status code: {response.status_code}\")\n",
    "    \n",
    "# print(data) # Feel free to uncomment this line if you want to see you're package json "
   ]
  },
  {
   "cell_type": "code",
   "execution_count": 21,
   "metadata": {},
   "outputs": [],
   "source": [
    "final_response = requests.get(resource_url) # make the HTTP GET call to get that shp file\n",
    "file_path = 'C:\\School\\GIS 5571\\Local\\Lab1 Data\\parks.zip' # this is a required input field\n",
    "with open(file_path, 'wb') as file: # write the file to the selected path\n",
    "    file.write(final_response.content)"
   ]
  },
  {
   "cell_type": "code",
   "execution_count": 5,
   "metadata": {},
   "outputs": [],
   "source": [
    "import zipfile\n",
    "\n",
    "zip_file_path = 'C:\\School\\GIS 5571\\Local\\Lab1 Data\\parks.zip' # Zip file path\n",
    "extract_dir = 'C:\\School\\GIS 5571\\Local\\Lab1 Data\\parks' # Output location\n",
    "with zipfile.ZipFile(zip_file_path, 'r') as zip_ref:\n",
    "    zip_ref.extractall(extract_dir)"
   ]
  },
  {
   "cell_type": "code",
   "execution_count": 2,
   "metadata": {},
   "outputs": [
    {
     "data": {
      "text/html": [
       "<div class='gpresult'><h2>Messages</h2><div id='messages' data-messages='[\"Start Time: Friday, September 22, 2023 9:46:29 PM\",\"C:\\\\School\\\\GIS 5571\\\\Local\\\\Lab1 Data\\\\parks\\\\ParksRegional.shp Successfully converted:  C:\\\\School\\\\GIS 5571\\\\Local\\\\Lab1 Data\\\\Lab1 Project\\\\Lab1 Project.gdb\\\\ParksRegional\",\"Succeeded at Friday, September 22, 2023 9:46:31 PM (Elapsed Time: 1.85 seconds)\"]' data-show='true'><div id = 'default' /></div></div>"
      ],
      "text/plain": [
       "<Result 'C:\\\\School\\\\GIS 5571\\\\Local\\\\Lab1 Data\\\\Lab1 Project\\\\Lab1 Project.gdb'>"
      ]
     },
     "execution_count": 2,
     "metadata": {},
     "output_type": "execute_result"
    }
   ],
   "source": [
    "input_features = r'C:\\School\\GIS 5571\\Local\\Lab1 Data\\parks\\ParksRegional.shp'\n",
    "output_gdb = r'C:\\School\\GIS 5571\\Local\\Lab1 Data\\Lab1 Project\\Lab1 Project.gdb'\n",
    "arcpy.conversion.FeatureClassToGeodatabase(input_features, output_gdb)"
   ]
  },
  {
   "cell_type": "code",
   "execution_count": null,
   "metadata": {},
   "outputs": [],
   "source": []
  }
 ],
 "metadata": {
  "kernelspec": {
   "display_name": "ArcGISPro",
   "language": "Python",
   "name": "python3"
  },
  "language_info": {
   "file_extension": ".py",
   "name": "python",
   "version": "3"
  }
 },
 "nbformat": 4,
 "nbformat_minor": 2
}
