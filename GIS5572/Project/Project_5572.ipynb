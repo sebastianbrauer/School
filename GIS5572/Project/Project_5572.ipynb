{
 "cells": [
  {
   "cell_type": "code",
   "execution_count": 21,
   "metadata": {},
   "outputs": [
    {
     "name": "stdout",
     "output_type": "stream",
     "text": [
      "Process completed successfully.\n"
     ]
    }
   ],
   "source": [
    "'''\n",
    "README:\n",
    "\n",
    "This code uses schedule GTFS to calculate geometric features for stops and shapes before using those\n",
    "data to create interpolated points '''\n",
    "\n",
    "\n",
    "# Create the trips_shaped layer\n",
    "\n",
    "import os\n",
    "import csv\n",
    "\n",
    "def create_trips_shaped(input_folder, workspace):\n",
    "    shapes_file = os.path.join(input_folder, 'shapes.txt')\n",
    "    polyline_list = []\n",
    "    previous_id = None\n",
    "    array = arcpy.Array()\n",
    "\n",
    "    with arcpy.da.SearchCursor(shapes_file, ['shape_id', 'shape_pt_lat', 'shape_pt_lon'], sql_clause=(None, 'ORDER BY shape_id')) as cursor:\n",
    "        for row in cursor:\n",
    "            unique_id, latitude, longitude = row\n",
    "            if unique_id != previous_id:\n",
    "                if array.count > 1:\n",
    "                    polyline = arcpy.Polyline(array)\n",
    "                    polyline_list.append(polyline)\n",
    "                array.removeAll()\n",
    "\n",
    "            point = arcpy.Point(longitude, latitude)\n",
    "            array.add(point)\n",
    "            previous_id = unique_id\n",
    "\n",
    "    # Add the last polyline\n",
    "    if array.count > 1:\n",
    "        polyline = arcpy.Polyline(array)\n",
    "        polyline_list.append(polyline)\n",
    "\n",
    "    # Now, the `polyline_list` contains all the individual polyline objects\n",
    "    # for index, polyline in enumerate(polyline_list):\n",
    "        # print(f'Polyline {index + 1}: {polyline.JSON}')\n",
    "        \n",
    "    trips_file = os.path.join(input_folder, 'trips.txt')\n",
    "    output_fc_name = 'Trips_Shaped_20240323'\n",
    "    spatial_reference = arcpy.SpatialReference(4326)\n",
    "    arcpy.CreateFeatureclass_management(workspace, output_fc_name, 'POLYLINE', spatial_reference=spatial_reference)\n",
    "    fields = ['route_id', 'trip_id', 'trip_headsign', 'direction', 'shape_id']\n",
    "    iterator = -1\n",
    "    existing_shape_id = ''\n",
    "\n",
    "\n",
    "    for field in fields:\n",
    "        arcpy.AddField_management(os.path.join(workspace, output_fc_name), field, 'TEXT')\n",
    "\n",
    "    with open(trips_file, 'r') as csvfile:\n",
    "        csvreader = csv.DictReader(csvfile)\n",
    "        sorted_rows = sorted(csvreader, key=lambda row: row['shape_id'])\n",
    "\n",
    "        for row in sorted_rows:\n",
    "            row_shape_id = row['shape_id']\n",
    "            if existing_shape_id != row_shape_id:\n",
    "                iterator = iterator + 1\n",
    "                existing_shape_id = row_shape_id\n",
    "            polyline = polyline_list[iterator]\n",
    "            with arcpy.da.InsertCursor(os.path.join(workspace, output_fc_name), fields + ['SHAPE@']) as cursor:\n",
    "                route_id = row['route_id']\n",
    "                trip_id = row['trip_id']\n",
    "                trip_headsign = row['trip_headsign']\n",
    "                direction = row['direction']\n",
    "                shape_id = row['shape_id']\n",
    "                cursor.insertRow([route_id, trip_id, trip_headsign, direction, shape_id, polyline])\n",
    "\n",
    "    print(\"Process completed successfully.\")  \n",
    "    \n",
    "create_trips_shaped(r'C:\\Users\\BRAUE189\\Downloads\\gtfs20240323', r'C:\\Users\\BRAUE189\\Documents\\ArcGIS\\Projects\\GIS5572\\Default.gdb')    "
   ]
  },
  {
   "cell_type": "code",
   "execution_count": 2,
   "metadata": {},
   "outputs": [
    {
     "name": "stderr",
     "output_type": "stream",
     "text": [
      "Processing step1: 9031it [00:00, 125719.01it/s]\n",
      "Processing step2: 1576597it [00:08, 196304.03it/s]﻿\n",
      "Processing step3: 100%|██████████| 1576597/1576597 [00:17<00:00, 90748.26it/s]﻿\n"
     ]
    },
    {
     "name": "stdout",
     "output_type": "stream",
     "text": [
      "Process completed successfully.\n"
     ]
    }
   ],
   "source": [
    "# Create the stops_geo layer\n",
    "\n",
    "import os\n",
    "import csv\n",
    "from tqdm import tqdm\n",
    "\n",
    "def create_stops_geo(input_folder, spatial_ref):\n",
    "    stop_times = os.path.join(input_folder, 'stop_times.txt')\n",
    "    stops = os.path.join(input_folder, 'stops.txt')\n",
    "    stop_times_geo = os.path.join(input_folder, 'stops_times_geo.txt')\n",
    "    unique_identifier_field = 'stop_id'\n",
    "    data_dict_file2 = {}\n",
    "    merged_data = []\n",
    "\n",
    "    with open(stops, 'r', newline='') as file2:\n",
    "        csvreader = csv.DictReader(file2)\n",
    "        for row in tqdm(csvreader, desc='Processing step1'):\n",
    "            stop_id = row[unique_identifier_field]\n",
    "            data_dict_file2[stop_id] = {key: row[key] for key in row if key != unique_identifier_field}\n",
    "\n",
    "    with open(stop_times, 'r', newline='') as file1:\n",
    "        csvreader = csv.DictReader(file1)\n",
    "        for row in tqdm(csvreader, desc='Processing step2'):\n",
    "            stop_id = row[unique_identifier_field]\n",
    "            data_from_file2 = data_dict_file2.get(stop_id, {})\n",
    "            row.update(data_from_file2)\n",
    "            merged_data.append(row)\n",
    "\n",
    "    with open(stop_times_geo, 'w', newline='') as merged_file:\n",
    "        fieldnames = merged_data[0].keys() \n",
    "        writer = csv.DictWriter(merged_file, fieldnames = fieldnames)\n",
    "        writer.writeheader()\n",
    "        for row in tqdm(merged_data, desc='Processing step3'):\n",
    "            writer.writerow(row)\n",
    "        \n",
    "    output_coordinate_system = arcpy.SpatialReference(spatial_ref)\n",
    "    out_feature_class = 'Stops_Geo_20240323'\n",
    "    output_projected_fc = 'Stops_Geo_Projected_20240323'\n",
    "    arcpy.management.XYTableToPoint(stop_times_geo, out_feature_class, 'stop_lon', 'stop_lat')\n",
    "    arcpy.management.Project(out_feature_class, output_projected_fc, output_coordinate_system)\n",
    "    \n",
    "    print(\"Process completed successfully.\") \n",
    "    \n",
    "create_stops_geo(r'C:\\Users\\BRAUE189\\Downloads\\gtfs20240323', 26915)"
   ]
  },
  {
   "cell_type": "code",
   "execution_count": 4,
   "metadata": {},
   "outputs": [
    {
     "name": "stderr",
     "output_type": "stream",
     "text": [
      "Processing trips: 100%|██████████| 29587/29587 [5:09:47<00:00,  1.59it/s]  ﻿\n"
     ]
    }
   ],
   "source": [
    "import datetime\n",
    "from tqdm import tqdm\n",
    "\n",
    "def snap_and_interpolate(workspace, input_line_fc, input_points_fc):\n",
    "    # Set up workspace and input data\n",
    "    arcpy.env.workspace = workspace\n",
    "    output_points_fc = 'new_points'\n",
    "\n",
    "    # Create a new feature class for the interpolated points\n",
    "    output_points_path = arcpy.CreateFeatureclass_management(arcpy.env.workspace, output_points_fc, 'POINT', spatial_reference=input_line_fc)\n",
    "\n",
    "    # Add fields to the output feature class\n",
    "    arcpy.AddField_management(output_points_path, 'time', 'TIMEONLY')\n",
    "    arcpy.AddField_management(output_points_path, 'trip_id', 'TEXT')\n",
    "\n",
    "\n",
    "    # Collect rows to insert\n",
    "    rows_to_insert = []\n",
    "\n",
    "    trip_ids = set(row[0] for row in arcpy.da.SearchCursor(input_line_fc, 'trip_id'))\n",
    "\n",
    "    for trip_id in tqdm(trip_ids, desc='Processing trips'):\n",
    "        with arcpy.da.SearchCursor(input_line_fc, ['SHAPE@'], f\"trip_id = '{trip_id}'\") as cursor1:\n",
    "            for row1 in cursor1:\n",
    "                line = row1[0]\n",
    "                prev_arrival_time = None\n",
    "                prev_departure_time = None\n",
    "                prev_point = None\n",
    "\n",
    "                with arcpy.da.SearchCursor(input_points_fc, ['SHAPE@', 'arrival_time', 'departure_time', 'trip_id'], f\"trip_id = '{trip_id}'\", sql_clause=(None, \"ORDER BY stop_sequence\")) as cursor:\n",
    "                    for row in cursor:\n",
    "                        point = row[0]\n",
    "                        arrival_time = row[1]\n",
    "                        departure_time = row[2]\n",
    "                        trip_id = row[3]\n",
    "\n",
    "                        if prev_arrival_time is not None and prev_departure_time is not None:\n",
    "                            # Calculate time difference using timedelta\n",
    "                            arrival_datetime = datetime.datetime.combine(datetime.date.today(), arrival_time)\n",
    "                            departure_datetime = datetime.datetime.combine(datetime.date.today(), prev_departure_time)\n",
    "\n",
    "                            # Calculate time difference in seconds\n",
    "                            time_diff = int((arrival_datetime - departure_datetime).total_seconds() / 60)   \n",
    "\n",
    "                            if time_diff > 1:\n",
    "                                sub_line = line.segmentAlongLine(line.measureOnLine(prev_point), line.measureOnLine(point))\n",
    "\n",
    "                                for t in range(1, time_diff):\n",
    "                                    fraction = t / time_diff\n",
    "                                    new_point = sub_line.positionAlongLine(fraction, True)\n",
    "                                    rows_to_insert.append([new_point, departure_datetime + datetime.timedelta(seconds = t * 60), trip_id])\n",
    "\n",
    "                        prev_arrival_time = arrival_time\n",
    "                        prev_departure_time = departure_time\n",
    "                        prev_point = point\n",
    "\n",
    "    # Insert all rows at once\n",
    "    with arcpy.da.InsertCursor(output_points_fc, ['SHAPE@', 'time', 'trip_id']) as insert_cursor:\n",
    "        for row in rows_to_insert:\n",
    "            insert_cursor.insertRow(row)\n",
    "\n",
    "    field_mapping = 'time \"time\" true true false 8 TimeOnly 0 0,First,#,Stops_Geo_Projected,departure_time,-1,-1;trip_id \"trip_id\" true true false 255 Text 0 0,First,#,Stops_Geo_Projected,trip_id,0,7999'\n",
    "    arcpy.management.Append(input_points_fc, output_points_fc, 'NO_TEST', field_mapping)\n",
    "    \n",
    "snap_and_interpolate(r'C:\\Users\\BRAUE189\\Documents\\ArcGIS\\Projects\\GIS5572\\Default.gdb', 'Trips_Shaped', 'Stops_Geo_Projected')"
   ]
  },
  {
   "cell_type": "code",
   "execution_count": 41,
   "metadata": {},
   "outputs": [
    {
     "name": "stderr",
     "output_type": "stream",
     "text": [
      "Processing points: 228it [06:07,  1.61s/it]﻿\n"
     ]
    },
    {
     "name": "stdout",
     "output_type": "stream",
     "text": [
      "Success, 203 trips out of 219 found. Next start time = 2024-03-23 08:01:00\n"
     ]
    },
    {
     "name": "stderr",
     "output_type": "stream",
     "text": [
      "Processing points: 221it [16:46,  4.55s/it]﻿\n"
     ]
    },
    {
     "name": "stdout",
     "output_type": "stream",
     "text": [
      "Success, 201 trips out of 217 found. Next start time = 2024-03-23 08:02:00\n"
     ]
    },
    {
     "name": "stderr",
     "output_type": "stream",
     "text": [
      "Processing points: 237it [17:53,  4.53s/it]﻿\n"
     ]
    },
    {
     "name": "stdout",
     "output_type": "stream",
     "text": [
      "Success, 224 trips out of 232 found. Next start time = 2024-03-23 08:03:00\n"
     ]
    },
    {
     "name": "stderr",
     "output_type": "stream",
     "text": [
      "Processing points: 233it [17:41,  4.56s/it]﻿\n"
     ]
    },
    {
     "name": "stdout",
     "output_type": "stream",
     "text": [
      "Success, 226 trips out of 226 found. Next start time = 2024-03-23 08:04:00\n"
     ]
    },
    {
     "name": "stderr",
     "output_type": "stream",
     "text": [
      "Processing points: 5it [00:24,  4.91s/it]﻿\n"
     ]
    },
    {
     "name": "stdout",
     "output_type": "stream",
     "text": [
      "Success, 7 trips out of 5 found. Next start time = 2024-03-23 08:05:00\n"
     ]
    },
    {
     "name": "stderr",
     "output_type": "stream",
     "text": [
      "Processing points: 229it [17:24,  4.56s/it]﻿\n"
     ]
    },
    {
     "name": "stdout",
     "output_type": "stream",
     "text": [
      "Success, 224 trips out of 222 found. Next start time = 2024-03-23 08:06:00\n"
     ]
    },
    {
     "name": "stderr",
     "output_type": "stream",
     "text": [
      "Processing points: 235it [17:57,  4.59s/it]﻿\n"
     ]
    },
    {
     "name": "stdout",
     "output_type": "stream",
     "text": [
      "Success, 212 trips out of 226 found. Next start time = 2024-03-23 08:07:00\n"
     ]
    },
    {
     "name": "stderr",
     "output_type": "stream",
     "text": [
      "Processing points: 235it [17:56,  4.58s/it]﻿\n"
     ]
    },
    {
     "name": "stdout",
     "output_type": "stream",
     "text": [
      "Success, 221 trips out of 223 found. Next start time = 2024-03-23 08:08:00\n"
     ]
    },
    {
     "name": "stderr",
     "output_type": "stream",
     "text": [
      "Processing points: 13it [01:00,  4.65s/it]﻿\n"
     ]
    },
    {
     "name": "stdout",
     "output_type": "stream",
     "text": [
      "Success, 12 trips out of 13 found. Next start time = 2024-03-23 08:09:00\n"
     ]
    },
    {
     "name": "stderr",
     "output_type": "stream",
     "text": [
      "Processing points: 227it [17:23,  4.60s/it]﻿\n"
     ]
    },
    {
     "name": "stdout",
     "output_type": "stream",
     "text": [
      "Success, 198 trips out of 218 found. Next start time = 2024-03-23 08:10:00\n"
     ]
    },
    {
     "name": "stderr",
     "output_type": "stream",
     "text": [
      "Processing points: 240it [18:20,  4.58s/it]﻿\n"
     ]
    },
    {
     "name": "stdout",
     "output_type": "stream",
     "text": [
      "Success, 221 trips out of 232 found. Next start time = 2024-03-23 08:11:00\n"
     ]
    },
    {
     "name": "stderr",
     "output_type": "stream",
     "text": [
      "Processing points: 238it [18:13,  4.59s/it]﻿\n"
     ]
    },
    {
     "name": "stdout",
     "output_type": "stream",
     "text": [
      "Success, 209 trips out of 229 found. Next start time = 2024-03-23 08:12:00\n"
     ]
    },
    {
     "name": "stderr",
     "output_type": "stream",
     "text": [
      "Processing points: 3it [00:15,  5.06s/it]﻿\n"
     ]
    },
    {
     "name": "stdout",
     "output_type": "stream",
     "text": [
      "Success, 2 trips out of 3 found. Next start time = 2024-03-23 08:13:00\n"
     ]
    },
    {
     "name": "stderr",
     "output_type": "stream",
     "text": [
      "Processing points: 233it [17:52,  4.60s/it]﻿\n"
     ]
    },
    {
     "name": "stdout",
     "output_type": "stream",
     "text": [
      "Success, 230 trips out of 228 found. Next start time = 2024-03-23 08:14:00\n"
     ]
    },
    {
     "name": "stderr",
     "output_type": "stream",
     "text": [
      "Processing points: 239it [18:22,  4.61s/it]﻿\n"
     ]
    },
    {
     "name": "stdout",
     "output_type": "stream",
     "text": [
      "Success, 236 trips out of 228 found. Next start time = 2024-03-23 08:15:00\n"
     ]
    },
    {
     "name": "stderr",
     "output_type": "stream",
     "text": [
      "Processing points: 244it [18:43,  4.60s/it]﻿\n"
     ]
    },
    {
     "name": "stdout",
     "output_type": "stream",
     "text": [
      "Success, 236 trips out of 232 found. Next start time = 2024-03-23 08:16:00\n"
     ]
    },
    {
     "name": "stderr",
     "output_type": "stream",
     "text": [
      "Processing points: 15it [01:11,  4.76s/it]﻿\n"
     ]
    },
    {
     "name": "stdout",
     "output_type": "stream",
     "text": [
      "Success, 13 trips out of 15 found. Next start time = 2024-03-23 08:17:00\n"
     ]
    },
    {
     "name": "stderr",
     "output_type": "stream",
     "text": [
      "Processing points: 226it [17:24,  4.62s/it]﻿\n"
     ]
    },
    {
     "name": "stdout",
     "output_type": "stream",
     "text": [
      "Success, 223 trips out of 218 found. Next start time = 2024-03-23 08:18:00\n"
     ]
    },
    {
     "name": "stderr",
     "output_type": "stream",
     "text": [
      "Processing points: 240it [18:39,  4.66s/it]﻿\n"
     ]
    },
    {
     "name": "stdout",
     "output_type": "stream",
     "text": [
      "Success, 243 trips out of 232 found. Next start time = 2024-03-23 08:19:00\n"
     ]
    },
    {
     "name": "stderr",
     "output_type": "stream",
     "text": [
      "Processing points: 249it [19:19,  4.66s/it]﻿\n"
     ]
    },
    {
     "name": "stdout",
     "output_type": "stream",
     "text": [
      "Success, 231 trips out of 238 found. Next start time = 2024-03-23 08:20:00\n"
     ]
    },
    {
     "name": "stderr",
     "output_type": "stream",
     "text": [
      "Processing points: 17it [01:21,  4.78s/it]﻿\n"
     ]
    },
    {
     "name": "stdout",
     "output_type": "stream",
     "text": [
      "Success, 8 trips out of 16 found. Next start time = 2024-03-23 08:21:00\n"
     ]
    },
    {
     "name": "stderr",
     "output_type": "stream",
     "text": [
      "Processing points: 237it [18:21,  4.65s/it]﻿\n"
     ]
    },
    {
     "name": "stdout",
     "output_type": "stream",
     "text": [
      "Success, 228 trips out of 229 found. Next start time = 2024-03-23 08:22:00\n"
     ]
    },
    {
     "name": "stderr",
     "output_type": "stream",
     "text": [
      "Processing points: 230it [17:49,  4.65s/it]﻿\n"
     ]
    },
    {
     "name": "stdout",
     "output_type": "stream",
     "text": [
      "Success, 208 trips out of 223 found. Next start time = 2024-03-23 08:23:00\n"
     ]
    },
    {
     "name": "stderr",
     "output_type": "stream",
     "text": [
      "Processing points: 252it [19:33,  4.66s/it]﻿\n"
     ]
    },
    {
     "name": "stdout",
     "output_type": "stream",
     "text": [
      "Success, 220 trips out of 241 found. Next start time = 2024-03-23 08:24:00\n"
     ]
    },
    {
     "name": "stderr",
     "output_type": "stream",
     "text": [
      "Processing points: 22it [01:43,  4.70s/it]﻿\n"
     ]
    },
    {
     "name": "stdout",
     "output_type": "stream",
     "text": [
      "Success, 12 trips out of 21 found. Next start time = 2024-03-23 08:25:00\n"
     ]
    },
    {
     "name": "stderr",
     "output_type": "stream",
     "text": [
      "Processing points: 252it [19:35,  4.67s/it]﻿\n"
     ]
    },
    {
     "name": "stdout",
     "output_type": "stream",
     "text": [
      "Success, 216 trips out of 244 found. Next start time = 2024-03-23 08:26:00\n"
     ]
    },
    {
     "name": "stderr",
     "output_type": "stream",
     "text": [
      "Processing points: 241it [18:42,  4.66s/it]﻿\n"
     ]
    },
    {
     "name": "stdout",
     "output_type": "stream",
     "text": [
      "Success, 203 trips out of 231 found. Next start time = 2024-03-23 08:27:00\n"
     ]
    },
    {
     "name": "stderr",
     "output_type": "stream",
     "text": [
      "Processing points: 260it [20:09,  4.65s/it]﻿\n"
     ]
    },
    {
     "name": "stdout",
     "output_type": "stream",
     "text": [
      "Success, 206 trips out of 249 found. Next start time = 2024-03-23 08:28:00\n"
     ]
    },
    {
     "name": "stderr",
     "output_type": "stream",
     "text": [
      "Processing points: 265it [20:33,  4.65s/it]﻿\n"
     ]
    },
    {
     "name": "stdout",
     "output_type": "stream",
     "text": [
      "Success, 210 trips out of 255 found. Next start time = 2024-03-23 08:29:00\n"
     ]
    },
    {
     "name": "stderr",
     "output_type": "stream",
     "text": [
      "Processing points: 264it [20:32,  4.67s/it]﻿\n"
     ]
    },
    {
     "name": "stdout",
     "output_type": "stream",
     "text": [
      "Success, 216 trips out of 258 found. Next start time = 2024-03-23 08:30:00\n"
     ]
    },
    {
     "name": "stderr",
     "output_type": "stream",
     "text": [
      "Processing points: 5it [00:24,  4.88s/it]﻿\n"
     ]
    },
    {
     "name": "stdout",
     "output_type": "stream",
     "text": [
      "Success, 1 trips out of 5 found. Next start time = 2024-03-23 08:31:00\n"
     ]
    },
    {
     "name": "stderr",
     "output_type": "stream",
     "text": [
      "Processing points: 259it [20:06,  4.66s/it]﻿\n"
     ]
    },
    {
     "name": "stdout",
     "output_type": "stream",
     "text": [
      "Success, 240 trips out of 252 found. Next start time = 2024-03-23 08:32:00\n"
     ]
    },
    {
     "name": "stderr",
     "output_type": "stream",
     "text": [
      "Processing points: 264it [20:27,  4.65s/it]﻿\n"
     ]
    },
    {
     "name": "stdout",
     "output_type": "stream",
     "text": [
      "Success, 226 trips out of 254 found. Next start time = 2024-03-23 08:33:00\n"
     ]
    },
    {
     "name": "stderr",
     "output_type": "stream",
     "text": [
      "Processing points: 18it [01:25,  4.72s/it]﻿\n"
     ]
    },
    {
     "name": "stdout",
     "output_type": "stream",
     "text": [
      "Success, 14 trips out of 17 found. Next start time = 2024-03-23 08:34:00\n"
     ]
    },
    {
     "name": "stderr",
     "output_type": "stream",
     "text": [
      "Processing points: 258it [20:06,  4.67s/it]﻿\n"
     ]
    },
    {
     "name": "stdout",
     "output_type": "stream",
     "text": [
      "Success, 221 trips out of 247 found. Next start time = 2024-03-23 08:35:00\n"
     ]
    },
    {
     "name": "stderr",
     "output_type": "stream",
     "text": [
      "Processing points: 251it [19:36,  4.69s/it]﻿\n"
     ]
    },
    {
     "name": "stdout",
     "output_type": "stream",
     "text": [
      "Success, 227 trips out of 239 found. Next start time = 2024-03-23 08:36:00\n"
     ]
    },
    {
     "name": "stderr",
     "output_type": "stream",
     "text": [
      "Processing points: 262it [20:24,  4.67s/it]﻿\n"
     ]
    },
    {
     "name": "stdout",
     "output_type": "stream",
     "text": [
      "Success, 236 trips out of 254 found. Next start time = 2024-03-23 08:37:00\n"
     ]
    },
    {
     "name": "stderr",
     "output_type": "stream",
     "text": [
      "Processing points: 15it [01:12,  4.83s/it]﻿\n"
     ]
    },
    {
     "name": "stdout",
     "output_type": "stream",
     "text": [
      "Success, 13 trips out of 13 found. Next start time = 2024-03-23 08:38:00\n"
     ]
    },
    {
     "name": "stderr",
     "output_type": "stream",
     "text": [
      "Processing points: 259it [20:13,  4.68s/it]﻿\n"
     ]
    },
    {
     "name": "stdout",
     "output_type": "stream",
     "text": [
      "Success, 229 trips out of 246 found. Next start time = 2024-03-23 08:39:00\n"
     ]
    },
    {
     "name": "stderr",
     "output_type": "stream",
     "text": [
      "Processing points: 263it [20:33,  4.69s/it]﻿\n"
     ]
    },
    {
     "name": "stdout",
     "output_type": "stream",
     "text": [
      "Success, 234 trips out of 254 found. Next start time = 2024-03-23 08:40:00\n"
     ]
    },
    {
     "name": "stderr",
     "output_type": "stream",
     "text": [
      "Processing points: 263it [20:45,  4.74s/it]﻿\n"
     ]
    },
    {
     "name": "stdout",
     "output_type": "stream",
     "text": [
      "Success, 233 trips out of 253 found. Next start time = 2024-03-23 08:41:00\n"
     ]
    },
    {
     "name": "stderr",
     "output_type": "stream",
     "text": [
      "Processing points: 25it [01:58,  4.73s/it]﻿\n"
     ]
    },
    {
     "name": "stdout",
     "output_type": "stream",
     "text": [
      "Success, 18 trips out of 20 found. Next start time = 2024-03-23 08:42:00\n"
     ]
    },
    {
     "name": "stderr",
     "output_type": "stream",
     "text": [
      "Processing points: 255it [19:59,  4.70s/it]﻿\n"
     ]
    },
    {
     "name": "stdout",
     "output_type": "stream",
     "text": [
      "Success, 240 trips out of 245 found. Next start time = 2024-03-23 08:43:00\n"
     ]
    },
    {
     "name": "stderr",
     "output_type": "stream",
     "text": [
      "Processing points: 270it [21:07,  4.69s/it]﻿\n"
     ]
    },
    {
     "name": "stdout",
     "output_type": "stream",
     "text": [
      "Success, 251 trips out of 261 found. Next start time = 2024-03-23 08:44:00\n"
     ]
    },
    {
     "name": "stderr",
     "output_type": "stream",
     "text": [
      "Processing points: 268it [20:56,  4.69s/it]﻿\n"
     ]
    },
    {
     "name": "stdout",
     "output_type": "stream",
     "text": [
      "Success, 246 trips out of 260 found. Next start time = 2024-03-23 08:45:00\n"
     ]
    },
    {
     "name": "stderr",
     "output_type": "stream",
     "text": [
      "Processing points: 21it [01:40,  4.77s/it]﻿\n"
     ]
    },
    {
     "name": "stdout",
     "output_type": "stream",
     "text": [
      "Success, 10 trips out of 17 found. Next start time = 2024-03-23 08:46:00\n"
     ]
    },
    {
     "name": "stderr",
     "output_type": "stream",
     "text": [
      "Processing points: 254it [19:55,  4.71s/it]﻿\n"
     ]
    },
    {
     "name": "stdout",
     "output_type": "stream",
     "text": [
      "Success, 250 trips out of 249 found. Next start time = 2024-03-23 08:47:00\n"
     ]
    },
    {
     "name": "stderr",
     "output_type": "stream",
     "text": [
      "Processing points: 257it [20:10,  4.71s/it]﻿\n"
     ]
    },
    {
     "name": "stdout",
     "output_type": "stream",
     "text": [
      "Success, 261 trips out of 253 found. Next start time = 2024-03-23 08:48:00\n"
     ]
    },
    {
     "name": "stderr",
     "output_type": "stream",
     "text": [
      "Processing points: 13it [01:02,  4.78s/it]﻿\n"
     ]
    },
    {
     "name": "stdout",
     "output_type": "stream",
     "text": [
      "Success, 8 trips out of 13 found. Next start time = 2024-03-23 08:49:00\n"
     ]
    },
    {
     "name": "stderr",
     "output_type": "stream",
     "text": [
      "Processing points: 276it [21:47,  4.74s/it]﻿\n"
     ]
    },
    {
     "name": "stdout",
     "output_type": "stream",
     "text": [
      "Success, 254 trips out of 262 found. Next start time = 2024-03-23 08:50:00\n"
     ]
    },
    {
     "name": "stderr",
     "output_type": "stream",
     "text": [
      "Processing points: 263it [20:39,  4.71s/it]﻿\n"
     ]
    },
    {
     "name": "stdout",
     "output_type": "stream",
     "text": [
      "Success, 271 trips out of 256 found. Next start time = 2024-03-23 08:51:00\n"
     ]
    },
    {
     "name": "stderr",
     "output_type": "stream",
     "text": [
      "Processing points: 261it [20:30,  4.71s/it]﻿\n"
     ]
    },
    {
     "name": "stdout",
     "output_type": "stream",
     "text": [
      "Success, 248 trips out of 251 found. Next start time = 2024-03-23 08:52:00\n"
     ]
    },
    {
     "name": "stderr",
     "output_type": "stream",
     "text": [
      "Processing points: 265it [20:53,  4.73s/it]﻿\n"
     ]
    },
    {
     "name": "stdout",
     "output_type": "stream",
     "text": [
      "Success, 243 trips out of 256 found. Next start time = 2024-03-23 08:53:00\n"
     ]
    },
    {
     "name": "stderr",
     "output_type": "stream",
     "text": [
      "Processing points: 18it [01:26,  4.81s/it]﻿\n"
     ]
    },
    {
     "name": "stdout",
     "output_type": "stream",
     "text": [
      "Success, 12 trips out of 18 found. Next start time = 2024-03-23 08:54:00\n"
     ]
    },
    {
     "name": "stderr",
     "output_type": "stream",
     "text": [
      "Processing points: 257it [20:12,  4.72s/it]﻿\n"
     ]
    },
    {
     "name": "stdout",
     "output_type": "stream",
     "text": [
      "Success, 234 trips out of 249 found. Next start time = 2024-03-23 08:55:00\n"
     ]
    },
    {
     "name": "stderr",
     "output_type": "stream",
     "text": [
      "Processing points: 268it [21:17,  4.77s/it]﻿\n"
     ]
    },
    {
     "name": "stdout",
     "output_type": "stream",
     "text": [
      "Success, 235 trips out of 262 found. Next start time = 2024-03-23 08:56:00\n"
     ]
    },
    {
     "name": "stderr",
     "output_type": "stream",
     "text": [
      "Processing points: 275it [21:49,  4.76s/it]﻿\n"
     ]
    },
    {
     "name": "stdout",
     "output_type": "stream",
     "text": [
      "Success, 225 trips out of 266 found. Next start time = 2024-03-23 08:57:00\n"
     ]
    },
    {
     "name": "stderr",
     "output_type": "stream",
     "text": [
      "Processing points: 21it [01:41,  4.84s/it]﻿\n"
     ]
    },
    {
     "name": "stdout",
     "output_type": "stream",
     "text": [
      "Success, 17 trips out of 20 found. Next start time = 2024-03-23 08:58:00\n"
     ]
    },
    {
     "name": "stderr",
     "output_type": "stream",
     "text": [
      "Processing points: 265it [21:20,  4.83s/it]﻿\n"
     ]
    },
    {
     "name": "stdout",
     "output_type": "stream",
     "text": [
      "Success, 230 trips out of 258 found. Next start time = 2024-03-23 08:59:00\n"
     ]
    },
    {
     "name": "stderr",
     "output_type": "stream",
     "text": [
      "Processing points: 263it [22:00,  5.02s/it]﻿\n"
     ]
    },
    {
     "name": "stdout",
     "output_type": "stream",
     "text": [
      "Success, 235 trips out of 258 found. Next start time = 2024-03-23 09:00:00\n"
     ]
    },
    {
     "name": "stderr",
     "output_type": "stream",
     "text": [
      "Processing points: 276it [23:08,  5.03s/it]﻿\n"
     ]
    },
    {
     "name": "stdout",
     "output_type": "stream",
     "text": [
      "Success, 263 trips out of 270 found. Next start time = 2024-03-23 09:01:00\n"
     ]
    },
    {
     "name": "stderr",
     "output_type": "stream",
     "text": [
      "Processing points: 21it [01:41,  4.84s/it]﻿\n"
     ]
    },
    {
     "name": "stdout",
     "output_type": "stream",
     "text": [
      "Success, 16 trips out of 21 found. Next start time = 2024-03-23 09:02:00\n"
     ]
    },
    {
     "name": "stderr",
     "output_type": "stream",
     "text": [
      "Processing points: 257it [20:29,  4.79s/it]﻿\n"
     ]
    },
    {
     "name": "stdout",
     "output_type": "stream",
     "text": [
      "Success, 250 trips out of 251 found. Next start time = 2024-03-23 09:03:00\n"
     ]
    },
    {
     "name": "stderr",
     "output_type": "stream",
     "text": [
      "Processing points: 284it [22:42,  4.80s/it]﻿\n"
     ]
    },
    {
     "name": "stdout",
     "output_type": "stream",
     "text": [
      "Success, 277 trips out of 273 found. Next start time = 2024-03-23 09:04:00\n"
     ]
    },
    {
     "name": "stderr",
     "output_type": "stream",
     "text": [
      "Processing points: 277it [22:03,  4.78s/it]﻿\n"
     ]
    },
    {
     "name": "stdout",
     "output_type": "stream",
     "text": [
      "Success, 258 trips out of 269 found. Next start time = 2024-03-23 09:05:00\n"
     ]
    },
    {
     "name": "stderr",
     "output_type": "stream",
     "text": [
      "Processing points: 10it [00:49,  4.92s/it]﻿\n"
     ]
    },
    {
     "name": "stdout",
     "output_type": "stream",
     "text": [
      "Success, 6 trips out of 8 found. Next start time = 2024-03-23 09:06:00\n"
     ]
    },
    {
     "name": "stderr",
     "output_type": "stream",
     "text": [
      "Processing points: 278it [22:20,  4.82s/it]﻿\n"
     ]
    },
    {
     "name": "stdout",
     "output_type": "stream",
     "text": [
      "Success, 246 trips out of 271 found. Next start time = 2024-03-23 09:07:00\n"
     ]
    },
    {
     "name": "stderr",
     "output_type": "stream",
     "text": [
      "Processing points: 280it [23:23,  5.01s/it]﻿\n"
     ]
    },
    {
     "name": "stdout",
     "output_type": "stream",
     "text": [
      "Success, 260 trips out of 271 found. Next start time = 2024-03-23 09:08:00\n"
     ]
    },
    {
     "name": "stderr",
     "output_type": "stream",
     "text": [
      "Processing points: 26it [02:11,  5.05s/it]﻿\n"
     ]
    },
    {
     "name": "stdout",
     "output_type": "stream",
     "text": [
      "Success, 15 trips out of 22 found. Next start time = 2024-03-23 09:09:00\n"
     ]
    },
    {
     "name": "stderr",
     "output_type": "stream",
     "text": [
      "Processing points: 264it [22:02,  5.01s/it]﻿\n"
     ]
    },
    {
     "name": "stdout",
     "output_type": "stream",
     "text": [
      "Success, 242 trips out of 255 found. Next start time = 2024-03-23 09:10:00\n"
     ]
    },
    {
     "name": "stderr",
     "output_type": "stream",
     "text": [
      "Processing points: 290it [24:15,  5.02s/it]﻿\n"
     ]
    },
    {
     "name": "stdout",
     "output_type": "stream",
     "text": [
      "Success, 268 trips out of 280 found. Next start time = 2024-03-23 09:11:00\n"
     ]
    },
    {
     "name": "stderr",
     "output_type": "stream",
     "text": [
      "Processing points: 289it [23:58,  4.98s/it]﻿\n"
     ]
    },
    {
     "name": "stdout",
     "output_type": "stream",
     "text": [
      "Success, 259 trips out of 280 found. Next start time = 2024-03-23 09:12:00\n"
     ]
    },
    {
     "name": "stderr",
     "output_type": "stream",
     "text": [
      "Processing points: 16it [01:21,  5.07s/it]﻿\n"
     ]
    },
    {
     "name": "stdout",
     "output_type": "stream",
     "text": [
      "Success, 11 trips out of 16 found. Next start time = 2024-03-23 09:13:00\n"
     ]
    },
    {
     "name": "stderr",
     "output_type": "stream",
     "text": [
      "Processing points: 133it [11:09,  5.03s/it]﻿\n"
     ]
    },
    {
     "name": "stdout",
     "output_type": "stream",
     "text": [
      "Success, 97 trips out of 130 found. Next start time = 2024-03-23 09:14:00\n"
     ]
    },
    {
     "name": "stderr",
     "output_type": "stream",
     "text": [
      "Processing points: 292it [24:47,  5.09s/it]﻿\n"
     ]
    },
    {
     "name": "stdout",
     "output_type": "stream",
     "text": [
      "Success, 280 trips out of 280 found. Next start time = 2024-03-23 09:15:00\n"
     ]
    },
    {
     "name": "stderr",
     "output_type": "stream",
     "text": [
      "Processing points: 279it [24:29,  5.27s/it]﻿\n"
     ]
    },
    {
     "name": "stdout",
     "output_type": "stream",
     "text": [
      "Success, 280 trips out of 272 found. Next start time = 2024-03-23 09:16:00\n"
     ]
    },
    {
     "name": "stderr",
     "output_type": "stream",
     "text": [
      "Processing points: 10it [00:52,  5.22s/it]﻿\n"
     ]
    },
    {
     "name": "stdout",
     "output_type": "stream",
     "text": [
      "Success, 6 trips out of 10 found. Next start time = 2024-03-23 09:17:00\n"
     ]
    },
    {
     "name": "stderr",
     "output_type": "stream",
     "text": [
      "Processing points: 277it [24:32,  5.32s/it]﻿\n"
     ]
    },
    {
     "name": "stdout",
     "output_type": "stream",
     "text": [
      "Success, 271 trips out of 269 found. Next start time = 2024-03-23 09:18:00\n"
     ]
    },
    {
     "name": "stderr",
     "output_type": "stream",
     "text": [
      "Processing points: 286it [25:24,  5.33s/it]﻿\n"
     ]
    },
    {
     "name": "stdout",
     "output_type": "stream",
     "text": [
      "Success, 284 trips out of 279 found. Next start time = 2024-03-23 09:19:00\n"
     ]
    },
    {
     "name": "stderr",
     "output_type": "stream",
     "text": [
      "Processing points: 284it [25:49,  5.46s/it]﻿\n"
     ]
    },
    {
     "name": "stdout",
     "output_type": "stream",
     "text": [
      "Success, 269 trips out of 280 found. Next start time = 2024-03-23 09:20:00\n"
     ]
    },
    {
     "name": "stderr",
     "output_type": "stream",
     "text": [
      "Processing points: 4it [00:21,  5.35s/it]﻿\n"
     ]
    },
    {
     "name": "stdout",
     "output_type": "stream",
     "text": [
      "Success, 0 trips out of 2 found. Next start time = 2024-03-23 09:21:00\n"
     ]
    },
    {
     "name": "stderr",
     "output_type": "stream",
     "text": [
      "Processing points: 5it [00:26,  5.39s/it]﻿\n"
     ]
    },
    {
     "name": "stdout",
     "output_type": "stream",
     "text": [
      "Success, 5 trips out of 5 found. Next start time = 2024-03-23 09:22:00\n"
     ]
    },
    {
     "name": "stderr",
     "output_type": "stream",
     "text": [
      "Processing points: 288it [26:28,  5.52s/it]﻿\n"
     ]
    },
    {
     "name": "stdout",
     "output_type": "stream",
     "text": [
      "Success, 261 trips out of 284 found. Next start time = 2024-03-23 09:23:00\n"
     ]
    },
    {
     "name": "stderr",
     "output_type": "stream",
     "text": [
      "Processing points: 287it [26:19,  5.50s/it]﻿\n"
     ]
    },
    {
     "name": "stdout",
     "output_type": "stream",
     "text": [
      "Success, 244 trips out of 279 found. Next start time = 2024-03-23 09:24:00\n"
     ]
    },
    {
     "name": "stderr",
     "output_type": "stream",
     "text": [
      "Processing points: 289it [27:07,  5.63s/it]﻿\n"
     ]
    },
    {
     "name": "stdout",
     "output_type": "stream",
     "text": [
      "Success, 246 trips out of 282 found. Next start time = 2024-03-23 09:25:00\n"
     ]
    },
    {
     "name": "stderr",
     "output_type": "stream",
     "text": [
      "Processing points: 8it [00:43,  5.43s/it]﻿\n"
     ]
    },
    {
     "name": "stdout",
     "output_type": "stream",
     "text": [
      "Success, 4 trips out of 6 found. Next start time = 2024-03-23 09:26:00\n"
     ]
    },
    {
     "name": "stderr",
     "output_type": "stream",
     "text": [
      "Processing points: 288it [26:53,  5.60s/it]﻿\n"
     ]
    },
    {
     "name": "stdout",
     "output_type": "stream",
     "text": [
      "Success, 242 trips out of 280 found. Next start time = 2024-03-23 09:27:00\n"
     ]
    },
    {
     "name": "stderr",
     "output_type": "stream",
     "text": [
      "Processing points: 288it [27:01,  5.63s/it]﻿\n"
     ]
    },
    {
     "name": "stdout",
     "output_type": "stream",
     "text": [
      "Success, 236 trips out of 281 found. Next start time = 2024-03-23 09:28:00\n"
     ]
    },
    {
     "name": "stderr",
     "output_type": "stream",
     "text": [
      "Processing points: 299it [25:57,  5.21s/it]﻿\n"
     ]
    },
    {
     "name": "stdout",
     "output_type": "stream",
     "text": [
      "Success, 239 trips out of 289 found. Next start time = 2024-03-23 09:29:00\n"
     ]
    },
    {
     "name": "stderr",
     "output_type": "stream",
     "text": [
      "Processing points: 9it [00:45,  5.08s/it]﻿\n"
     ]
    },
    {
     "name": "stdout",
     "output_type": "stream",
     "text": [
      "Success, 4 trips out of 9 found. Next start time = 2024-03-23 09:30:00\n"
     ]
    },
    {
     "name": "stderr",
     "output_type": "stream",
     "text": [
      "Processing points: 286it [23:43,  4.98s/it]﻿\n"
     ]
    },
    {
     "name": "stdout",
     "output_type": "stream",
     "text": [
      "Success, 261 trips out of 277 found. Next start time = 2024-03-23 09:31:00\n"
     ]
    },
    {
     "name": "stderr",
     "output_type": "stream",
     "text": [
      "Processing points: 287it [24:45,  5.17s/it]﻿\n"
     ]
    },
    {
     "name": "stdout",
     "output_type": "stream",
     "text": [
      "Success, 258 trips out of 279 found. Next start time = 2024-03-23 09:32:00\n"
     ]
    },
    {
     "name": "stderr",
     "output_type": "stream",
     "text": [
      "Processing points: 287it [24:49,  5.19s/it]﻿\n"
     ]
    },
    {
     "name": "stdout",
     "output_type": "stream",
     "text": [
      "Success, 261 trips out of 277 found. Next start time = 2024-03-23 09:33:00\n"
     ]
    },
    {
     "name": "stderr",
     "output_type": "stream",
     "text": [
      "Processing points: 5it [00:25,  5.18s/it]﻿\n"
     ]
    },
    {
     "name": "stdout",
     "output_type": "stream",
     "text": [
      "Success, 2 trips out of 5 found. Next start time = 2024-03-23 09:34:00\n"
     ]
    },
    {
     "name": "stderr",
     "output_type": "stream",
     "text": [
      "Processing points: 282it [23:25,  4.98s/it]﻿\n"
     ]
    },
    {
     "name": "stdout",
     "output_type": "stream",
     "text": [
      "Success, 263 trips out of 275 found. Next start time = 2024-03-23 09:35:00\n"
     ]
    },
    {
     "name": "stderr",
     "output_type": "stream",
     "text": [
      "Processing points: 295it [24:32,  4.99s/it]﻿\n"
     ]
    },
    {
     "name": "stdout",
     "output_type": "stream",
     "text": [
      "Success, 269 trips out of 279 found. Next start time = 2024-03-23 09:36:00\n"
     ]
    },
    {
     "name": "stderr",
     "output_type": "stream",
     "text": [
      "Processing points: 288it [23:55,  4.99s/it]﻿\n"
     ]
    },
    {
     "name": "stdout",
     "output_type": "stream",
     "text": [
      "Success, 263 trips out of 280 found. Next start time = 2024-03-23 09:37:00\n"
     ]
    },
    {
     "name": "stderr",
     "output_type": "stream",
     "text": [
      "Processing points: 8it [00:41,  5.18s/it]﻿\n"
     ]
    },
    {
     "name": "stdout",
     "output_type": "stream",
     "text": [
      "Success, 1 trips out of 8 found. Next start time = 2024-03-23 09:38:00\n"
     ]
    },
    {
     "name": "stderr",
     "output_type": "stream",
     "text": [
      "Processing points: 287it [23:56,  5.00s/it]﻿\n"
     ]
    },
    {
     "name": "stdout",
     "output_type": "stream",
     "text": [
      "Success, 264 trips out of 278 found. Next start time = 2024-03-23 09:39:00\n"
     ]
    },
    {
     "name": "stderr",
     "output_type": "stream",
     "text": [
      "Processing points: 299it [24:55,  5.00s/it]﻿\n"
     ]
    },
    {
     "name": "stdout",
     "output_type": "stream",
     "text": [
      "Success, 265 trips out of 289 found. Next start time = 2024-03-23 09:40:00\n"
     ]
    },
    {
     "name": "stderr",
     "output_type": "stream",
     "text": [
      "Processing points: 10it [00:51,  5.12s/it]﻿\n"
     ]
    },
    {
     "name": "stdout",
     "output_type": "stream",
     "text": [
      "Success, 5 trips out of 10 found. Next start time = 2024-03-23 09:41:00\n"
     ]
    },
    {
     "name": "stderr",
     "output_type": "stream",
     "text": [
      "Processing points: 296it [24:42,  5.01s/it]﻿\n"
     ]
    },
    {
     "name": "stdout",
     "output_type": "stream",
     "text": [
      "Success, 265 trips out of 287 found. Next start time = 2024-03-23 09:42:00\n"
     ]
    },
    {
     "name": "stderr",
     "output_type": "stream",
     "text": [
      "Processing points: 295it [29:55,  6.09s/it]﻿\n"
     ]
    },
    {
     "name": "stdout",
     "output_type": "stream",
     "text": [
      "Success, 270 trips out of 287 found. Next start time = 2024-03-23 09:43:00\n"
     ]
    },
    {
     "name": "stderr",
     "output_type": "stream",
     "text": [
      "Processing points: 31it [02:51,  5.54s/it]﻿\n"
     ]
    },
    {
     "name": "stdout",
     "output_type": "stream",
     "text": [
      "Success, 27 trips out of 31 found. Next start time = 2024-03-23 09:44:00\n"
     ]
    },
    {
     "name": "stderr",
     "output_type": "stream",
     "text": [
      "Processing points: 317it [28:42,  5.43s/it]﻿\n"
     ]
    },
    {
     "name": "stdout",
     "output_type": "stream",
     "text": [
      "Success, 278 trips out of 283 found. Next start time = 2024-03-23 09:45:00\n"
     ]
    },
    {
     "name": "stderr",
     "output_type": "stream",
     "text": [
      "Processing points: 257it [23:14,  5.43s/it]﻿\n"
     ]
    },
    {
     "name": "stdout",
     "output_type": "stream",
     "text": [
      "Success, 243 trips out of 249 found. Next start time = 2024-03-23 09:46:00\n"
     ]
    },
    {
     "name": "stderr",
     "output_type": "stream",
     "text": [
      "Processing points: 296it [26:55,  5.46s/it]﻿\n"
     ]
    },
    {
     "name": "stdout",
     "output_type": "stream",
     "text": [
      "Success, 278 trips out of 285 found. Next start time = 2024-03-23 09:47:00\n"
     ]
    },
    {
     "name": "stderr",
     "output_type": "stream",
     "text": [
      "Processing points: 296it [27:07,  5.50s/it]﻿\n"
     ]
    },
    {
     "name": "stdout",
     "output_type": "stream",
     "text": [
      "Success, 292 trips out of 289 found. Next start time = 2024-03-23 09:48:00\n"
     ]
    },
    {
     "name": "stderr",
     "output_type": "stream",
     "text": [
      "Processing points: 1it [00:06,  6.62s/it]﻿\n"
     ]
    },
    {
     "name": "stdout",
     "output_type": "stream",
     "text": [
      "Success, 0 trips out of 1 found. Next start time = 2024-03-23 09:49:00\n"
     ]
    },
    {
     "name": "stderr",
     "output_type": "stream",
     "text": [
      "Processing points: 296it [27:09,  5.50s/it]﻿\n"
     ]
    },
    {
     "name": "stdout",
     "output_type": "stream",
     "text": [
      "Success, 272 trips out of 290 found. Next start time = 2024-03-23 09:50:00\n"
     ]
    },
    {
     "name": "stderr",
     "output_type": "stream",
     "text": [
      "Processing points: 292it [26:50,  5.51s/it]﻿\n"
     ]
    },
    {
     "name": "stdout",
     "output_type": "stream",
     "text": [
      "Success, 275 trips out of 284 found. Next start time = 2024-03-23 09:51:00\n"
     ]
    },
    {
     "name": "stderr",
     "output_type": "stream",
     "text": [
      "Processing points: 34it [03:06,  5.50s/it]﻿\n"
     ]
    },
    {
     "name": "stdout",
     "output_type": "stream",
     "text": [
      "Success, 20 trips out of 34 found. Next start time = 2024-03-23 09:52:00\n"
     ]
    },
    {
     "name": "stderr",
     "output_type": "stream",
     "text": [
      "Processing points: 276it [25:37,  5.57s/it]﻿\n"
     ]
    },
    {
     "name": "stdout",
     "output_type": "stream",
     "text": [
      "Success, 245 trips out of 265 found. Next start time = 2024-03-23 09:53:00\n"
     ]
    },
    {
     "name": "stderr",
     "output_type": "stream",
     "text": [
      "Processing points: 290it [26:50,  5.55s/it]﻿\n"
     ]
    },
    {
     "name": "stdout",
     "output_type": "stream",
     "text": [
      "Success, 251 trips out of 280 found. Next start time = 2024-03-23 09:54:00\n"
     ]
    },
    {
     "name": "stderr",
     "output_type": "stream",
     "text": [
      "Processing points: 285it [26:14,  5.52s/it]﻿\n"
     ]
    },
    {
     "name": "stdout",
     "output_type": "stream",
     "text": [
      "Success, 233 trips out of 278 found. Next start time = 2024-03-23 09:55:00\n"
     ]
    },
    {
     "name": "stderr",
     "output_type": "stream",
     "text": [
      "Processing points: 301it [27:43,  5.53s/it]﻿\n"
     ]
    },
    {
     "name": "stdout",
     "output_type": "stream",
     "text": [
      "Success, 265 trips out of 292 found. Next start time = 2024-03-23 09:56:00\n"
     ]
    },
    {
     "name": "stderr",
     "output_type": "stream",
     "text": [
      "Processing points: 6it [00:34,  5.73s/it]﻿\n"
     ]
    },
    {
     "name": "stdout",
     "output_type": "stream",
     "text": [
      "Success, 2 trips out of 6 found. Next start time = 2024-03-23 09:57:00\n"
     ]
    },
    {
     "name": "stderr",
     "output_type": "stream",
     "text": [
      "Processing points: 300it [27:41,  5.54s/it]﻿\n"
     ]
    },
    {
     "name": "stdout",
     "output_type": "stream",
     "text": [
      "Success, 253 trips out of 293 found. Next start time = 2024-03-23 09:58:00\n"
     ]
    },
    {
     "name": "stderr",
     "output_type": "stream",
     "text": [
      "Processing points: 302it [27:53,  5.54s/it]﻿\n"
     ]
    },
    {
     "name": "stdout",
     "output_type": "stream",
     "text": [
      "Success, 256 trips out of 297 found. Next start time = 2024-03-23 09:59:00\n"
     ]
    },
    {
     "name": "stderr",
     "output_type": "stream",
     "text": [
      "Processing points: 10it [00:57,  5.72s/it]﻿\n"
     ]
    },
    {
     "name": "stdout",
     "output_type": "stream",
     "text": [
      "Success, 6 trips out of 10 found. Next start time = 2024-03-23 10:00:00\n"
     ]
    },
    {
     "name": "stderr",
     "output_type": "stream",
     "text": [
      "Processing points: 292it [26:55,  5.53s/it]﻿\n"
     ]
    },
    {
     "name": "stdout",
     "output_type": "stream",
     "text": [
      "Success, 268 trips out of 286 found. Next start time = 2024-03-23 10:01:00\n"
     ]
    },
    {
     "name": "stderr",
     "output_type": "stream",
     "text": [
      "Processing points: 298it [27:35,  5.56s/it]﻿\n"
     ]
    },
    {
     "name": "stdout",
     "output_type": "stream",
     "text": [
      "Success, 275 trips out of 293 found. Next start time = 2024-03-23 10:02:00\n"
     ]
    },
    {
     "name": "stderr",
     "output_type": "stream",
     "text": [
      "Processing points: 7it [00:40,  5.78s/it]﻿\n"
     ]
    },
    {
     "name": "stdout",
     "output_type": "stream",
     "text": [
      "Success, 4 trips out of 7 found. Next start time = 2024-03-23 10:03:00\n"
     ]
    },
    {
     "name": "stderr",
     "output_type": "stream",
     "text": [
      "Processing points: 292it [27:06,  5.57s/it]﻿\n"
     ]
    },
    {
     "name": "stdout",
     "output_type": "stream",
     "text": [
      "Success, 293 trips out of 287 found. Next start time = 2024-03-23 10:04:00\n"
     ]
    },
    {
     "name": "stderr",
     "output_type": "stream",
     "text": [
      "Processing points: 292it [28:16,  5.81s/it]﻿\n"
     ]
    },
    {
     "name": "stdout",
     "output_type": "stream",
     "text": [
      "Success, 279 trips out of 284 found. Next start time = 2024-03-23 10:05:00\n"
     ]
    },
    {
     "name": "stderr",
     "output_type": "stream",
     "text": [
      "Processing points: 42it [03:55,  5.61s/it]﻿\n"
     ]
    },
    {
     "name": "stdout",
     "output_type": "stream",
     "text": [
      "Success, 22 trips out of 33 found. Next start time = 2024-03-23 10:06:00\n"
     ]
    },
    {
     "name": "stderr",
     "output_type": "stream",
     "text": [
      "Processing points: 288it [26:50,  5.59s/it]﻿\n"
     ]
    },
    {
     "name": "stdout",
     "output_type": "stream",
     "text": [
      "Success, 270 trips out of 282 found. Next start time = 2024-03-23 10:07:00\n"
     ]
    },
    {
     "name": "stderr",
     "output_type": "stream",
     "text": [
      "Processing points: 289it [27:28,  5.71s/it]﻿\n"
     ]
    },
    {
     "name": "stdout",
     "output_type": "stream",
     "text": [
      "Success, 267 trips out of 281 found. Next start time = 2024-03-23 10:08:00\n"
     ]
    },
    {
     "name": "stderr",
     "output_type": "stream",
     "text": [
      "Processing points: 306it [35:17,  6.92s/it]﻿\n"
     ]
    },
    {
     "name": "stdout",
     "output_type": "stream",
     "text": [
      "Success, 259 trips out of 298 found. Next start time = 2024-03-23 10:09:00\n"
     ]
    },
    {
     "name": "stderr",
     "output_type": "stream",
     "text": [
      "Processing points: 299it [39:02,  7.83s/it]﻿\n"
     ]
    },
    {
     "name": "stdout",
     "output_type": "stream",
     "text": [
      "Success, 273 trips out of 293 found. Next start time = 2024-03-23 10:10:00\n"
     ]
    },
    {
     "name": "stderr",
     "output_type": "stream",
     "text": [
      "Processing points: 7it [00:48,  7.00s/it]﻿\n"
     ]
    },
    {
     "name": "stdout",
     "output_type": "stream",
     "text": [
      "Success, 5 trips out of 5 found. Next start time = 2024-03-23 10:11:00\n"
     ]
    },
    {
     "name": "stderr",
     "output_type": "stream",
     "text": [
      "Processing points: 299it [39:40,  7.96s/it]﻿\n"
     ]
    },
    {
     "name": "stdout",
     "output_type": "stream",
     "text": [
      "Success, 283 trips out of 293 found. Next start time = 2024-03-23 10:12:00\n"
     ]
    },
    {
     "name": "stderr",
     "output_type": "stream",
     "text": [
      "Processing points: 302it [40:33,  8.06s/it]﻿\n"
     ]
    },
    {
     "name": "stdout",
     "output_type": "stream",
     "text": [
      "Success, 270 trips out of 296 found. Next start time = 2024-03-23 10:13:00\n"
     ]
    },
    {
     "name": "stderr",
     "output_type": "stream",
     "text": [
      "Processing points: 17it [02:21,  8.34s/it]﻿\n"
     ]
    },
    {
     "name": "stdout",
     "output_type": "stream",
     "text": [
      "Success, 16 trips out of 17 found. Next start time = 2024-03-23 10:14:00\n"
     ]
    },
    {
     "name": "stderr",
     "output_type": "stream",
     "text": [
      "Processing points: 290it [39:36,  8.20s/it]﻿\n"
     ]
    },
    {
     "name": "stdout",
     "output_type": "stream",
     "text": [
      "Success, 273 trips out of 282 found. Next start time = 2024-03-23 10:15:00\n"
     ]
    },
    {
     "name": "stderr",
     "output_type": "stream",
     "text": [
      "Processing points: 306it [41:48,  8.20s/it]﻿\n"
     ]
    },
    {
     "name": "stdout",
     "output_type": "stream",
     "text": [
      "Success, 295 trips out of 300 found. Next start time = 2024-03-23 10:16:00\n"
     ]
    },
    {
     "name": "stderr",
     "output_type": "stream",
     "text": [
      "Processing points: 307it [45:24,  8.87s/it]﻿\n"
     ]
    },
    {
     "name": "stdout",
     "output_type": "stream",
     "text": [
      "Success, 299 trips out of 303 found. Next start time = 2024-03-23 10:17:00\n"
     ]
    },
    {
     "name": "stderr",
     "output_type": "stream",
     "text": [
      "Processing points: 4it [00:31,  7.80s/it]﻿\n"
     ]
    },
    {
     "name": "stdout",
     "output_type": "stream",
     "text": [
      "Success, 4 trips out of 4 found. Next start time = 2024-03-23 10:18:00\n"
     ]
    },
    {
     "name": "stderr",
     "output_type": "stream",
     "text": [
      "Processing points: 312it [43:49,  8.43s/it]﻿\n"
     ]
    },
    {
     "name": "stdout",
     "output_type": "stream",
     "text": [
      "Success, 300 trips out of 309 found. Next start time = 2024-03-23 10:19:00\n"
     ]
    },
    {
     "name": "stderr",
     "output_type": "stream",
     "text": [
      "Processing points: 316it [45:43,  8.68s/it]﻿\n"
     ]
    },
    {
     "name": "stdout",
     "output_type": "stream",
     "text": [
      "Success, 305 trips out of 311 found. Next start time = 2024-03-23 10:20:00\n"
     ]
    },
    {
     "name": "stderr",
     "output_type": "stream",
     "text": [
      "Processing points: 310it [45:08,  8.74s/it]﻿\n"
     ]
    },
    {
     "name": "stdout",
     "output_type": "stream",
     "text": [
      "Success, 298 trips out of 308 found. Next start time = 2024-03-23 10:21:00\n"
     ]
    },
    {
     "name": "stderr",
     "output_type": "stream",
     "text": [
      "Processing points: 6it [00:56,  9.48s/it]﻿\n"
     ]
    },
    {
     "name": "stdout",
     "output_type": "stream",
     "text": [
      "Success, 4 trips out of 4 found. Next start time = 2024-03-23 10:22:00\n"
     ]
    },
    {
     "name": "stderr",
     "output_type": "stream",
     "text": [
      "Processing points: 312it [46:15,  8.90s/it]﻿\n"
     ]
    },
    {
     "name": "stdout",
     "output_type": "stream",
     "text": [
      "Success, 291 trips out of 310 found. Next start time = 2024-03-23 10:23:00\n"
     ]
    },
    {
     "name": "stderr",
     "output_type": "stream",
     "text": [
      "Processing points: 313it [45:54,  8.80s/it]﻿\n"
     ]
    },
    {
     "name": "stdout",
     "output_type": "stream",
     "text": [
      "Success, 277 trips out of 309 found. Next start time = 2024-03-23 10:24:00\n"
     ]
    },
    {
     "name": "stderr",
     "output_type": "stream",
     "text": [
      "Processing points: 19it [02:47,  8.81s/it]﻿\n"
     ]
    },
    {
     "name": "stdout",
     "output_type": "stream",
     "text": [
      "Success, 11 trips out of 19 found. Next start time = 2024-03-23 10:25:00\n"
     ]
    },
    {
     "name": "stderr",
     "output_type": "stream",
     "text": [
      "Processing points: 302it [45:02,  8.95s/it]﻿\n"
     ]
    },
    {
     "name": "stdout",
     "output_type": "stream",
     "text": [
      "Success, 258 trips out of 294 found. Next start time = 2024-03-23 10:26:00\n"
     ]
    },
    {
     "name": "stderr",
     "output_type": "stream",
     "text": [
      "Processing points: 315it [47:33,  9.06s/it]﻿\n"
     ]
    },
    {
     "name": "stdout",
     "output_type": "stream",
     "text": [
      "Success, 269 trips out of 315 found. Next start time = 2024-03-23 10:27:00\n"
     ]
    },
    {
     "name": "stderr",
     "output_type": "stream",
     "text": [
      "Processing points: 21it [03:11,  9.12s/it]﻿\n"
     ]
    },
    {
     "name": "stdout",
     "output_type": "stream",
     "text": [
      "Success, 16 trips out of 19 found. Next start time = 2024-03-23 10:28:00\n"
     ]
    },
    {
     "name": "stderr",
     "output_type": "stream",
     "text": [
      "Processing points: 309it [47:28,  9.22s/it]﻿\n"
     ]
    },
    {
     "name": "stdout",
     "output_type": "stream",
     "text": [
      "Success, 257 trips out of 305 found. Next start time = 2024-03-23 10:29:00\n"
     ]
    },
    {
     "name": "stderr",
     "output_type": "stream",
     "text": [
      "Processing points: 297it [45:19,  9.16s/it]﻿\n"
     ]
    },
    {
     "name": "stdout",
     "output_type": "stream",
     "text": [
      "Success, 260 trips out of 295 found. Next start time = 2024-03-23 10:30:00\n"
     ]
    },
    {
     "name": "stderr",
     "output_type": "stream",
     "text": [
      "Processing points: 21it [03:18,  9.43s/it]﻿\n"
     ]
    },
    {
     "name": "stdout",
     "output_type": "stream",
     "text": [
      "Success, 16 trips out of 21 found. Next start time = 2024-03-23 10:31:00\n"
     ]
    },
    {
     "name": "stderr",
     "output_type": "stream",
     "text": [
      "Processing points: 308it [47:54,  9.33s/it]﻿\n"
     ]
    },
    {
     "name": "stdout",
     "output_type": "stream",
     "text": [
      "Success, 271 trips out of 295 found. Next start time = 2024-03-23 10:32:00\n"
     ]
    },
    {
     "name": "stderr",
     "output_type": "stream",
     "text": [
      "Processing points: 292it [45:32,  9.36s/it]﻿\n"
     ]
    },
    {
     "name": "stdout",
     "output_type": "stream",
     "text": [
      "Success, 280 trips out of 291 found. Next start time = 2024-03-23 10:33:00\n"
     ]
    },
    {
     "name": "stderr",
     "output_type": "stream",
     "text": [
      "Processing points: 306it [49:00,  9.61s/it]﻿\n"
     ]
    },
    {
     "name": "stdout",
     "output_type": "stream",
     "text": [
      "Success, 290 trips out of 300 found. Next start time = 2024-03-23 10:34:00\n"
     ]
    },
    {
     "name": "stderr",
     "output_type": "stream",
     "text": [
      "Processing points: 22it [03:36,  9.84s/it]﻿\n"
     ]
    },
    {
     "name": "stdout",
     "output_type": "stream",
     "text": [
      "Success, 18 trips out of 21 found. Next start time = 2024-03-23 10:35:00\n"
     ]
    },
    {
     "name": "stderr",
     "output_type": "stream",
     "text": [
      "Processing points: 297it [48:37,  9.82s/it]﻿\n"
     ]
    },
    {
     "name": "stdout",
     "output_type": "stream",
     "text": [
      "Success, 278 trips out of 286 found. Next start time = 2024-03-23 10:36:00\n"
     ]
    },
    {
     "name": "stderr",
     "output_type": "stream",
     "text": [
      "Processing points: 304it [50:13,  9.91s/it]﻿\n"
     ]
    },
    {
     "name": "stdout",
     "output_type": "stream",
     "text": [
      "Success, 280 trips out of 295 found. Next start time = 2024-03-23 10:37:00\n"
     ]
    },
    {
     "name": "stderr",
     "output_type": "stream",
     "text": [
      "Processing points: 302it [46:56,  9.33s/it]﻿\n"
     ]
    },
    {
     "name": "stdout",
     "output_type": "stream",
     "text": [
      "Success, 271 trips out of 297 found. Next start time = 2024-03-23 10:38:00\n"
     ]
    },
    {
     "name": "stderr",
     "output_type": "stream",
     "text": [
      "Processing points: 11it [01:42,  9.31s/it]﻿\n"
     ]
    },
    {
     "name": "stdout",
     "output_type": "stream",
     "text": [
      "Success, 3 trips out of 9 found. Next start time = 2024-03-23 10:39:00\n"
     ]
    },
    {
     "name": "stderr",
     "output_type": "stream",
     "text": [
      "Processing points: 307it [49:48,  9.74s/it]﻿\n"
     ]
    },
    {
     "name": "stdout",
     "output_type": "stream",
     "text": [
      "Success, 276 trips out of 303 found. Next start time = 2024-03-23 10:40:00\n"
     ]
    },
    {
     "name": "stderr",
     "output_type": "stream",
     "text": [
      "Processing points: 317it [49:17,  9.33s/it]﻿\n"
     ]
    },
    {
     "name": "stdout",
     "output_type": "stream",
     "text": [
      "Success, 276 trips out of 309 found. Next start time = 2024-03-23 10:41:00\n"
     ]
    },
    {
     "name": "stderr",
     "output_type": "stream",
     "text": [
      "Processing points: 14it [02:10,  9.29s/it]﻿\n"
     ]
    },
    {
     "name": "stdout",
     "output_type": "stream",
     "text": [
      "Success, 12 trips out of 14 found. Next start time = 2024-03-23 10:42:00\n"
     ]
    },
    {
     "name": "stderr",
     "output_type": "stream",
     "text": [
      "Processing points: 295it [46:02,  9.36s/it]﻿\n"
     ]
    },
    {
     "name": "stdout",
     "output_type": "stream",
     "text": [
      "Success, 269 trips out of 291 found. Next start time = 2024-03-23 10:43:00\n"
     ]
    },
    {
     "name": "stderr",
     "output_type": "stream",
     "text": [
      "Processing points: 312it [49:34,  9.53s/it]﻿\n"
     ]
    },
    {
     "name": "stdout",
     "output_type": "stream",
     "text": [
      "Success, 302 trips out of 305 found. Next start time = 2024-03-23 10:44:00\n"
     ]
    },
    {
     "name": "stderr",
     "output_type": "stream",
     "text": [
      "Processing points: 319it [50:44,  9.54s/it]﻿\n"
     ]
    },
    {
     "name": "stdout",
     "output_type": "stream",
     "text": [
      "Success, 299 trips out of 312 found. Next start time = 2024-03-23 10:45:00\n"
     ]
    },
    {
     "name": "stderr",
     "output_type": "stream",
     "text": [
      "Processing points: 9it [01:29,  9.97s/it]﻿\n"
     ]
    },
    {
     "name": "stdout",
     "output_type": "stream",
     "text": [
      "Success, 6 trips out of 6 found. Next start time = 2024-03-23 10:46:00\n"
     ]
    },
    {
     "name": "stderr",
     "output_type": "stream",
     "text": [
      "Processing points: 315it [50:17,  9.58s/it]﻿\n"
     ]
    },
    {
     "name": "stdout",
     "output_type": "stream",
     "text": [
      "Success, 313 trips out of 304 found. Next start time = 2024-03-23 10:47:00\n"
     ]
    },
    {
     "name": "stderr",
     "output_type": "stream",
     "text": [
      "Processing points: 313it [50:20,  9.65s/it]﻿\n"
     ]
    },
    {
     "name": "stdout",
     "output_type": "stream",
     "text": [
      "Success, 320 trips out of 305 found. Next start time = 2024-03-23 10:48:00\n"
     ]
    },
    {
     "name": "stderr",
     "output_type": "stream",
     "text": [
      "Processing points: 311it [50:50,  9.81s/it]﻿\n"
     ]
    },
    {
     "name": "stdout",
     "output_type": "stream",
     "text": [
      "Success, 307 trips out of 303 found. Next start time = 2024-03-23 10:49:00\n"
     ]
    },
    {
     "name": "stderr",
     "output_type": "stream",
     "text": [
      "Processing points: 7it [01:16, 10.95s/it]﻿\n"
     ]
    },
    {
     "name": "stdout",
     "output_type": "stream",
     "text": [
      "Success, 3 trips out of 5 found. Next start time = 2024-03-23 10:50:00\n"
     ]
    },
    {
     "name": "stderr",
     "output_type": "stream",
     "text": [
      "Processing points: 309it [51:54, 10.08s/it]﻿\n"
     ]
    },
    {
     "name": "stdout",
     "output_type": "stream",
     "text": [
      "Success, 300 trips out of 300 found. Next start time = 2024-03-23 10:51:00\n"
     ]
    },
    {
     "name": "stderr",
     "output_type": "stream",
     "text": [
      "Processing points: 315it [54:19, 10.35s/it]﻿\n"
     ]
    },
    {
     "name": "stdout",
     "output_type": "stream",
     "text": [
      "Success, 291 trips out of 308 found. Next start time = 2024-03-23 10:52:00\n"
     ]
    },
    {
     "name": "stderr",
     "output_type": "stream",
     "text": [
      "Processing points: 246it [43:09, 10.53s/it]﻿\n"
     ]
    },
    {
     "name": "stdout",
     "output_type": "stream",
     "text": [
      "Success, 213 trips out of 241 found. Next start time = 2024-03-23 10:53:00\n"
     ]
    },
    {
     "name": "stderr",
     "output_type": "stream",
     "text": [
      "Processing points: 295it [50:50, 10.34s/it]﻿\n"
     ]
    },
    {
     "name": "stdout",
     "output_type": "stream",
     "text": [
      "Success, 219 trips out of 245 found. Next start time = 2024-03-23 10:54:00\n"
     ]
    },
    {
     "name": "stderr",
     "output_type": "stream",
     "text": [
      "Processing points: 45it [07:22,  9.83s/it]﻿\n"
     ]
    },
    {
     "name": "stdout",
     "output_type": "stream",
     "text": [
      "Success, 36 trips out of 43 found. Next start time = 2024-03-23 10:55:00\n"
     ]
    },
    {
     "name": "stderr",
     "output_type": "stream",
     "text": [
      "Processing points: 308it [49:59,  9.74s/it]﻿\n"
     ]
    },
    {
     "name": "stdout",
     "output_type": "stream",
     "text": [
      "Success, 261 trips out of 302 found. Next start time = 2024-03-23 10:56:00\n"
     ]
    },
    {
     "name": "stderr",
     "output_type": "stream",
     "text": [
      "Processing points: 1it [00:07,  7.38s/it]﻿\n"
     ]
    },
    {
     "name": "stdout",
     "output_type": "stream",
     "text": [
      "Success, 2 trips out of 1 found. Next start time = 2024-03-23 10:57:00\n"
     ]
    },
    {
     "name": "stderr",
     "output_type": "stream",
     "text": [
      "Processing points: 314it [55:34, 10.62s/it]﻿\n"
     ]
    },
    {
     "name": "stdout",
     "output_type": "stream",
     "text": [
      "Success, 254 trips out of 301 found. Next start time = 2024-03-23 10:58:00\n"
     ]
    },
    {
     "name": "stderr",
     "output_type": "stream",
     "text": [
      "Processing points: 313it [56:45, 10.88s/it]﻿\n"
     ]
    },
    {
     "name": "stdout",
     "output_type": "stream",
     "text": [
      "Success, 266 trips out of 305 found. Next start time = 2024-03-23 10:59:00\n"
     ]
    },
    {
     "name": "stderr",
     "output_type": "stream",
     "text": [
      "Processing points: 3it [00:41, 13.74s/it]﻿\n"
     ]
    },
    {
     "name": "stdout",
     "output_type": "stream",
     "text": [
      "Success, 2 trips out of 3 found. Next start time = 2024-03-23 11:00:00\n"
     ]
    },
    {
     "name": "stderr",
     "output_type": "stream",
     "text": [
      "Processing points: 332it [1:00:55, 11.01s/it]﻿\n"
     ]
    },
    {
     "name": "stdout",
     "output_type": "stream",
     "text": [
      "Success, 291 trips out of 305 found. Next start time = 2024-03-23 11:01:00\n"
     ]
    },
    {
     "name": "stderr",
     "output_type": "stream",
     "text": [
      "Processing points: 298it [52:55, 10.66s/it]﻿\n"
     ]
    },
    {
     "name": "stdout",
     "output_type": "stream",
     "text": [
      "Success, 279 trips out of 290 found. Next start time = 2024-03-23 11:02:00\n"
     ]
    },
    {
     "name": "stderr",
     "output_type": "stream",
     "text": [
      "Processing points: 223it [40:33, 10.91s/it]﻿\n"
     ]
    },
    {
     "name": "stdout",
     "output_type": "stream",
     "text": [
      "Success, 226 trips out of 213 found. Next start time = 2024-03-23 11:03:00\n"
     ]
    },
    {
     "name": "stderr",
     "output_type": "stream",
     "text": [
      "Processing points: 267it [49:53, 11.21s/it]﻿\n"
     ]
    },
    {
     "name": "stdout",
     "output_type": "stream",
     "text": [
      "Success, 206 trips out of 210 found. Next start time = 2024-03-23 11:04:00\n"
     ]
    },
    {
     "name": "stderr",
     "output_type": "stream",
     "text": [
      "Processing points: 58it [10:40, 11.04s/it]﻿\n"
     ]
    },
    {
     "name": "stdout",
     "output_type": "stream",
     "text": [
      "Success, 56 trips out of 57 found. Next start time = 2024-03-23 11:05:00\n"
     ]
    },
    {
     "name": "stderr",
     "output_type": "stream",
     "text": [
      "Processing points: 307it [57:48, 11.30s/it]﻿\n"
     ]
    },
    {
     "name": "stdout",
     "output_type": "stream",
     "text": [
      "Success, 285 trips out of 299 found. Next start time = 2024-03-23 11:06:00\n"
     ]
    },
    {
     "name": "stderr",
     "output_type": "stream",
     "text": [
      "Processing points: 18it [03:13, 10.76s/it]﻿\n"
     ]
    },
    {
     "name": "stdout",
     "output_type": "stream",
     "text": [
      "Success, 12 trips out of 15 found. Next start time = 2024-03-23 11:07:00\n"
     ]
    },
    {
     "name": "stderr",
     "output_type": "stream",
     "text": [
      "Processing points: 300it [54:25, 10.89s/it]﻿\n"
     ]
    },
    {
     "name": "stdout",
     "output_type": "stream",
     "text": [
      "Success, 269 trips out of 291 found. Next start time = 2024-03-23 11:08:00\n"
     ]
    },
    {
     "name": "stderr",
     "output_type": "stream",
     "text": [
      "Processing points: 314it [59:44, 11.41s/it]﻿\n"
     ]
    },
    {
     "name": "stdout",
     "output_type": "stream",
     "text": [
      "Success, 274 trips out of 305 found. Next start time = 2024-03-23 11:09:00\n"
     ]
    },
    {
     "name": "stderr",
     "output_type": "stream",
     "text": [
      "Processing points: 314it [1:01:20, 11.72s/it]﻿\n"
     ]
    },
    {
     "name": "stdout",
     "output_type": "stream",
     "text": [
      "Success, 287 trips out of 309 found. Next start time = 2024-03-23 11:10:00\n"
     ]
    },
    {
     "name": "stderr",
     "output_type": "stream",
     "text": [
      "Processing points: 21it [04:01, 11.50s/it]﻿\n"
     ]
    },
    {
     "name": "stdout",
     "output_type": "stream",
     "text": [
      "Success, 13 trips out of 20 found. Next start time = 2024-03-23 11:11:00\n"
     ]
    },
    {
     "name": "stderr",
     "output_type": "stream",
     "text": [
      "Processing points: 299it [57:02, 11.45s/it]﻿\n"
     ]
    },
    {
     "name": "stdout",
     "output_type": "stream",
     "text": [
      "Success, 284 trips out of 296 found. Next start time = 2024-03-23 11:12:00\n"
     ]
    },
    {
     "name": "stderr",
     "output_type": "stream",
     "text": [
      "Processing points: 360it [1:10:29, 11.75s/it]﻿\n"
     ]
    },
    {
     "name": "stdout",
     "output_type": "stream",
     "text": [
      "Success, 295 trips out of 317 found. Next start time = 2024-03-23 11:13:00\n"
     ]
    },
    {
     "name": "stderr",
     "output_type": "stream",
     "text": [
      "Processing points: 12it [02:04, 10.41s/it]﻿\n"
     ]
    },
    {
     "name": "stdout",
     "output_type": "stream",
     "text": [
      "Success, 9 trips out of 8 found. Next start time = 2024-03-23 11:14:00\n"
     ]
    },
    {
     "name": "stderr",
     "output_type": "stream",
     "text": [
      "Processing points: 317it [1:02:23, 11.81s/it]﻿\n"
     ]
    },
    {
     "name": "stdout",
     "output_type": "stream",
     "text": [
      "Success, 290 trips out of 311 found. Next start time = 2024-03-23 11:15:00\n"
     ]
    },
    {
     "name": "stderr",
     "output_type": "stream",
     "text": [
      "Processing points: 316it [1:01:07, 11.60s/it]﻿\n"
     ]
    },
    {
     "name": "stdout",
     "output_type": "stream",
     "text": [
      "Success, 299 trips out of 310 found. Next start time = 2024-03-23 11:16:00\n"
     ]
    },
    {
     "name": "stderr",
     "output_type": "stream",
     "text": [
      "Processing points: 323it [1:04:44, 12.02s/it]﻿\n"
     ]
    },
    {
     "name": "stdout",
     "output_type": "stream",
     "text": [
      "Success, 312 trips out of 312 found. Next start time = 2024-03-23 11:17:00\n"
     ]
    },
    {
     "name": "stderr",
     "output_type": "stream",
     "text": [
      "Processing points: 4it [00:44, 11.07s/it]﻿\n"
     ]
    },
    {
     "name": "stdout",
     "output_type": "stream",
     "text": [
      "Success, 2 trips out of 4 found. Next start time = 2024-03-23 11:18:00\n"
     ]
    },
    {
     "name": "stderr",
     "output_type": "stream",
     "text": [
      "Processing points: 322it [1:05:06, 12.13s/it]﻿\n"
     ]
    },
    {
     "name": "stdout",
     "output_type": "stream",
     "text": [
      "Success, 310 trips out of 312 found. Next start time = 2024-03-23 11:19:00\n"
     ]
    },
    {
     "name": "stderr",
     "output_type": "stream",
     "text": [
      "Processing points: 324it [1:04:26, 11.94s/it]﻿\n"
     ]
    },
    {
     "name": "stdout",
     "output_type": "stream",
     "text": [
      "Success, 303 trips out of 314 found. Next start time = 2024-03-23 11:20:00\n"
     ]
    },
    {
     "name": "stderr",
     "output_type": "stream",
     "text": [
      "Processing points: 248it [49:07, 11.89s/it]﻿\n"
     ]
    },
    {
     "name": "stdout",
     "output_type": "stream",
     "text": [
      "Success, 222 trips out of 238 found. Next start time = 2024-03-23 11:21:00\n"
     ]
    },
    {
     "name": "stderr",
     "output_type": "stream",
     "text": [
      "Processing points: 229it [46:07, 12.08s/it]﻿\n"
     ]
    },
    {
     "name": "stdout",
     "output_type": "stream",
     "text": [
      "Success, 158 trips out of 196 found. Next start time = 2024-03-23 11:22:00\n"
     ]
    },
    {
     "name": "stderr",
     "output_type": "stream",
     "text": [
      "Processing points: 44it [10:36, 14.46s/it]﻿\n"
     ]
    },
    {
     "name": "stdout",
     "output_type": "stream",
     "text": [
      "Success, 31 trips out of 42 found. Next start time = 2024-03-23 11:23:00\n"
     ]
    },
    {
     "name": "stderr",
     "output_type": "stream",
     "text": [
      "Processing points: 254it [52:21, 12.37s/it]﻿\n"
     ]
    },
    {
     "name": "stdout",
     "output_type": "stream",
     "text": [
      "Success, 209 trips out of 243 found. Next start time = 2024-03-23 11:24:00\n"
     ]
    },
    {
     "name": "stderr",
     "output_type": "stream",
     "text": [
      "Processing points: 52it [10:24, 12.00s/it]﻿\n"
     ]
    },
    {
     "name": "stdout",
     "output_type": "stream",
     "text": [
      "Success, 49 trips out of 52 found. Next start time = 2024-03-23 11:25:00\n"
     ]
    },
    {
     "name": "stderr",
     "output_type": "stream",
     "text": [
      "Processing points: 302it [1:03:13, 12.56s/it]﻿\n"
     ]
    },
    {
     "name": "stdout",
     "output_type": "stream",
     "text": [
      "Success, 276 trips out of 293 found. Next start time = 2024-03-23 11:26:00\n"
     ]
    },
    {
     "name": "stderr",
     "output_type": "stream",
     "text": [
      "Processing points: 313it [1:04:54, 12.44s/it]﻿\n"
     ]
    },
    {
     "name": "stdout",
     "output_type": "stream",
     "text": [
      "Success, 271 trips out of 308 found. Next start time = 2024-03-23 11:27:00\n"
     ]
    },
    {
     "name": "stderr",
     "output_type": "stream",
     "text": [
      "Processing points: 238it [52:40, 13.28s/it]﻿\n"
     ]
    },
    {
     "name": "stdout",
     "output_type": "stream",
     "text": [
      "Success, 205 trips out of 232 found. Next start time = 2024-03-23 11:28:00\n"
     ]
    },
    {
     "name": "stderr",
     "output_type": "stream",
     "text": [
      "Processing points: 55it [11:18, 12.33s/it]﻿\n"
     ]
    },
    {
     "name": "stdout",
     "output_type": "stream",
     "text": [
      "Success, 42 trips out of 53 found. Next start time = 2024-03-23 11:29:00\n"
     ]
    },
    {
     "name": "stderr",
     "output_type": "stream",
     "text": [
      "Processing points: 303it [1:06:01, 13.07s/it]﻿\n"
     ]
    },
    {
     "name": "stdout",
     "output_type": "stream",
     "text": [
      "Success, 267 trips out of 298 found. Next start time = 2024-03-23 11:30:00\n"
     ]
    },
    {
     "name": "stderr",
     "output_type": "stream",
     "text": [
      "Processing points: 216it [50:33, 14.04s/it]﻿\n"
     ]
    },
    {
     "name": "stdout",
     "output_type": "stream",
     "text": [
      "Success, 198 trips out of 210 found. Next start time = 2024-03-23 11:31:00\n"
     ]
    },
    {
     "name": "stderr",
     "output_type": "stream",
     "text": [
      "Processing points: 264it [1:01:53, 14.07s/it]﻿\n"
     ]
    },
    {
     "name": "stdout",
     "output_type": "stream",
     "text": [
      "Success, 183 trips out of 202 found. Next start time = 2024-03-23 11:32:00\n"
     ]
    },
    {
     "name": "stderr",
     "output_type": "stream",
     "text": [
      "Processing points: 75it [16:41, 13.35s/it]﻿\n"
     ]
    },
    {
     "name": "stdout",
     "output_type": "stream",
     "text": [
      "Success, 71 trips out of 74 found. Next start time = 2024-03-23 11:33:00\n"
     ]
    },
    {
     "name": "stderr",
     "output_type": "stream",
     "text": [
      "Processing points: 314it [1:07:53, 12.97s/it]﻿\n"
     ]
    },
    {
     "name": "stdout",
     "output_type": "stream",
     "text": [
      "Success, 314 trips out of 308 found. Next start time = 2024-03-23 11:34:00\n"
     ]
    },
    {
     "name": "stderr",
     "output_type": "stream",
     "text": [
      "Processing points: 201it [40:30, 12.09s/it]﻿\n"
     ]
    },
    {
     "name": "stdout",
     "output_type": "stream",
     "text": [
      "Success, 199 trips out of 198 found. Next start time = 2024-03-23 11:35:00\n"
     ]
    },
    {
     "name": "stderr",
     "output_type": "stream",
     "text": [
      "Processing points: 81it [16:40, 12.35s/it]﻿\n"
     ]
    },
    {
     "name": "stdout",
     "output_type": "stream",
     "text": [
      "Success, 63 trips out of 78 found. Next start time = 2024-03-23 11:36:00\n"
     ]
    },
    {
     "name": "stderr",
     "output_type": "stream",
     "text": [
      "Processing points: 274it [54:12, 11.87s/it]﻿\n"
     ]
    },
    {
     "name": "stdout",
     "output_type": "stream",
     "text": [
      "Success, 244 trips out of 267 found. Next start time = 2024-03-23 11:37:00\n"
     ]
    },
    {
     "name": "stderr",
     "output_type": "stream",
     "text": [
      "Processing points: 318it [1:04:49, 12.23s/it]﻿\n"
     ]
    },
    {
     "name": "stdout",
     "output_type": "stream",
     "text": [
      "Success, 292 trips out of 311 found. Next start time = 2024-03-23 11:38:00\n"
     ]
    },
    {
     "name": "stderr",
     "output_type": "stream",
     "text": [
      "Processing points: 182it [38:08, 12.57s/it]﻿\n"
     ]
    },
    {
     "name": "stdout",
     "output_type": "stream",
     "text": [
      "Success, 161 trips out of 176 found. Next start time = 2024-03-23 11:39:00\n"
     ]
    },
    {
     "name": "stderr",
     "output_type": "stream",
     "text": [
      "Processing points: 119it [25:54, 13.06s/it]﻿\n"
     ]
    },
    {
     "name": "stdout",
     "output_type": "stream",
     "text": [
      "Success, 95 trips out of 117 found. Next start time = 2024-03-23 11:40:00\n"
     ]
    },
    {
     "name": "stderr",
     "output_type": "stream",
     "text": [
      "Processing points: 332it [1:07:14, 12.15s/it]﻿\n"
     ]
    },
    {
     "name": "stdout",
     "output_type": "stream",
     "text": [
      "Success, 298 trips out of 317 found. Next start time = 2024-03-23 11:41:00\n"
     ]
    },
    {
     "name": "stderr",
     "output_type": "stream",
     "text": [
      "Processing points: 314it [52:35, 10.05s/it]﻿\n"
     ]
    },
    {
     "name": "stdout",
     "output_type": "stream",
     "text": [
      "Success, 281 trips out of 304 found. Next start time = 2024-03-23 11:42:00\n"
     ]
    },
    {
     "name": "stderr",
     "output_type": "stream",
     "text": [
      "Processing points: 10it [01:16,  7.68s/it]﻿\n"
     ]
    },
    {
     "name": "stdout",
     "output_type": "stream",
     "text": [
      "Success, 3 trips out of 10 found. Next start time = 2024-03-23 11:43:00\n"
     ]
    },
    {
     "name": "stderr",
     "output_type": "stream",
     "text": [
      "Processing points: 316it [50:34,  9.60s/it]﻿\n"
     ]
    },
    {
     "name": "stdout",
     "output_type": "stream",
     "text": [
      "Success, 293 trips out of 305 found. Next start time = 2024-03-23 11:44:00\n"
     ]
    },
    {
     "name": "stderr",
     "output_type": "stream",
     "text": [
      "Processing points: 325it [47:02,  8.68s/it]﻿\n"
     ]
    },
    {
     "name": "stdout",
     "output_type": "stream",
     "text": [
      "Success, 306 trips out of 318 found. Next start time = 2024-03-23 11:45:00\n"
     ]
    },
    {
     "name": "stderr",
     "output_type": "stream",
     "text": [
      "Processing points: 316it [51:00,  9.68s/it]﻿\n"
     ]
    },
    {
     "name": "stdout",
     "output_type": "stream",
     "text": [
      "Success, 310 trips out of 309 found. Next start time = 2024-03-23 11:46:00\n"
     ]
    },
    {
     "name": "stderr",
     "output_type": "stream",
     "text": [
      "Processing points: 7it [01:02,  8.87s/it]﻿\n"
     ]
    },
    {
     "name": "stdout",
     "output_type": "stream",
     "text": [
      "Success, 3 trips out of 7 found. Next start time = 2024-03-23 11:47:00\n"
     ]
    },
    {
     "name": "stderr",
     "output_type": "stream",
     "text": [
      "Processing points: 314it [54:26, 10.40s/it]﻿\n"
     ]
    },
    {
     "name": "stdout",
     "output_type": "stream",
     "text": [
      "Success, 302 trips out of 307 found. Next start time = 2024-03-23 11:48:00\n"
     ]
    },
    {
     "name": "stderr",
     "output_type": "stream",
     "text": [
      "Processing points: 309it [47:48,  9.28s/it]﻿\n"
     ]
    },
    {
     "name": "stdout",
     "output_type": "stream",
     "text": [
      "Success, 291 trips out of 302 found. Next start time = 2024-03-23 11:49:00\n"
     ]
    },
    {
     "name": "stderr",
     "output_type": "stream",
     "text": [
      "Processing points: 7it [00:51,  7.30s/it]﻿\n"
     ]
    },
    {
     "name": "stdout",
     "output_type": "stream",
     "text": [
      "Success, 1 trips out of 7 found. Next start time = 2024-03-23 11:50:00\n"
     ]
    },
    {
     "name": "stderr",
     "output_type": "stream",
     "text": [
      "Processing points: 308it [36:45,  7.16s/it]﻿\n"
     ]
    },
    {
     "name": "stdout",
     "output_type": "stream",
     "text": [
      "Success, 309 trips out of 303 found. Next start time = 2024-03-23 11:51:00\n"
     ]
    },
    {
     "name": "stderr",
     "output_type": "stream",
     "text": [
      "Processing points: 311it [36:55,  7.12s/it]﻿\n"
     ]
    },
    {
     "name": "stdout",
     "output_type": "stream",
     "text": [
      "Success, 297 trips out of 305 found. Next start time = 2024-03-23 11:52:00\n"
     ]
    },
    {
     "name": "stderr",
     "output_type": "stream",
     "text": [
      "Processing points: 11it [01:18,  7.15s/it]﻿\n"
     ]
    },
    {
     "name": "stdout",
     "output_type": "stream",
     "text": [
      "Success, 2 trips out of 11 found. Next start time = 2024-03-23 11:53:00\n"
     ]
    },
    {
     "name": "stderr",
     "output_type": "stream",
     "text": [
      "Processing points: 314it [37:21,  7.14s/it]﻿\n"
     ]
    },
    {
     "name": "stdout",
     "output_type": "stream",
     "text": [
      "Success, 302 trips out of 306 found. Next start time = 2024-03-23 11:54:00\n"
     ]
    },
    {
     "name": "stderr",
     "output_type": "stream",
     "text": [
      "Processing points: 310it [37:08,  7.19s/it]﻿\n"
     ]
    },
    {
     "name": "stdout",
     "output_type": "stream",
     "text": [
      "Success, 282 trips out of 305 found. Next start time = 2024-03-23 11:55:00\n"
     ]
    },
    {
     "name": "stderr",
     "output_type": "stream",
     "text": [
      "Processing points: 307it [36:23,  7.11s/it]﻿\n"
     ]
    },
    {
     "name": "stdout",
     "output_type": "stream",
     "text": [
      "Success, 281 trips out of 301 found. Next start time = 2024-03-23 11:56:00\n"
     ]
    },
    {
     "name": "stderr",
     "output_type": "stream",
     "text": [
      "Processing points: 7it [00:51,  7.37s/it]﻿\n"
     ]
    },
    {
     "name": "stdout",
     "output_type": "stream",
     "text": [
      "Success, 6 trips out of 7 found. Next start time = 2024-03-23 11:57:00\n"
     ]
    },
    {
     "name": "stderr",
     "output_type": "stream",
     "text": [
      "Processing points: 307it [36:30,  7.14s/it]﻿\n"
     ]
    },
    {
     "name": "stdout",
     "output_type": "stream",
     "text": [
      "Success, 274 trips out of 301 found. Next start time = 2024-03-23 11:58:00\n"
     ]
    },
    {
     "name": "stderr",
     "output_type": "stream",
     "text": [
      "Processing points: 304it [36:39,  7.24s/it]﻿\n"
     ]
    },
    {
     "name": "stdout",
     "output_type": "stream",
     "text": [
      "Success, 278 trips out of 299 found. Next start time = 2024-03-23 11:59:00\n"
     ]
    },
    {
     "name": "stderr",
     "output_type": "stream",
     "text": [
      "Processing points: 5it [00:37,  7.44s/it]﻿\n"
     ]
    },
    {
     "name": "stdout",
     "output_type": "stream",
     "text": [
      "Success, 3 trips out of 5 found. Next start time = 2024-03-23 12:00:00\n"
     ]
    },
    {
     "name": "stderr",
     "output_type": "stream",
     "text": [
      "Processing points: 311it [37:18,  7.20s/it]﻿\n"
     ]
    },
    {
     "name": "stdout",
     "output_type": "stream",
     "text": [
      "Success, 299 trips out of 308 found. Next start time = 2024-03-23 12:01:00\n"
     ]
    },
    {
     "name": "stderr",
     "output_type": "stream",
     "text": [
      "Processing points: 306it [36:35,  7.18s/it]﻿\n"
     ]
    },
    {
     "name": "stdout",
     "output_type": "stream",
     "text": [
      "Success, 298 trips out of 300 found. Next start time = 2024-03-23 12:02:00\n"
     ]
    },
    {
     "name": "stderr",
     "output_type": "stream",
     "text": [
      "Processing points: 315it [38:07,  7.26s/it]﻿\n"
     ]
    },
    {
     "name": "stdout",
     "output_type": "stream",
     "text": [
      "Success, 320 trips out of 313 found. Next start time = 2024-03-23 12:03:00\n"
     ]
    },
    {
     "name": "stderr",
     "output_type": "stream",
     "text": [
      "Processing points: 213it [25:40,  7.23s/it]﻿\n"
     ]
    },
    {
     "name": "stdout",
     "output_type": "stream",
     "text": [
      "Success, 238 trips out of 210 found. Next start time = 2024-03-23 12:04:00\n"
     ]
    },
    {
     "name": "stderr",
     "output_type": "stream",
     "text": [
      "Processing points: 82it [09:55,  7.26s/it]﻿\n"
     ]
    },
    {
     "name": "stdout",
     "output_type": "stream",
     "text": [
      "Success, 71 trips out of 79 found. Next start time = 2024-03-23 12:05:00\n"
     ]
    },
    {
     "name": "stderr",
     "output_type": "stream",
     "text": [
      "Processing points: 302it [1:17:46, 15.45s/it]﻿\n"
     ]
    },
    {
     "name": "stdout",
     "output_type": "stream",
     "text": [
      "Success, 312 trips out of 298 found. Next start time = 2024-03-23 12:06:00\n"
     ]
    },
    {
     "name": "stderr",
     "output_type": "stream",
     "text": [
      "Processing points: 307it [2:58:53, 34.96s/it]﻿\n"
     ]
    },
    {
     "name": "stdout",
     "output_type": "stream",
     "text": [
      "Success, 288 trips out of 304 found. Next start time = 2024-03-23 12:07:00\n"
     ]
    },
    {
     "name": "stderr",
     "output_type": "stream",
     "text": [
      "Processing points: 3it [01:34, 31.33s/it]﻿\n"
     ]
    },
    {
     "name": "stdout",
     "output_type": "stream",
     "text": [
      "Success, 2 trips out of 3 found. Next start time = 2024-03-23 12:08:00\n"
     ]
    },
    {
     "name": "stderr",
     "output_type": "stream",
     "text": [
      "Processing points: 310it [3:04:00, 35.61s/it]﻿\n"
     ]
    },
    {
     "name": "stdout",
     "output_type": "stream",
     "text": [
      "Success, 300 trips out of 305 found. Next start time = 2024-03-23 12:09:00\n"
     ]
    },
    {
     "name": "stderr",
     "output_type": "stream",
     "text": [
      "Processing points: 314it [2:59:24, 34.28s/it]﻿\n"
     ]
    },
    {
     "name": "stdout",
     "output_type": "stream",
     "text": [
      "Success, 284 trips out of 308 found. Next start time = 2024-03-23 12:10:00\n"
     ]
    },
    {
     "ename": "ExecuteError",
     "evalue": "ERROR 999999: Something unexpected caused the tool to fail. Contact Esri Technical Support (http://esriurl.com/support) to Report a Bug, and refer to the error help for potential solutions or workarounds.\nFailed to execute (MakeQueryLayer).\n",
     "output_type": "error",
     "traceback": [
      "\u001b[0;31m---------------------------------------------------------------------------\u001b[0m\n\u001b[0;31mExecuteError\u001b[0m                              Traceback (most recent call last)",
      "In  \u001b[0;34m[41]\u001b[0m:\nLine \u001b[0;34m77\u001b[0m:    calculate_delay(live_workspace, table_name, local_workspace, start_time)         \u001b[37m\u001b[39;49;00m\n",
      "In  \u001b[0;34m[41]\u001b[0m:\nLine \u001b[0;34m29\u001b[0m:    arcpy.MakeQueryLayer_management(live_workspace, layer_name, query, \u001b[33m\"\u001b[39;49;00m\u001b[33mOBJECTID\u001b[39;49;00m\u001b[33m\"\u001b[39;49;00m, \u001b[33m\"\u001b[39;49;00m\u001b[33mPOINT\u001b[39;49;00m\u001b[33m\"\u001b[39;49;00m, \u001b[33m\"\u001b[39;49;00m\u001b[33m4326\u001b[39;49;00m\u001b[33m\"\u001b[39;49;00m)\u001b[37m\u001b[39;49;00m\n",
      "File \u001b[0;34mC:\\Program Files\\ArcGIS\\Pro\\Resources\\ArcPy\\arcpy\\management.py\u001b[0m, in \u001b[0;32mMakeQueryLayer\u001b[0m:\nLine \u001b[0;34m10017\u001b[0m: \u001b[34mraise\u001b[39;49;00m e\u001b[37m\u001b[39;49;00m\n",
      "File \u001b[0;34mC:\\Program Files\\ArcGIS\\Pro\\Resources\\ArcPy\\arcpy\\management.py\u001b[0m, in \u001b[0;32mMakeQueryLayer\u001b[0m:\nLine \u001b[0;34m10014\u001b[0m: retval = convertArcObjectToPythonObject(gp.MakeQueryLayer_management(*gp_fixargs((input_database, out_layer_name, query, oid_fields, shape_type, srid, spatial_reference, spatial_properties, m_values, z_values, extent), \u001b[34mTrue\u001b[39;49;00m)))\u001b[37m\u001b[39;49;00m\n",
      "File \u001b[0;34mC:\\Program Files\\ArcGIS\\Pro\\Resources\\ArcPy\\arcpy\\geoprocessing\\_base.py\u001b[0m, in \u001b[0;32m<lambda>\u001b[0m:\nLine \u001b[0;34m520\u001b[0m:   \u001b[34mreturn\u001b[39;49;00m \u001b[34mlambda\u001b[39;49;00m *args: val(*gp_fixargs(args, \u001b[34mTrue\u001b[39;49;00m))\u001b[37m\u001b[39;49;00m\n",
      "\u001b[0;31mExecuteError\u001b[0m: ERROR 999999: Something unexpected caused the tool to fail. Contact Esri Technical Support (http://esriurl.com/support) to Report a Bug, and refer to the error help for potential solutions or workarounds.\nFailed to execute (MakeQueryLayer).\n\n\u001b[0;31m---------------------------------------------------------------------------\u001b[0m"
     ]
    }
   ],
   "source": [
    "from datetime import datetime, timedelta\n",
    "from tqdm import tqdm\n",
    "\n",
    "def time_diff_in_minutes(time1, time2):\n",
    "    total_seconds1 = time1.hour * 3600 + time1.minute * 60 + time1.second\n",
    "    total_seconds2 = time2.hour * 3600 + time2.minute * 60 + time2.second\n",
    "    diff_seconds = abs(total_seconds1 - total_seconds2)\n",
    "    diff_minutes = diff_seconds // 60\n",
    "    return diff_minutes\n",
    "\n",
    "def calculate_delay(live_workspace, table_name, local_workspace, start_time):\n",
    "    \n",
    "    current_time = start_time\n",
    "    end_time = start_time + timedelta(days = 7)\n",
    "    \n",
    "    while current_time < end_time:\n",
    "        # Create datetime objects for analysis and convert from utc to local time and query live bus data\n",
    "        utc_time = current_time + timedelta(hours = 5)\n",
    "        time_plus_one = utc_time + timedelta(minutes = 1)\n",
    "        \n",
    "        # Start to iterate through to select only scheduled points from that time and day\n",
    "        scheduled_bus_points = 'new_points'\n",
    "        delay_day = f'Delay_{current_time.strftime(\"%A\")}'\n",
    "        day_status = f'{current_time.strftime(\"%A\")}_Status'\n",
    "        current_minute = current_time.time()\n",
    "        \n",
    "        # Create a temporary feature class to hold the points from the array and clear selection\n",
    "        query = f\"SELECT ST_SetSRID(ST_MakePoint(longitude, latitude), 4326) as geom, timestamp, trip_id FROM {table_name} WHERE timestamp > timestamp '{utc_time}' And timestamp < timestamp '{time_plus_one}'\"\n",
    "        layer_name = \"temp_live_points\"\n",
    "        arcpy.MakeQueryLayer_management(live_workspace, layer_name, query, \"OBJECTID\", \"POINT\", \"4326\")\n",
    "        near_trip_ids_time = {}\n",
    "        \n",
    "        # Pull the correct trip_id and time \n",
    "        arcpy.env.workspace = local_workspace\n",
    "        with arcpy.da.SearchCursor('temp_live_points', ['trip_id', 'SHAPE@']) as cursor:\n",
    "            for row in tqdm(cursor, desc='Processing points'):\n",
    "                trip_id = row[0]\n",
    "                arcpy.management.SelectLayerByAttribute(scheduled_bus_points, \"NEW_SELECTION\", f\"trip_id = '{trip_id}'\")\n",
    "\n",
    "                # Run the nearest table using the row and the scheduled data and copy the corresponding trip_id and time into the dictionary\n",
    "                arcpy.analysis.GenerateNearTable(row[1], scheduled_bus_points, 'live_points_near_table', search_radius = \"500 Meters\", closest=\"CLOSEST\")\n",
    "\n",
    "                # Get the nearest point's trip_id and time\n",
    "                with arcpy.da.SearchCursor('live_points_near_table', ['NEAR_FID']) as near_cursor:\n",
    "                    for near_row in near_cursor:\n",
    "                        near_id = near_row[0]\n",
    "                        with arcpy.da.SearchCursor(scheduled_bus_points, ['trip_id', 'time'], f\"OBJECTID = {near_id}\") as trip_cursor:\n",
    "                            for trip_row in trip_cursor:\n",
    "                                near_trip_ids_time[trip_row[0]] = trip_row[1]\n",
    "        \n",
    "        arcpy.management.SelectLayerByAttribute(scheduled_bus_points, \"CLEAR_SELECTION\")\n",
    "        arcpy.management.Delete('live_points_near_table')\n",
    "        arcpy.management.Delete('temp_live_points')\n",
    "        \n",
    "        matches = 0\n",
    "        with arcpy.da.UpdateCursor(scheduled_bus_points, ['trip_id', 'time', delay_day, day_status], f\"time = time '{current_minute}'\") as cursor:\n",
    "            for row in cursor:\n",
    "                scheduled_trip_id, scheduled_time, schedule_delay, schedule_status = row\n",
    "                if scheduled_trip_id in near_trip_ids_time:\n",
    "                    matches = matches + 1\n",
    "                    near_time = near_trip_ids_time[scheduled_trip_id]\n",
    "                    delay_minutes = time_diff_in_minutes(scheduled_time, near_time)\n",
    "                    row[2] = delay_minutes\n",
    "                    if delay_minutes > 0:\n",
    "                        row[3] = 1\n",
    "                    else:\n",
    "                        row[3] = 0\n",
    "                    cursor.updateRow(row)\n",
    "\n",
    "        # Update current_time\n",
    "        current_time = current_time + timedelta(minutes = 1)\n",
    "        print(f\"Success, {matches} trips out of {len(near_trip_ids_time)} found. Next start time = {current_time}\")\n",
    "\n",
    "live_workspace = r'C:\\Users\\BRAUE189\\Documents\\ArcGIS\\Projects\\GIS5572\\PostgreSQL-35-gis5572(postgres).sde'\n",
    "table_name = 'gis5572.postgres.live_bus_data'\n",
    "local_workspace = r'C:\\Users\\BRAUE189\\Documents\\ArcGIS\\Projects\\GIS5572\\Default.gdb'\n",
    "start_time = datetime(2024, 3, 23, 8, 0, 0)\n",
    "calculate_delay(live_workspace, table_name, local_workspace, start_time)         "
   ]
  },
  {
   "cell_type": "code",
   "execution_count": 1,
   "metadata": {},
   "outputs": [],
   "source": [
    "def create_cloud_class(workspace):\n",
    "    arcpy.env.workspace = workspace\n",
    "    spatial_ref = arcpy.SpatialReference(4326)\n",
    "    out_name = 'bus_delay_20240323'                                   \n",
    "    geometry_type = \"POINT\"\n",
    "    arcpy.management.CreateFeatureclass(arcpy.env.workspace, out_name, geometry_type, spatial_reference = spatial_ref)\n",
    "    output_class = os.path.join(arcpy.env.workspace, out_name)\n",
    "    arcpy.management.CopyFeatures(points, output_class)\n",
    "    \n",
    "create_cloud_class(r'C:\\Users\\BRAUE189\\Documents\\ArcGIS\\Projects\\GIS5572\\PostgreSQL-35-gis5572(postgres).sde', r'C:\\Users\\BRAUE189\\Documents\\ArcGIS\\Projects\\GIS5572\\Default.gdb\\new_points')"
   ]
  }
 ],
 "metadata": {
  "kernelspec": {
   "display_name": "ArcGISPro",
   "language": "Python",
   "name": "python3"
  },
  "language_info": {
   "file_extension": ".py",
   "name": "python",
   "version": "3"
  }
 },
 "nbformat": 4,
 "nbformat_minor": 2
}
