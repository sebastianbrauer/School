{
 "cells": [
  {
   "cell_type": "code",
   "execution_count": null,
   "metadata": {},
   "outputs": [],
   "source": [
    "'''\n",
    "READ ME:\n",
    "\n",
    "This first block of code will not work in an arcgis environment but should work in an online jupyter notebooks environment and pulls\n",
    "data from the metro transit realtime GTFS feed using information on vehicle location.\n",
    "'''\n",
    "\n",
    "import csv\n",
    "import datetime\n",
    "import time\n",
    "import requests\n",
    "from google.transit import gtfs_realtime_pb2\n",
    "\n",
    "# Open a CSV file for writing\n",
    "csv_filename = r'gtfs_data_test_1.csv'\n",
    "with open(csv_filename, mode='w', newline='') as file:\n",
    "    writer = csv.writer(file)\n",
    "    # Write the header row\n",
    "    writer.writerow(['id', 'latitude', 'longitude', 'timestamp', 'trip_id', 'start_date'])\n",
    "\n",
    "    # Set the end count to limit the number of loops\n",
    "    end_count = 0\n",
    "\n",
    "    # Continuous loop for 3 cycles\n",
    "    while end_count < 3:\n",
    "        try:\n",
    "            # Request GTFS feed\n",
    "            response = requests.get('https://svc.metrotransit.org/mtgtfs/vehiclepositions.pb')\n",
    "            feed = gtfs_realtime_pb2.FeedMessage()\n",
    "            feed.ParseFromString(response.content)\n",
    "\n",
    "            # Process each entity in the feed\n",
    "            for entity in feed.entity:\n",
    "                if entity.HasField('vehicle'):\n",
    "                    # Extract information\n",
    "                    vehicle_id = entity.vehicle.vehicle.id\n",
    "                    latitude = entity.vehicle.position.latitude\n",
    "                    longitude = entity.vehicle.position.longitude\n",
    "                    timestamp = entity.vehicle.timestamp\n",
    "                    trip_id = entity.vehicle.trip.trip_id\n",
    "                    start_date = entity.vehicle.trip.start_date\n",
    "                    \n",
    "                    # Convert timestamp from seconds to formatted date string\n",
    "                    timestamp_dt = datetime.datetime.fromtimestamp(timestamp)\n",
    "                    timestamp_str = timestamp_dt.strftime('%Y-%m-%d %H:%M:%S')\n",
    "\n",
    "                    # Write the information to the CSV file only if the data is clean\n",
    "                    if latitude != 0.0 and longitude != 0.0 and timestamp != 0: \n",
    "                        writer.writerow([vehicle_id, latitude, longitude, timestamp_str, trip_id, start_date])\n",
    "\n",
    "        except Exception as e:\n",
    "            print(\"Error:\", e)\n",
    "\n",
    "        # Wait for 15 seconds before requesting the feed again\n",
    "        time.sleep(15)\n",
    "        end_count = end_count + 1\n",
    "\n",
    "print(\"Data collection complete. CSV file saved as:\", csv_filename)"
   ]
  },
  {
   "cell_type": "code",
   "execution_count": 5,
   "metadata": {},
   "outputs": [],
   "source": [
    "import pandas as pd\n",
    "import datetime\n",
    "\n",
    "df = pd.read_csv(r'C:\\School\\GIS 5572\\Local\\Lab 2\\project data\\gtfs_data_test_1.csv')\n",
    "df = df.drop_duplicates()\n",
    "df['simple_time'] = pd.to_datetime(df['timestamp'])\n",
    "df['simple_time'] = df['simple_time'].dt.strftime('%H:%M')\n",
    "df.to_csv(r'C:\\School\\GIS 5572\\Local\\Lab 2\\project data\\gtfs_data_test_1.csv', index=False)"
   ]
  },
  {
   "cell_type": "code",
   "execution_count": 7,
   "metadata": {},
   "outputs": [
    {
     "data": {
      "text/html": [
       "<div class='gpresult'><h2>Messages</h2><div id='messages' data-messages='[\"Start Time: Tuesday, March 12, 2024 2:14:14 PM\",\"Succeeded at Tuesday, March 12, 2024 2:14:34 PM (Elapsed Time: 20.16 seconds)\"]' data-show='true'><div id = 'default' /></div></div>"
      ],
      "text/plain": [
       "<Result 'C:\\\\School\\\\GIS 5572\\\\Local\\\\Lab 1.2\\\\Test Project\\\\Test Project.gdb\\\\bus_location_points'>"
      ]
     },
     "execution_count": 7,
     "metadata": {},
     "output_type": "execute_result"
    }
   ],
   "source": [
    "arcpy.env.workspace = r'C:\\School\\GIS 5572\\Local\\Lab 1.2\\Test Project\\Test Project.gdb'\n",
    "spatial_ref = arcpy.SpatialReference(4326)\n",
    "out_name = \"bus_location_points\"\n",
    "table_in = r'C:\\School\\GIS 5572\\Local\\Lab 2\\project data\\gtfs_data_test_1.csv'\n",
    "arcpy.management.XYTableToPoint(table_in, out_name, \"longitude\", \"latitude\", None, spatial_ref)"
   ]
  },
  {
   "cell_type": "code",
   "execution_count": 8,
   "metadata": {},
   "outputs": [
    {
     "data": {
      "text/html": [
       "<div class='gpresult'><h2>Messages</h2><div id='messages' data-messages='[\"Start Time: Tuesday, March 12, 2024 2:15:59 PM\",\"Succeeded at Tuesday, March 12, 2024 2:16:28 PM (Elapsed Time: 29.81 seconds)\"]' data-show='true'><div id = 'default' /></div></div>"
      ],
      "text/plain": [
       "<Result 'C:\\\\School\\\\GIS 5572\\\\Local\\\\Lab 1.2\\\\Test Project\\\\PostgreSQL-35-gis5572(postgres).sde\\\\bus_location_points'>"
      ]
     },
     "execution_count": 8,
     "metadata": {},
     "output_type": "execute_result"
    }
   ],
   "source": [
    "arcpy.env.workspace = r'C:\\School\\GIS 5572\\Local\\Lab 1.2\\Test Project\\PostgreSQL-35-gis5572(postgres).sde'\n",
    "spatial_ref = arcpy.SpatialReference(4326)\n",
    "out_name = \"bus_location_points\"\n",
    "geometry_type = \"POINT\"\n",
    "arcpy.CreateFeatureclass_management(arcpy.env.workspace, out_name, geometry_type, spatial_reference = spatial_ref)"
   ]
  },
  {
   "cell_type": "code",
   "execution_count": 9,
   "metadata": {},
   "outputs": [
    {
     "data": {
      "text/html": [
       "<div class='gpresult'><h2>Messages</h2><div id='messages' data-messages='[\"Start Time: Tuesday, March 12, 2024 2:17:24 PM\",\"Succeeded at Tuesday, March 12, 2024 2:21:36 PM (Elapsed Time: 4 minutes 12 seconds)\"]' data-show='true'><div id = 'default' /></div></div>"
      ],
      "text/plain": [
       "<Result 'C:\\\\School\\\\GIS 5572\\\\Local\\\\Lab 1.2\\\\Test Project\\\\PostgreSQL-35-gis5572(postgres).sde\\\\gis5572.postgres.bus_location_points'>"
      ]
     },
     "execution_count": 9,
     "metadata": {},
     "output_type": "execute_result"
    }
   ],
   "source": [
    "in_features = r'C:\\School\\GIS 5572\\Local\\Lab 1.2\\Test Project\\Test Project.gdb\\bus_location_points'\n",
    "out_features = r'C:\\School\\GIS 5572\\Local\\Lab 1.2\\Test Project\\PostgreSQL-35-gis5572(postgres).sde\\bus_location_points'\n",
    "arcpy.management.CopyFeatures(in_features, out_features)"
   ]
  },
  {
   "cell_type": "code",
   "execution_count": null,
   "metadata": {},
   "outputs": [],
   "source": []
  }
 ],
 "metadata": {
  "kernelspec": {
   "display_name": "ArcGISPro",
   "language": "Python",
   "name": "python3"
  },
  "language_info": {
   "file_extension": ".py",
   "name": "python",
   "version": "3"
  }
 },
 "nbformat": 4,
 "nbformat_minor": 2
}
