{
 "cells": [
  {
   "cell_type": "code",
   "execution_count": 1,
   "metadata": {},
   "outputs": [],
   "source": [
    "import requests\n",
    "import zipfile\n",
    "import os\n",
    "\n",
    "workspace = r'C:\\School\\GIS 5572\\Local\\Lab 2\\data'\n",
    "\n",
    "land_cover_resource = 'https://resources.gisdata.mn.gov/pub/gdrs/data/pub/us_mn_state_dnr/biota_landcover_nlcd_mn_2019/tif_biota_landcover_nlcd_mn_2019.zip'\n",
    "\n",
    "response = requests.get(land_cover_resource)\n",
    "file_path = os.path.join(workspace, 'landcover.zip')\n",
    "with open(file_path, 'wb') as file:\n",
    "    file.write(response.content)\n",
    "        \n",
    "with zipfile.ZipFile(file_path, 'r') as zip_ref:\n",
    "    zip_ref.extractall(workspace)"
   ]
  },
  {
   "cell_type": "code",
   "execution_count": 89,
   "metadata": {},
   "outputs": [
    {
     "name": "stdout",
     "output_type": "stream",
     "text": [
      "Bounding Box:\n",
      "XMin: -112390.0, YMin: 4600900.0, XMax: 801260.0, YMax: 5566390.0\n",
      "\n",
      "Spatial Reference:\n",
      "NAD_1983_UTM_Zone_15N\n",
      "Cell size (X): 30.0\n",
      "Cell size (Y): 30.0\n",
      "\n",
      "All values match the expected values.\n"
     ]
    }
   ],
   "source": [
    "raster_path = os.path.join(workspace, 'NLCD_2019_Land_Cover.tif')\n",
    "desc = arcpy.Describe(raster_path)\n",
    "\n",
    "# Expected bounding box values\n",
    "expected_xmin = -112390.0\n",
    "expected_ymin = 4600900.0\n",
    "expected_xmax = 801260.0\n",
    "expected_ymax = 5566390.0\n",
    "\n",
    "# Expected spatial reference name\n",
    "expected_spatial_reference = 'NAD_1983_UTM_Zone_15N'\n",
    "\n",
    "# Expexted cell size\n",
    "expected_Width = 30.0\n",
    "expected_Height = 30.0\n",
    "\n",
    "# Print the bounding box\n",
    "print(\"Bounding Box:\")\n",
    "print(\"XMin: {0}, YMin: {1}, XMax: {2}, YMax: {3}\".format(desc.extent.XMin, desc.extent.YMin, desc.extent.XMax, desc.extent.YMax))\n",
    "\n",
    "# Print the spatial reference\n",
    "print(\"\\nSpatial Reference:\")\n",
    "print(desc.spatialReference.name)\n",
    "\n",
    "#Print the cell size\n",
    "print(f\"Cell size (X): {desc.meanCellWidth}\")\n",
    "print(f\"Cell size (Y): {desc.meanCellHeight}\")\n",
    "\n",
    "# Assert statements to check the values\n",
    "assert desc.extent.XMin == expected_xmin, f\"XMin does not match. Expected: {expected_xmin}, Actual: {desc.extent.XMin}\"\n",
    "assert desc.extent.YMin == expected_ymin, f\"YMin does not match. Expected: {expected_ymin}, Actual: {desc.extent.YMin}\"\n",
    "assert desc.extent.XMax == expected_xmax, f\"XMax does not match. Expected: {expected_xmax}, Actual: {desc.extent.XMax}\"\n",
    "assert desc.extent.YMax == expected_ymax, f\"YMax does not match. Expected: {expected_ymax}, Actual: {desc.extent.YMax}\"\n",
    "assert desc.spatialReference.name == expected_spatial_reference, f\"Spatial reference does not match. Expected: {expected_spatial_reference}, Actual: {desc.spatialReference.name}\"\n",
    "assert desc.meanCellWidth == expected_Width, f\"Spatial reference does not match. Expected: {expected_Width}, Actual: {desc.meanCellWidth}\"\n",
    "assert desc.meanCellHeight == expected_Height, f\"Spatial reference does not match. Expected: {expected_Height}, Actual: {desc.meanCellHeight}\"\n",
    "\n",
    "print(\"\\nAll values match the expected values.\")"
   ]
  },
  {
   "cell_type": "code",
   "execution_count": 90,
   "metadata": {},
   "outputs": [
    {
     "name": "stdout",
     "output_type": "stream",
     "text": [
      "Data range is between 0 and 255.\n"
     ]
    }
   ],
   "source": [
    "raster = arcpy.Raster(raster_path)\n",
    "\n",
    "min_value = raster.minimum\n",
    "max_value = raster.maximum\n",
    "\n",
    "\n",
    "# Check if the range is between 0 and 95\n",
    "if min_value >= 0 and max_value <= 255:\n",
    "    print(\"Data range is between 0 and 255.\")\n",
    "else:\n",
    "    print(\"Data range is not between 0 and 255.\")"
   ]
  },
  {
   "cell_type": "code",
   "execution_count": 91,
   "metadata": {},
   "outputs": [
    {
     "data": {
      "text/html": [
       "<div class='gpresult'><h2>Messages</h2><div id='messages' data-messages='[\"Start Time: Sunday, February 25, 2024 2:43:04 PM\",\"Building Pyramids...\",\"Succeeded at Sunday, February 25, 2024 2:43:15 PM (Elapsed Time: 11.14 seconds)\"]' data-show='true'><div id = 'default' /></div></div>"
      ],
      "text/plain": [
       "<Result 'C:\\\\School\\\\GIS 5572\\\\Local\\\\Lab 2\\\\data\\\\NLCD_2019_Land_Cover_3k.tif'>"
      ]
     },
     "execution_count": 91,
     "metadata": {},
     "output_type": "execute_result"
    }
   ],
   "source": [
    "output_raster = os.path.join(workspace, 'NLCD_2019_Land_Cover_3k.tif')\n",
    "arcpy.management.Resample(raster_path, output_raster, \"3000 3000\", \"MAJORITY\")"
   ]
  },
  {
   "cell_type": "code",
   "execution_count": 92,
   "metadata": {},
   "outputs": [
    {
     "data": {
      "text/html": [
       "<div class='gpresult'><h2>Messages</h2><div id='messages' data-messages='[\"Start Time: Sunday, February 25, 2024 2:48:21 PM\",\"Succeeded at Sunday, February 25, 2024 2:48:59 PM (Elapsed Time: 37.41 seconds)\"]' data-show='true'><div id = 'default' /></div></div>"
      ],
      "text/plain": [
       "<Result 'C:\\\\School\\\\GIS 5572\\\\Local\\\\Lab 1.2\\\\Test Project\\\\PostgreSQL-35-gis5572(postgres).sde\\\\land_cover_points'>"
      ]
     },
     "execution_count": 92,
     "metadata": {},
     "output_type": "execute_result"
    }
   ],
   "source": [
    "arcpy.env.workspace = r'C:\\School\\GIS 5572\\Local\\Lab 1.2\\Test Project\\PostgreSQL-35-gis5572(postgres).sde'\n",
    "spatial_ref = arcpy.SpatialReference(26915)\n",
    "out_name = \"land_cover_points\"\n",
    "geometry_type = \"POINT\"\n",
    "arcpy.CreateFeatureclass_management(arcpy.env.workspace, out_name, geometry_type, spatial_reference = spatial_ref)"
   ]
  },
  {
   "cell_type": "code",
   "execution_count": 93,
   "metadata": {},
   "outputs": [
    {
     "data": {
      "text/html": [
       "<div class='gpresult'><h2>Messages</h2><div id='messages' data-messages='[\"Start Time: Sunday, February 25, 2024 2:50:36 PM\",\"Succeeded at Sunday, February 25, 2024 3:25:20 PM (Elapsed Time: 34 minutes 44 seconds)\"]' data-show='true'><div id = 'default' /></div></div>"
      ],
      "text/plain": [
       "<Result 'C:\\\\School\\\\GIS 5572\\\\Local\\\\Lab 1.2\\\\Test Project\\\\PostgreSQL-35-gis5572(postgres).sde\\\\gis5572.postgres.land_cover_points'>"
      ]
     },
     "execution_count": 93,
     "metadata": {},
     "output_type": "execute_result"
    }
   ],
   "source": [
    "out_name = r'C:\\School\\GIS 5572\\Local\\Lab 1.2\\Test Project\\PostgreSQL-35-gis5572(postgres).sde\\gis5572.postgres.land_cover_points'\n",
    "arcpy.RasterToPoint_conversion(output_raster, out_name, \"VALUE\")"
   ]
  },
  {
   "cell_type": "code",
   "execution_count": null,
   "metadata": {},
   "outputs": [],
   "source": []
  }
 ],
 "metadata": {
  "kernelspec": {
   "display_name": "ArcGISPro",
   "language": "Python",
   "name": "python3"
  },
  "language_info": {
   "file_extension": ".py",
   "name": "python",
   "version": "3"
  }
 },
 "nbformat": 4,
 "nbformat_minor": 2
}
