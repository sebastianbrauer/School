{
 "cells": [
  {
   "cell_type": "code",
   "execution_count": 11,
   "metadata": {},
   "outputs": [],
   "source": [
    "import requests\n",
    "import os\n",
    "\n",
    "workspace = r'C:\\School\\GIS 5572\\Local\\Lab 2\\data'\n",
    "\n",
    "weather_data = 'https://mesonet.agron.iastate.edu/api/1/daily.geojson?network=MN_RWIS&year=2024&month=1'\n",
    "\n",
    "response = requests.get(weather_data)\n",
    "file_path = os.path.join(workspace, 'weather_jan.geojson')\n",
    "with open(file_path, 'wb') as file:\n",
    "    file.write(response.content)"
   ]
  },
  {
   "cell_type": "code",
   "execution_count": 45,
   "metadata": {},
   "outputs": [
    {
     "data": {
      "text/html": [
       "<div class='gpresult'><h2>Messages</h2><div id='messages' data-messages='[\"Start Time: Saturday, February 24, 2024 7:44:12 PM\",\"Succeeded at Saturday, February 24, 2024 7:44:15 PM (Elapsed Time: 3.33 seconds)\"]' data-show='true'><div id = 'default' /></div></div>"
      ],
      "text/plain": [
       "<Result 'C:\\\\School\\\\GIS 5572\\\\Local\\\\Lab 1.2\\\\Test Project\\\\Test Project.gdb\\\\weather_jan'>"
      ]
     },
     "execution_count": 45,
     "metadata": {},
     "output_type": "execute_result"
    }
   ],
   "source": [
    "out_features = r'C:\\School\\GIS 5572\\Local\\Lab 1.2\\Test Project\\Test Project.gdb\\weather_jan'\n",
    "arcpy.conversion.JSONToFeatures(file_path, out_features, geometry_type=\"POINT\")"
   ]
  },
  {
   "cell_type": "code",
   "execution_count": 46,
   "metadata": {},
   "outputs": [
    {
     "name": "stdout",
     "output_type": "stream",
     "text": [
      "Bounding Box:\n",
      "XMin: -97.20169830299994, YMin: 43.508331299000076, XMax: -89.68496704099994, YMax: 48.970851898000035\n",
      "\n",
      "Spatial Reference:\n",
      "GCS_WGS_1984\n",
      "\n",
      "All values match the expected values.\n"
     ]
    }
   ],
   "source": [
    "desc = arcpy.Describe(out_features)\n",
    "\n",
    "# Expected bounding box values\n",
    "expected_xmin = -98\n",
    "expected_ymin = 43\n",
    "expected_xmax = -89\n",
    "expected_ymax = 49\n",
    "\n",
    "# Expected spatial reference name\n",
    "expected_spatial_reference = 'GCS_WGS_1984'\n",
    "\n",
    "# Print the bounding box\n",
    "print(\"Bounding Box:\")\n",
    "print(\"XMin: {0}, YMin: {1}, XMax: {2}, YMax: {3}\".format(desc.extent.XMin, desc.extent.YMin, desc.extent.XMax, desc.extent.YMax))\n",
    "\n",
    "# Print the spatial reference\n",
    "print(\"\\nSpatial Reference:\")\n",
    "print(desc.spatialReference.name)\n",
    "\n",
    "# Assert statements to check the values\n",
    "assert desc.extent.XMin >= expected_xmin, f\"XMin does not match. Expected: {expected_xmin}, Actual: {desc.extent.XMin}\"\n",
    "assert desc.extent.YMin >= expected_ymin, f\"YMin does not match. Expected: {expected_ymin}, Actual: {desc.extent.YMin}\"\n",
    "assert desc.extent.XMax <= expected_xmax, f\"XMax does not match. Expected: {expected_xmax}, Actual: {desc.extent.XMax}\"\n",
    "assert desc.extent.YMax <= expected_ymax, f\"YMax does not match. Expected: {expected_ymax}, Actual: {desc.extent.YMax}\"\n",
    "assert desc.spatialReference.name == expected_spatial_reference, f\"Spatial reference does not match. Expected: {expected_spatial_reference}, Actual: {desc.spatialReference.name}\"\n",
    "\n",
    "print(\"\\nAll values match the expected values.\")"
   ]
  },
  {
   "cell_type": "code",
   "execution_count": 47,
   "metadata": {},
   "outputs": [
    {
     "name": "stdout",
     "output_type": "stream",
     "text": [
      "Incorrect min_tmpf, ObjectID: 58\n",
      "Incorrect min_tmpf, ObjectID: 221\n",
      "Incorrect min_tmpf, ObjectID: 384\n",
      "Incorrect min_tmpf, ObjectID: 547\n",
      "Incorrect min_tmpf, ObjectID: 2376\n",
      "Incorrect min_tmpf, ObjectID: 2539\n",
      "Incorrect min_tmpf, ObjectID: 2616\n",
      "Incorrect min_tmpf, ObjectID: 2702\n",
      "Incorrect min_tmpf, ObjectID: 2779\n",
      "Incorrect min_tmpf, ObjectID: 2865\n",
      "Incorrect min_tmpf, ObjectID: 3028\n",
      "Incorrect min_tmpf, ObjectID: 3191\n",
      "Incorrect min_tmpf, ObjectID: 3354\n",
      "Incorrect min_tmpf, ObjectID: 3452\n",
      "Incorrect min_tmpf, ObjectID: 3517\n",
      "Incorrect min_tmpf, ObjectID: 3680\n",
      "Incorrect min_tmpf, ObjectID: 4117\n",
      "[58, 221, 384, 547, 2376, 2539, 2616, 2702, 2779, 2865, 3028, 3191, 3354, 3452, 3517, 3680, 4117]\n"
     ]
    }
   ],
   "source": [
    "import datetime\n",
    "\n",
    "bad_data_ids = []\n",
    "\n",
    "# Check the data points\n",
    "with arcpy.da.SearchCursor(out_features, [\"OBJECTID\", \"date\", \"min_tmpf\", \"max_tmpf\"]) as cursor:\n",
    "    for row in cursor:\n",
    "        obj_id = row[0]\n",
    "        date_col = row[1]\n",
    "        min_temp = row[2]\n",
    "        max_temp = row[3]\n",
    "        \n",
    "        date = datetime.datetime.strptime(date_col, '%Y-%m-%d')\n",
    "        is_january = date.month == 1\n",
    "        if min_temp is None:\n",
    "            is_min_valid = False\n",
    "        else: \n",
    "            is_min_valid = -30 <= min_temp <= 61\n",
    "        if max_temp is None:\n",
    "            is_max_valid = False\n",
    "        else: \n",
    "            is_max_valid = -30 <= max_temp <= 61\n",
    "\n",
    "        # Check if the date is within January, max_tmpf is betwen -20 and 61, and min_tmpf is between -20 and 61 \n",
    "        if not is_january:\n",
    "            print(f\"Incorrect date, ObjectID: {obj_id}\")\n",
    "            bad_data_ids.append(obj_id)\n",
    "        elif not is_min_valid:\n",
    "            print(f\"Incorrect min_tmpf, ObjectID: {obj_id}\")\n",
    "            bad_data_ids.append(obj_id)\n",
    "        elif not is_max_valid:\n",
    "            print(f\"Incorrect max_tmpf, ObjectID: {obj_id}\")\n",
    "            bad_data_ids.append(obj_id)\n",
    "        \n",
    "print(bad_data_ids)   "
   ]
  },
  {
   "cell_type": "code",
   "execution_count": 55,
   "metadata": {},
   "outputs": [
    {
     "name": "stdout",
     "output_type": "stream",
     "text": [
      "OBJECTID IN (58, 221, 384, 547, 2376, 2539, 2616, 2702, 2779, 2865, 3028, 3191, 3354, 3452, 3517, 3680, 4117)\n"
     ]
    },
    {
     "data": {
      "text/html": [
       "<div class='gpresult'><h2>Messages</h2><div id='messages' data-messages='[\"Start Time: Sunday, February 25, 2024 12:33:15 PM\",\"Succeeded at Sunday, February 25, 2024 12:33:17 PM (Elapsed Time: 2.00 seconds)\"]' data-show='true'><div id = 'default' /></div></div>"
      ],
      "text/plain": [
       "<Result 'weather_jan'>"
      ]
     },
     "execution_count": 55,
     "metadata": {},
     "output_type": "execute_result"
    }
   ],
   "source": [
    "# Remove unwanted data\n",
    "arcpy.env.workspace = r'C:\\School\\GIS 5572\\Lab 1.2\\Test Project\\Test_Project'\n",
    "out_features = 'weather_jan'\n",
    "where_clause = \"OBJECTID IN ({})\".format(\", \".join(map(str, bad_data_ids)))\n",
    "print(where_clause)\n",
    "arcpy.SelectLayerByAttribute_management(out_features, \"NEW_SELECTION\", where_clause)\n",
    "arcpy.DeleteFeatures_management(out_features)"
   ]
  },
  {
   "cell_type": "code",
   "execution_count": 53,
   "metadata": {},
   "outputs": [
    {
     "data": {
      "text/html": [
       "<div class='gpresult'><h2>Messages</h2><div id='messages' data-messages='[\"Start Time: Sunday, February 25, 2024 12:31:17 PM\",\"Succeeded at Sunday, February 25, 2024 12:31:51 PM (Elapsed Time: 34.10 seconds)\"]' data-show='true'><div id = 'default' /></div></div>"
      ],
      "text/plain": [
       "<Result 'C:\\\\School\\\\GIS 5572\\\\Local\\\\Lab 1.2\\\\Test Project\\\\PostgreSQL-35-gis5572(postgres).sde\\\\weather_jan'>"
      ]
     },
     "execution_count": 53,
     "metadata": {},
     "output_type": "execute_result"
    }
   ],
   "source": [
    "arcpy.env.workspace = r'C:\\School\\GIS 5572\\Local\\Lab 1.2\\Test Project\\PostgreSQL-35-gis5572(postgres).sde'\n",
    "spatial_ref = arcpy.SpatialReference(4326)\n",
    "out_name = \"weather_jan\"\n",
    "geometry_type = \"POINT\"\n",
    "arcpy.CreateFeatureclass_management(arcpy.env.workspace, out_name, geometry_type, spatial_reference = spatial_ref)"
   ]
  },
  {
   "cell_type": "code",
   "execution_count": 57,
   "metadata": {},
   "outputs": [
    {
     "data": {
      "text/html": [
       "<div class='gpresult'><h2>Messages</h2><div id='messages' data-messages='[\"Start Time: Sunday, February 25, 2024 12:34:14 PM\",\"Succeeded at Sunday, February 25, 2024 12:38:11 PM (Elapsed Time: 3 minutes 56 seconds)\"]' data-show='true'><div id = 'default' /></div></div>"
      ],
      "text/plain": [
       "<Result 'C:\\\\School\\\\GIS 5572\\\\Local\\\\Lab 1.2\\\\Test Project\\\\PostgreSQL-35-gis5572(postgres).sde\\\\gis5572.postgres.weather_jan'>"
      ]
     },
     "execution_count": 57,
     "metadata": {},
     "output_type": "execute_result"
    }
   ],
   "source": [
    "in_features = r'C:\\School\\GIS 5572\\Local\\Lab 1.2\\Test Project\\Test Project.gdb\\weather_jan'\n",
    "out_features = r'C:\\School\\GIS 5572\\Local\\Lab 1.2\\Test Project\\PostgreSQL-35-gis5572(postgres).sde\\weather_jan'\n",
    "arcpy.management.CopyFeatures(in_features, out_features)"
   ]
  },
  {
   "cell_type": "code",
   "execution_count": null,
   "metadata": {},
   "outputs": [],
   "source": []
  }
 ],
 "metadata": {
  "kernelspec": {
   "display_name": "ArcGISPro",
   "language": "Python",
   "name": "python3"
  },
  "language_info": {
   "file_extension": ".py",
   "name": "python",
   "version": "3"
  }
 },
 "nbformat": 4,
 "nbformat_minor": 2
}
