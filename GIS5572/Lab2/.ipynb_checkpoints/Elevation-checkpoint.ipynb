{
 "cells": [
  {
   "cell_type": "code",
   "execution_count": 5,
   "metadata": {},
   "outputs": [],
   "source": [
    "import requests\n",
    "import zipfile\n",
    "import os\n",
    "\n",
    "workspace = r'C:\\School\\GIS 5572\\Local\\Lab 2\\data'\n",
    "\n",
    "land_cover_resource = 'https://resources.gisdata.mn.gov/pub/gdrs/data/pub/us_mn_state_dnr/elev_30m_digital_elevation_model/fgdb_elev_30m_digital_elevation_model.zip'\n",
    "\n",
    "response = requests.get(land_cover_resource)\n",
    "file_path = os.path.join(workspace, 'elevation.zip')\n",
    "with open(file_path, 'wb') as file:\n",
    "    file.write(response.content)\n",
    "        \n",
    "with zipfile.ZipFile(file_path, 'r') as zip_ref:\n",
    "    zip_ref.extractall(workspace)"
   ]
  },
  {
   "cell_type": "code",
   "execution_count": 83,
   "metadata": {},
   "outputs": [
    {
     "name": "stdout",
     "output_type": "stream",
     "text": [
      "Bounding Box:\n",
      "XMin: 189775.332039, YMin: 4816305.370038, XMax: 761665.332039, YMax: 5472435.370038\n",
      "\n",
      "Spatial Reference:\n",
      "NAD_1983_UTM_Zone_15N\n",
      "Cell size (X): 30.0\n",
      "Cell size (Y): 30.0\n",
      "\n",
      "All values match the expected values.\n"
     ]
    }
   ],
   "source": [
    "raster_path = os.path.join(workspace, 'elev_30m_digital_elevation_model.gdb\\digital_elevation_model_30m')\n",
    "desc = arcpy.Describe(raster_path)\n",
    "\n",
    "# Expected bounding box values\n",
    "expected_xmin = 189775.332039\n",
    "expected_ymin = 4816305.370038\n",
    "expected_xmax = 761665.332039\n",
    "expected_ymax = 5472435.370038\n",
    "\n",
    "# Expected spatial reference name\n",
    "expected_spatial_reference = 'NAD_1983_UTM_Zone_15N'\n",
    "\n",
    "# Expexted cell size\n",
    "expected_Width = 30.0\n",
    "expected_Height = 30.0\n",
    "\n",
    "# Print the bounding box\n",
    "print(\"Bounding Box:\")\n",
    "print(\"XMin: {0}, YMin: {1}, XMax: {2}, YMax: {3}\".format(desc.extent.XMin, desc.extent.YMin, desc.extent.XMax, desc.extent.YMax))\n",
    "\n",
    "# Print the spatial reference\n",
    "print(\"\\nSpatial Reference:\")\n",
    "print(desc.spatialReference.name)\n",
    "\n",
    "#Print the cell size\n",
    "print(f\"Cell size (X): {desc.meanCellWidth}\")\n",
    "print(f\"Cell size (Y): {desc.meanCellHeight}\")\n",
    "\n",
    "# Assert statements to check the values\n",
    "assert desc.extent.XMin == expected_xmin, f\"XMin does not match. Expected: {expected_xmin}, Actual: {desc.extent.XMin}\"\n",
    "assert desc.extent.YMin == expected_ymin, f\"YMin does not match. Expected: {expected_ymin}, Actual: {desc.extent.YMin}\"\n",
    "assert desc.extent.XMax == expected_xmax, f\"XMax does not match. Expected: {expected_xmax}, Actual: {desc.extent.XMax}\"\n",
    "assert desc.extent.YMax == expected_ymax, f\"YMax does not match. Expected: {expected_ymax}, Actual: {desc.extent.YMax}\"\n",
    "assert desc.spatialReference.name == expected_spatial_reference, f\"Spatial reference does not match. Expected: {expected_spatial_reference}, Actual: {desc.spatialReference.name}\"\n",
    "assert desc.meanCellWidth == expected_Width, f\"Spatial reference does not match. Expected: {expected_Width}, Actual: {desc.meanCellWidth}\"\n",
    "assert desc.meanCellHeight == expected_Height, f\"Spatial reference does not match. Expected: {expected_Height}, Actual: {desc.meanCellHeight}\"\n",
    "\n",
    "print(\"\\nAll values match the expected values.\")"
   ]
  },
  {
   "cell_type": "code",
   "execution_count": 84,
   "metadata": {},
   "outputs": [
    {
     "name": "stdout",
     "output_type": "stream",
     "text": [
      "Data range is between 0 and 2301.\n"
     ]
    }
   ],
   "source": [
    "raster = arcpy.Raster(raster_path)\n",
    "\n",
    "min_value = raster.minimum\n",
    "max_value = raster.maximum\n",
    "\n",
    "\n",
    "# Check if the range is between 590 and 2300\n",
    "if min_value >= 590 and max_value <= 2301:\n",
    "    print(\"Data range is between 0 and 2301.\")\n",
    "else:\n",
    "    print(\"Data range is not between 590 and 2301.\")"
   ]
  },
  {
   "cell_type": "code",
   "execution_count": 85,
   "metadata": {},
   "outputs": [],
   "source": [
    "raster_out = r'C:\\School\\GIS 5572\\Local\\Lab 2\\data\\coarse_raster'\n",
    "arcpy.sa.Aggregate(raster_path, 100, \"MEAN\").save(raster_out)"
   ]
  },
  {
   "cell_type": "code",
   "execution_count": 86,
   "metadata": {},
   "outputs": [
    {
     "data": {
      "text/html": [
       "<div class='gpresult'><h2>Messages</h2><div id='messages' data-messages='[\"Start Time: Sunday, February 25, 2024 1:57:47 PM\",\"Succeeded at Sunday, February 25, 2024 1:58:23 PM (Elapsed Time: 36.16 seconds)\"]' data-show='true'><div id = 'default' /></div></div>"
      ],
      "text/plain": [
       "<Result 'C:\\\\School\\\\GIS 5572\\\\Local\\\\Lab 1.2\\\\Test Project\\\\PostgreSQL-35-gis5572(postgres).sde\\\\elevation_points'>"
      ]
     },
     "execution_count": 86,
     "metadata": {},
     "output_type": "execute_result"
    }
   ],
   "source": [
    "arcpy.env.workspace = r'C:\\School\\GIS 5572\\Local\\Lab 1.2\\Test Project\\PostgreSQL-35-gis5572(postgres).sde'\n",
    "spatial_ref = arcpy.SpatialReference(26915)\n",
    "out_name = \"elevation_points\"\n",
    "geometry_type = \"POINT\"\n",
    "arcpy.CreateFeatureclass_management(arcpy.env.workspace, out_name, geometry_type, spatial_reference = spatial_ref)"
   ]
  },
  {
   "cell_type": "code",
   "execution_count": 87,
   "metadata": {},
   "outputs": [
    {
     "data": {
      "text/html": [
       "<div class='gpresult'><h2>Messages</h2><div id='messages' data-messages='[\"Start Time: Sunday, February 25, 2024 1:59:49 PM\",\"Succeeded at Sunday, February 25, 2024 2:17:26 PM (Elapsed Time: 17 minutes 37 seconds)\"]' data-show='true'><div id = 'default' /></div></div>"
      ],
      "text/plain": [
       "<Result 'C:\\\\School\\\\GIS 5572\\\\Local\\\\Lab 1.2\\\\Test Project\\\\PostgreSQL-35-gis5572(postgres).sde\\\\gis5572.postgres.elevation_points'>"
      ]
     },
     "execution_count": 87,
     "metadata": {},
     "output_type": "execute_result"
    }
   ],
   "source": [
    "out_name = r'C:\\School\\GIS 5572\\Local\\Lab 1.2\\Test Project\\PostgreSQL-35-gis5572(postgres).sde\\gis5572.postgres.elevation_points'\n",
    "arcpy.RasterToPoint_conversion(raster_out, out_name, \"VALUE\")"
   ]
  },
  {
   "cell_type": "code",
   "execution_count": null,
   "metadata": {},
   "outputs": [],
   "source": []
  }
 ],
 "metadata": {
  "kernelspec": {
   "display_name": "ArcGISPro",
   "language": "Python",
   "name": "python3"
  },
  "language_info": {
   "file_extension": ".py",
   "name": "python",
   "version": "3"
  }
 },
 "nbformat": 4,
 "nbformat_minor": 2
}
