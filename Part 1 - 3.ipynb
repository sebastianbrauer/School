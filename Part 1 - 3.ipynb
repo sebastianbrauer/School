{
 "cells": [
  {
   "cell_type": "code",
   "execution_count": 15,
   "metadata": {},
   "outputs": [],
   "source": [
    "'''\n",
    "READ ME:\n",
    "This code can pull the annual 30-year normals .bil files for precipitation.\n",
    "Additionally, the code is also able to export convert the data into a space time cube and export the output animation.\n",
    "The code that converts the rasters from .bil to .tif was written by Chat GPT.\n",
    "'''\n",
    "\n",
    "import requests\n",
    "\n",
    "base_url = \"https://ftp.prism.oregonstate.edu/\"\n",
    "api_endpoint = \"normals_4km/ppt/PRISM_ppt_30yr_normal_4kmM4_all_bil.zip\" # Change the API Endpoint Accordingly\"\n",
    "url = f'{base_url}{api_endpoint}'\n",
    "local_filename = r'C:\\School\\GIS 5571\\Local\\Lab2 Data\\bils.zip'\n",
    "response = requests.get(url)\n",
    "\n",
    "with open(local_filename, 'wb') as f:\n",
    "    f.write(response.content)"
   ]
  },
  {
   "cell_type": "code",
   "execution_count": 16,
   "metadata": {},
   "outputs": [],
   "source": [
    "import zipfile\n",
    "\n",
    "extract_dir = r'C:\\School\\GIS 5571\\Local\\Lab2 Data\\bils' # Output location\n",
    "with zipfile.ZipFile(local_filename, 'r') as zip_ref:\n",
    "    zip_ref.extractall(extract_dir)"
   ]
  },
  {
   "cell_type": "code",
   "execution_count": 2,
   "metadata": {},
   "outputs": [],
   "source": [
    "import os\n",
    "\n",
    "folder_path = r'C:\\School\\GIS 5571\\Local\\Lab2 Data\\bils'\n",
    "file_list = os.listdir(folder_path)\n",
    "\n",
    "for filename in file_list:\n",
    "    if \"annual\" in filename.lower():  # Convert to lowercase for case-insensitive matching\n",
    "        file_path = os.path.join(folder_path, filename)\n",
    "        try:\n",
    "            os.remove(file_path)\n",
    "            print(f\"Deleted: {filename}\")\n",
    "        except Exception as e:\n",
    "            print(f\"Error deleting {filename}: {e}\")"
   ]
  },
  {
   "cell_type": "code",
   "execution_count": 18,
   "metadata": {},
   "outputs": [],
   "source": [
    "import arcpy\n",
    "\n",
    "bils_folder = r'C:\\School\\GIS 5571\\Local\\Lab2 Data\\bils'\n",
    "tifs_folder = r'C:\\School\\GIS 5571\\Local\\Lab2 Data\\tifs'\n",
    "bil_files = [f for f in os.listdir(bils_folder) if f.lower().endswith('.bil')]\n",
    "\n",
    "\n",
    "for bil_file in bil_files:\n",
    "    bil_path = os.path.join(bils_folder, bil_file)\n",
    "    tif_file = os.path.splitext(bil_file)[0] + '.tif'\n",
    "    tif_path = os.path.join(tifs_folder, tif_file)\n",
    "    if not os.path.exists(tif_path):\n",
    "        arcpy.conversion.RasterToOtherFormat(bil_path, tifs_folder, \"TIFF\")"
   ]
  },
  {
   "cell_type": "code",
   "execution_count": 1,
   "metadata": {},
   "outputs": [
    {
     "data": {
      "text/html": [
       "<div class='gpresult'><h2>Messages</h2><div id='messages' data-messages='[\"Start Time: Tuesday, October 10, 2023 4:05:00 PM\",\"Succeeded at Tuesday, October 10, 2023 4:05:05 PM (Elapsed Time: 5.20 seconds)\"]' data-show='true'><div id = 'default' /></div></div>"
      ],
      "text/plain": [
       "<Result 'C:\\\\School\\\\GIS 5571\\\\Local\\\\Lab2 Data\\\\Lab2 Project\\\\Lab2 Project.gdb\\\\Normals_Precipiation'>"
      ]
     },
     "execution_count": 1,
     "metadata": {},
     "output_type": "execute_result"
    }
   ],
   "source": [
    "coordinate_system = arcpy.SpatialReference(4269)  # NAD 1983\n",
    "in_workspace = r'C:\\School\\GIS 5571\\Local\\Lab2 Data\\Lab2 Project\\Lab2 Project.gdb'\n",
    "in_mosaicdataset_name = 'Normals_Precipiation'\n",
    "arcpy.management.CreateMosaicDataset(in_workspace, in_mosaicdataset_name, coordinate_system)"
   ]
  },
  {
   "cell_type": "code",
   "execution_count": 2,
   "metadata": {},
   "outputs": [
    {
     "data": {
      "text/html": [
       "<div class='gpresult'><h2>Messages</h2><div id='messages' data-messages='[\"Start Time: Tuesday, October 10, 2023 4:05:14 PM\",\"2023-10-10T16:05:15.322: Loading raster datasets\",\"2023-10-10T16:05:15.480: Completed crawling 12 data source items. Added 12 mosaic dataset items.\",\"2023-10-10T16:05:15.481: Synchronizing crawled data source items\",\"2023-10-10T16:05:15.488: Synchronizing items associated with raster type instance &#39;Raster Dataset&#39; [ID: 1].\",\"2023-10-10T16:05:16.858: Completed synchronization: 12 items selected, 12 items synchronized.\",\"2023-10-10T16:05:16.968: Computing cell size levels\",\"2023-10-10T16:05:16.968: Computing unique cell size values\",\"2023-10-10T16:05:17.030: Computing maximum cell size values\",\"2023-10-10T16:05:17.035: Computing minimum cell size values\",\"2023-10-10T16:05:17.040: Updating visibility values of selected items\",\"2023-10-10T16:05:17.063: Computing maximum cell size for mosaic dataset\",\"2023-10-10T16:05:17.074: Completed computing cell size ranges.\",\"2023-10-10T16:05:17.134: Completed building boundary.\",\"Succeeded at Tuesday, October 10, 2023 4:05:18 PM (Elapsed Time: 4.26 seconds)\"]' data-show='true'><div id = 'default' /></div></div>"
      ],
      "text/plain": [
       "<Result 'Normals_Precipiation'>"
      ]
     },
     "execution_count": 2,
     "metadata": {},
     "output_type": "execute_result"
    }
   ],
   "source": [
    "in_mosaic_dataset = 'Normals_Precipiation'\n",
    "input_path = r'C:\\School\\GIS 5571\\Local\\Lab2 Data\\tifs'\n",
    "raster_type = 'Raster Dataset'\n",
    "arcpy.management.AddRastersToMosaicDataset(in_mosaic_dataset, raster_type, input_path)"
   ]
  },
  {
   "cell_type": "code",
   "execution_count": 3,
   "metadata": {},
   "outputs": [
    {
     "data": {
      "text/html": [
       "<div class='gpresult'><h2>Messages</h2><div id='messages' data-messages='[\"Start Time: Tuesday, October 10, 2023 4:05:22 PM\",\"Adding Variable to AMD_Normals_Precipiation_CAT...\",\"Succeeded at Tuesday, October 10, 2023 4:05:24 PM (Elapsed Time: 1.77 seconds)\"]' data-show='true'><div id = 'default' /></div></div>"
      ],
      "text/plain": [
       "<Result 'Normals_Precipiation'>"
      ]
     },
     "execution_count": 3,
     "metadata": {},
     "output_type": "execute_result"
    }
   ],
   "source": [
    "field_name = 'Variable'\n",
    "expression = '\"ppt\"'\n",
    "arcpy.CalculateField_management(in_mosaic_dataset, field_name, expression, \"PYTHON3\")"
   ]
  },
  {
   "cell_type": "code",
   "execution_count": 11,
   "metadata": {},
   "outputs": [
    {
     "data": {
      "text/html": [
       "<div class='gpresult'><h2>Messages</h2><div id='messages' data-messages='[\"Start Time: Tuesday, October 10, 2023 4:11:24 PM\",\"Adding Timestamp to AMD_Normals_Precipiation_CAT...\",\"Succeeded at Tuesday, October 10, 2023 4:11:26 PM (Elapsed Time: 1.64 seconds)\"]' data-show='true'><div id = 'default' /></div></div>"
      ],
      "text/plain": [
       "<Result 'Normals_Precipiation'>"
      ]
     },
     "execution_count": 11,
     "metadata": {},
     "output_type": "execute_result"
    }
   ],
   "source": [
    "field_name = 'Timestamp'\n",
    "type_field = 'DATE'\n",
    "expression = 'DateAdd(Date( 1990, 12, 1), $feature.OBJECTID - 1, \"month\")'\n",
    "arcpy.management.CalculateField(in_mosaic_dataset, field_name, expression, \"ARCADE\", field_type = type_field)"
   ]
  },
  {
   "cell_type": "code",
   "execution_count": 12,
   "metadata": {},
   "outputs": [
    {
     "data": {
      "text/html": [
       "<div class='gpresult'><h2>Messages</h2><div id='messages' data-messages='[\"Start Time: Tuesday, October 10, 2023 4:11:55 PM\",\"Succeeded at Tuesday, October 10, 2023 4:11:57 PM (Elapsed Time: 2.58 seconds)\"]' data-show='true'><div id = 'default' /></div></div>"
      ],
      "text/plain": [
       "<Result 'Normals_Precipiation'>"
      ]
     },
     "execution_count": 12,
     "metadata": {},
     "output_type": "execute_result"
    }
   ],
   "source": [
    "variable_field = 'Variable'\n",
    "timestamp_field = 'Timestamp'\n",
    "arcpy.md.BuildMultidimensionalInfo(in_mosaic_dataset, variable_field, timestamp_field)"
   ]
  },
  {
   "cell_type": "code",
   "execution_count": 13,
   "metadata": {},
   "outputs": [
    {
     "data": {
      "text/html": [
       "<div class='gpresult'><h2>Messages</h2><div id='messages' data-messages='[\"Start Time: Tuesday, October 10, 2023 4:12:00 PM\",\"Succeeded at Tuesday, October 10, 2023 4:12:11 PM (Elapsed Time: 11.27 seconds)\"]' data-show='true'><div id = 'default' /></div></div>"
      ],
      "text/plain": [
       "<Result 'Normals_Precipitation_MultiDim_Layer'>"
      ]
     },
     "execution_count": 13,
     "metadata": {},
     "output_type": "execute_result"
    }
   ],
   "source": [
    "in_multidimensional_raster = in_mosaic_dataset\n",
    "out_multidimensional_raster_layer = 'Normals_Precipitation_MultiDim_Layer'\n",
    "arcpy.md.MakeMultidimensionalRasterLayer(in_multidimensional_raster, out_multidimensional_raster_layer)"
   ]
  },
  {
   "cell_type": "code",
   "execution_count": 19,
   "metadata": {
    "scrolled": true
   },
   "outputs": [
    {
     "data": {
      "text/html": [
       "<div class='gpresult'><h2>Messages</h2><div id='messages' data-messages='[\"Start Time: Tuesday, October 10, 2023 4:34:48 PM\",\"WARNING 110290: This tool requires projected data to accurately measure distances.  The Input Multidimensional Raster Layer will be projected to the WGS 1984 World Equidistant Cylindrical projection (WKID 4087).\",\"WARNING 110442: The Input Multidimensional Raster Layer contains irregular or missing time intervals.\",\"WARNING 110013: The default Time Step Interval is 28 days.\",\"WARNING 110067: Your spatial reference is not compatible with CF Conventions.  You may experience difficulties using the resulting space-time cube with other NetCDF tools and software.\",[{\"element\":\"table\",\"data\":[[{\"data\":\"Input feature time extent\",\"prop\":{\"rowspan\":2}},\"1991-01-01 06:00:00\"],[{\"data\":\"to 1991-12-01 06:00:00\",\"prop\":{\"text-align\":\"right\"}}],[\"\",\"\"],[\"Number of time steps\",\"12\"],[\"Time step interval\",\"28 days\"],[\"Time step alignment\",\"End\"],[\"\",\"\"],[\"First time step temporal bias\",\"100.00%\"],[{\"data\":\"First time step interval\",\"prop\":{\"rowspan\":4}},\"after\"],[{\"data\":\"1990-12-04 06:00:00\",\"prop\":{\"text-align\":\"right\"}}],[{\"data\":\"to on or before\",\"prop\":{\"text-align\":\"right\"}}],[{\"data\":\"1991-01-01 06:00:00\",\"prop\":{\"text-align\":\"right\"}}],[\"\",\"\"],[\"Last time step temporal bias\",\"0.00%\"],[{\"data\":\"Last time step interval\",\"prop\":{\"rowspan\":4}},\"after\"],[{\"data\":\"1991-11-01 05:00:00\",\"prop\":{\"text-align\":\"right\"}}],[{\"data\":\"to on or before\",\"prop\":{\"text-align\":\"right\"}}],[{\"data\":\"1991-12-01 06:00:00\",\"prop\":{\"text-align\":\"right\"}}],[\"\",\"\"],[\"Coordinate System\",\"WGS 1984 World Equidistant Cylindrical\"],[\"Cube extent across space\",\"(coordinates in meters)\"],[\"Min X\",\"-13894063.9446\"],[\"Min Y\",\"2708361.9667\"],[\"Max X\",\"-7451448.4149\"],[\"Max Y\",\"5478283.7456\"]],\"elementProps\":{\"striped\":\"true\",\"noHeader\":true,\"title\":\"Space Time Cube Characteristics\",\"0\":{\"align\":\"left\",\"pad\":\"0px\",\"wrap\":true},\"1\":{\"align\":\"right\",\"pad\":\"0px\",\"wrap\":true}}}],[{\"element\":\"table\",\"data\":[[\"Locations\",\"481631\"],[\"Total observations\",\"5779572\"]],\"elementProps\":{\"striped\":\"true\",\"noHeader\":true,\"0\":{\"align\":\"left\",\"pad\":\"0px\",\"wrap\":true},\"1\":{\"align\":\"right\",\"pad\":\"0px\",\"wrap\":true}}}],[{\"element\":\"table\",\"data\":[[\"Trend direction\",\"Not Significant\"],[\"Trend statistic\",\"0.0000\"],[\"Trend p-value\",\"1.0000\"]],\"elementProps\":{\"striped\":\"true\",\"noHeader\":true,\"title\":\"Overall Data Trend - PPT_NONE_ZEROS\",\"0\":{\"align\":\"left\",\"pad\":\"0px\",\"wrap\":true},\"1\":{\"align\":\"right\",\"pad\":\"0px\",\"wrap\":true}}}],\"Succeeded at Tuesday, October 10, 2023 4:48:57 PM (Elapsed Time: 14 minutes 9 seconds)\"]' data-show='true'><div id = 'default' /></div></div>"
      ],
      "text/plain": [
       "<Result 'C:\\\\School\\\\GIS 5571\\\\Local\\\\Lab2 Data\\\\STCube\\\\ppt.nc'>"
      ]
     },
     "execution_count": 19,
     "metadata": {},
     "output_type": "execute_result"
    }
   ],
   "source": [
    "output_cube = r'C:\\School\\GIS 5571\\Local\\Lab2 Data\\STCube\\ppt.nc'\n",
    "arcpy.stpm.CreateSpaceTimeCubeMDRasterLayer(out_multidimensional_raster_layer, output_cube, 'Zeros')"
   ]
  },
  {
   "cell_type": "code",
   "execution_count": null,
   "metadata": {},
   "outputs": [],
   "source": []
  }
 ],
 "metadata": {
  "kernelspec": {
   "display_name": "ArcGISPro",
   "language": "Python",
   "name": "python3"
  },
  "language_info": {
   "file_extension": ".py",
   "name": "python",
   "version": "3"
  }
 },
 "nbformat": 4,
 "nbformat_minor": 2
}
