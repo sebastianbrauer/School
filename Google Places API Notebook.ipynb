{
 "cells": [
  {
   "cell_type": "code",
   "execution_count": 1,
   "metadata": {},
   "outputs": [],
   "source": [
    "'''\n",
    "READ ME:\n",
    "\n",
    "This code can be used to pull any point spatial Dataset using a Google Places API using place search and add it to your local gdb.\n",
    "You will need to input your API Key, action type, query, the output file type, and the download save location.\n",
    "The code that builds the url and inserted the arguments for the cursor was written by ChatGPT.\n",
    "'''\n",
    "\n",
    "import requests\n",
    "import arcpy\n",
    "\n",
    "api_key = '' # Required input for notebook function\n",
    "\n",
    "action_type = 'textsearch' # Required input for notebook function (other options include findplace and nearbyserach)\n",
    "google_api_url = f'https://maps.googleapis.com/maps/api/place/{action_type}/json' # Assembling query url (output type can also be xml)\n",
    "query = 'playgrounds in Minneapolis' # Required input for notebook function \n",
    "url = f'{google_api_url}?query={query}&key={api_key}' # Build entire url\n",
    "\n",
    "\n",
    "response = requests.get(url) # Run request with the built url\n",
    "data = response.json() # Format request as JSON\n",
    "output_playgrounds = data['results'] # Select only the output results"
   ]
  },
  {
   "cell_type": "code",
   "execution_count": 14,
   "metadata": {},
   "outputs": [
    {
     "ename": "NameError",
     "evalue": "name 'env' is not defined",
     "output_type": "error",
     "traceback": [
      "\u001b[0;31m---------------------------------------------------------------------------\u001b[0m\n\u001b[0;31mNameError\u001b[0m                                 Traceback (most recent call last)",
      "In  \u001b[0;34m[14]\u001b[0m:\nLine \u001b[0;34m1\u001b[0m:     env.workspace = \u001b[33mr\u001b[39;49;00m\u001b[33m'\u001b[39;49;00m\u001b[33mC:\u001b[39;49;00m\u001b[33m\\\u001b[39;49;00m\u001b[33mSchool\u001b[39;49;00m\u001b[33m\\\u001b[39;49;00m\u001b[33mGIS 5571\u001b[39;49;00m\u001b[33m\\\u001b[39;49;00m\u001b[33mLocal\u001b[39;49;00m\u001b[33m\\\u001b[39;49;00m\u001b[33mLab1 Data\u001b[39;49;00m\u001b[33m\\\u001b[39;49;00m\u001b[33mLab1 Project\u001b[39;49;00m\u001b[33m\\\u001b[39;49;00m\u001b[33mLab1 Project.gdb\u001b[39;49;00m\u001b[33m'\u001b[39;49;00m \u001b[37m# Setting environment to project gdb\u001b[39;49;00m\n",
      "\u001b[0;31mNameError\u001b[0m: name 'env' is not defined\n\u001b[0;31m---------------------------------------------------------------------------\u001b[0m"
     ]
    }
   ],
   "source": [
    "from arcpy import env\n",
    "\n",
    "env.workspace = r'C:\\School\\GIS 5571\\Local\\Lab1 Data\\Lab1 Project\\Lab1 Project.gdb' # Setting environment to project gdb\n",
    "output_feature_class = 'Playgrounds' # setting feature class name\n",
    "arcpy.management.CreateFeatureclass(env.workspace, output_feature_class, 'POINT', spatial_reference=arcpy.SpatialReference(4326)) # Create a new feature class for points\n",
    "\n",
    "output_fields = [('Name', 'TEXT'), ('Address', 'TEXT')] # Setting feature class fields\n",
    "for field_name, field_type in output_fields: # Add fields to the feature class\n",
    "    arcpy.management.AddField(output_feature_class, field_name, field_type)\n",
    "\n",
    "with arcpy.da.InsertCursor(output_feature_class, ['SHAPE@XY'] + [field[0] for field in output_fields]) as cursor: # Populate feature class with playgrouond data\n",
    "    for place in output_playgrounds:\n",
    "        x = place['geometry']['location']['lng'] # setting Long\n",
    "        y = place['geometry']['location']['lat'] # setting Lat\n",
    "        name = place['name'] # Setting name\n",
    "        address = place['formatted_address'] # Setting address\n",
    "        cursor.insertRow([(x, y), name, address]) # Inserting new point feature with information"
   ]
  },
  {
   "cell_type": "code",
   "execution_count": 52,
   "metadata": {},
   "outputs": [
    {
     "data": {
      "text/html": [
       "<div class='gpresult'><h2>Messages</h2><div id='messages' data-messages='[\"Start Time: Thursday, September 21, 2023 1:42:00 PM\",\"Succeeded at Thursday, September 21, 2023 1:42:01 PM (Elapsed Time: 0.60 seconds)\"]' data-show='true'><div id = 'default' /></div></div>"
      ],
      "text/plain": [
       "<Result 'C:\\\\School\\\\GIS 5571\\\\Local\\\\Lab1 Data\\\\playgrounds.shp'>"
      ]
     },
     "execution_count": 52,
     "metadata": {},
     "output_type": "execute_result"
    }
   ],
   "source": [
    "# The following code is present if the user would like to export the new feature class\n",
    "in_features = output_feature_class\n",
    "out_features = r'C:\\School\\GIS 5571\\Local\\Lab1 Data\\playgrounds.shp'\n",
    "arcpy.conversion.ExportFeatures(in_features, out_features)"
   ]
  },
  {
   "cell_type": "code",
   "execution_count": null,
   "metadata": {},
   "outputs": [],
   "source": []
  }
 ],
 "metadata": {
  "kernelspec": {
   "display_name": "ArcGISPro",
   "language": "Python",
   "name": "python3"
  },
  "language_info": {
   "file_extension": ".py",
   "name": "python",
   "version": "3"
  }
 },
 "nbformat": 4,
 "nbformat_minor": 2
}
