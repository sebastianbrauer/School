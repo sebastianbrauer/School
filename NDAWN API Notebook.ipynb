{
 "cells": [
  {
   "cell_type": "code",
   "execution_count": 4,
   "metadata": {},
   "outputs": [],
   "source": [
    "'''\n",
    "READ ME:\n",
    "\n",
    "This code can be used to pull any spatial Dataset using the NDAWN API.\n",
    "You will need to input the station number, the variable, the time interval, the start and end date, and the download save location.\n",
    "The code that writes the output csv file, and removed unecessary rows was written by ChatGPT.\n",
    "'''\n",
    "\n",
    "import requests\n",
    "import arcpy\n",
    "\n",
    "base_url = 'https://ndawn.ndsu.nodak.edu/table.csv' # Required input for notebook function\n",
    "\n",
    "station_numbers = [78] # Required input for notebook function\n",
    "station_substrings = [] # empty station list variable\n",
    "for station in station_numbers:\n",
    "    station_substrings.append(f\"station={station}\")\n",
    "station_query = \"&\".join(station_substrings) # Concatenate station sub-strings with '&' as separator\n",
    "    \n",
    "variables = ['hdt'] # Required input for notebook function\n",
    "variable_substrings = [] # empty variable list variable\n",
    "for variable in variables:\n",
    "    variable_substrings.append(f\"variable={variable}\")\n",
    "variable_query = \"&\".join(variable_substrings)# Concatenate variable sub-strings with '&' as separator\n",
    "\n",
    "begin_date = '2023-09-20' # Required input for notebook function\n",
    "end_date = '2023-09-20' # Required input for notebook function\n",
    "ttype = \"hourly\"  # Required input for notebook function\n",
    "\n",
    "api_url = f\"{base_url}?{station_query}&{variable_query}&ttype={ttype}&quick_pick=&begin_date={begin_date}&end_date={end_date}\" # Construct the final API URL"
   ]
  },
  {
   "cell_type": "code",
   "execution_count": 5,
   "metadata": {},
   "outputs": [],
   "source": [
    "response = requests.get(api_url) # Run api request\n",
    "file_path = r'C:\\School\\GIS 5571\\Local\\Lab1 Data\\NDAWN_78.csv' # this is a required input field\n",
    "with open(file_path, 'wb') as file: # write the file to the selected path\n",
    "    file.write(response.content)"
   ]
  },
  {
   "cell_type": "code",
   "execution_count": 6,
   "metadata": {},
   "outputs": [],
   "source": [
    "import csv\n",
    "\n",
    "input_csv_file = r'C:\\School\\GIS 5571\\Local\\Lab1 Data\\NDAWN_78.csv' # Input file name\n",
    "output_csv_file = r'C:\\School\\GIS 5571\\Local\\Lab1 Data\\NDAWN_78_Clean.csv' # Output file name\n",
    "rows_to_delete = [0, 1, 2, 4]  # Rows to be deleted, note that if the output csv contains multiple tables, more rows will need to be added\n",
    "\n",
    "with open(input_csv_file, 'r', newline='') as input_file, open(output_csv_file, 'w', newline='') as output_file:\n",
    "    csv_reader = csv.reader(input_file) # Setting input file as the reader file\n",
    "    csv_writer = csv.writer(output_file) # Setting output file as the writer file\n",
    "\n",
    "    for row_index, row in enumerate(csv_reader): # For every row in the reader\n",
    "        if row_index not in rows_to_delete: # If row is not present in delete list\n",
    "            csv_writer.writerow(row) # Write row information to new file"
   ]
  },
  {
   "cell_type": "code",
   "execution_count": 7,
   "metadata": {},
   "outputs": [
    {
     "data": {
      "text/html": [
       "<div class='gpresult'><h2>Messages</h2><div id='messages' data-messages='[\"Start Time: Thursday, September 21, 2023 6:03:19 PM\",\"Succeeded at Thursday, September 21, 2023 6:03:21 PM (Elapsed Time: 2.46 seconds)\"]' data-show='true'><div id = 'default' /></div></div>"
      ],
      "text/plain": [
       "<Result 'C:\\\\School\\\\GIS 5571\\\\Local\\\\Lab1 Data\\\\Lab1 Project\\\\Lab1 Project.gdb\\\\NDAWN_Points'>"
      ]
     },
     "execution_count": 7,
     "metadata": {},
     "output_type": "execute_result"
    }
   ],
   "source": [
    "output_feature_class = r'C:\\School\\GIS 5571\\Local\\Lab1 Data\\Lab1 Project\\Lab1 Project.gdb\\NDAWN_Points' # Points Feature Class\n",
    "x_field = 'Longitude'  # Long field from csv\n",
    "y_field = 'Latitude'   # Lat field from csv\n",
    "arcpy.management.XYTableToPoint(output_csv_file, output_feature_class, x_field, y_field) # Running the tool"
   ]
  },
  {
   "cell_type": "code",
   "execution_count": 8,
   "metadata": {},
   "outputs": [
    {
     "data": {
      "text/html": [
       "<div class='gpresult'><h2>Messages</h2><div id='messages' data-messages='[\"Start Time: Thursday, September 21, 2023 6:03:27 PM\",\"Succeeded at Thursday, September 21, 2023 6:03:28 PM (Elapsed Time: 0.66 seconds)\"]' data-show='true'><div id = 'default' /></div></div>"
      ],
      "text/plain": [
       "<Result 'C:\\\\School\\\\GIS 5571\\\\Local\\\\Lab1 Data\\\\NDAWN_Points.shp'>"
      ]
     },
     "execution_count": 8,
     "metadata": {},
     "output_type": "execute_result"
    }
   ],
   "source": [
    "# The following code is present if the user would like to export the new feature class\n",
    "in_features = output_feature_class\n",
    "out_features = r'C:\\School\\GIS 5571\\Local\\Lab1 Data\\NDAWN_Points.shp'\n",
    "arcpy.conversion.ExportFeatures(in_features, out_features)"
   ]
  },
  {
   "cell_type": "code",
   "execution_count": null,
   "metadata": {},
   "outputs": [],
   "source": []
  }
 ],
 "metadata": {
  "kernelspec": {
   "display_name": "ArcGISPro",
   "language": "Python",
   "name": "python3"
  },
  "language_info": {
   "file_extension": ".py",
   "name": "python",
   "version": "3"
  }
 },
 "nbformat": 4,
 "nbformat_minor": 2
}
